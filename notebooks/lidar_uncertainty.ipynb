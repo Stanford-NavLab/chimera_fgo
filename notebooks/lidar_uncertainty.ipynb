{
 "cells": [
  {
   "cell_type": "code",
   "execution_count": null,
   "metadata": {},
   "outputs": [],
   "source": [
    "import numpy as np\n",
    "import struct \n",
    "import os\n",
    "import plotly.graph_objects as go\n",
    "import open3d as o3d\n",
    "\n",
    "import lgchimera.general as general\n",
    "from lgchimera.io import read_lidar_bin, read_gt\n",
    "from lgchimera.registration import initialize_source_and_target, p2p_ICP, p2pl_ICP\n",
    "from lgchimera.geom_util import se3_expmap, se3_logmap\n",
    "\n",
    "%load_ext autoreload\n",
    "%autoreload 2"
   ]
  },
  {
   "cell_type": "code",
   "execution_count": null,
   "metadata": {},
   "outputs": [],
   "source": [
    "binpath = os.path.join(os.getcwd(), '..', 'data', 'kitti', '2011_09_26_drive_0001_sync', 'velodyne_points', 'data')\n",
    "PC_data = read_lidar_bin(binpath)"
   ]
  },
  {
   "cell_type": "code",
   "execution_count": null,
   "metadata": {},
   "outputs": [],
   "source": [
    "P1 = PC_data[0]\n",
    "P2 = PC_data[1]"
   ]
  },
  {
   "cell_type": "code",
   "execution_count": null,
   "metadata": {},
   "outputs": [],
   "source": [
    "fig = go.Figure(data=[general.pc_plot_trace(P1, size=2), general.pc_plot_trace(P2, size=2, color='red')])\n",
    "fig.update_layout(width=1600, height=900, \n",
    "    scene=dict(aspectmode='data', xaxis=dict(visible=False), yaxis=dict(visible=False), zaxis=dict(visible=False)))\n",
    "fig.show()"
   ]
  },
  {
   "cell_type": "code",
   "execution_count": null,
   "metadata": {},
   "outputs": [],
   "source": [
    "from lgchimera.registration import p2pl_ICP_with_covariance\n",
    "\n",
    "T_ini = se3_expmap(0.0*np.ones(6))\n",
    "source, target = initialize_source_and_target(P1, P2)\n",
    "reg_p2l, Q = p2pl_ICP_with_covariance(source, target, threshold=1, trans_init=T_ini)\n",
    "T = reg_p2l.transformation\n",
    "print(T, Q)"
   ]
  },
  {
   "attachments": {},
   "cell_type": "markdown",
   "metadata": {},
   "source": [
    "## Adaptive Covariance Estimation (Shetty)"
   ]
  },
  {
   "attachments": {},
   "cell_type": "markdown",
   "metadata": {},
   "source": [
    "### LOAM feature extraction"
   ]
  },
  {
   "cell_type": "code",
   "execution_count": null,
   "metadata": {},
   "outputs": [],
   "source": [
    "N = 100\n",
    "P = np.random.rand(N, 3)"
   ]
  },
  {
   "cell_type": "code",
   "execution_count": null,
   "metadata": {},
   "outputs": [],
   "source": [
    "# Covariance matrix\n",
    "def pc_covariance(P):\n",
    "    N = len(P)\n",
    "    u = np.mean(P, axis=0)[None,:]\n",
    "    C = (P.T @ P) / N - u.T @ u\n",
    "    return C"
   ]
  },
  {
   "cell_type": "code",
   "execution_count": null,
   "metadata": {},
   "outputs": [],
   "source": [
    "# Curvature\n",
    "R = 0.3\n",
    "i = 50\n",
    "p = P[i]\n",
    "\n",
    "# \"Normal change rate\" (from PCL)\n",
    "# Local patch\n",
    "local_idx = np.linalg.norm(P - p, axis=1) < R\n",
    "p_local = P[local_idx]\n",
    "C = pc_covariance(p_local)\n",
    "eigvals, eigvecs = np.linalg.eig(C)\n",
    "c = min(eigvals) / np.sum(eigvals)\n",
    "c"
   ]
  },
  {
   "cell_type": "code",
   "execution_count": null,
   "metadata": {},
   "outputs": [],
   "source": [
    "def get_curvatures(P, R=1.0):\n",
    "    \"\"\"Get curvatures of point cloud\n",
    "    \n",
    "    Parameters\n",
    "    ----------\n",
    "    P : np.array\n",
    "        Point cloud\n",
    "    \n",
    "    Returns\n",
    "    -------\n",
    "    curvatures : np.array\n",
    "        Curvatures of each point in point cloud\n",
    "\n",
    "    \"\"\"\n",
    "    curvatures = np.zeros(P.shape[0])\n",
    "    for i, p in enumerate(P):\n",
    "        print(i)\n",
    "        # Local patch\n",
    "        local_idx = np.linalg.norm(P - p, axis=1) < R\n",
    "        p_local = P[local_idx]\n",
    "        C = pc_covariance(p_local)\n",
    "        eigvals, eigvecs = np.linalg.eig(C)\n",
    "        curvatures[i] = min(eigvals) / np.sum(eigvals)\n",
    "    return curvatures"
   ]
  },
  {
   "cell_type": "code",
   "execution_count": null,
   "metadata": {},
   "outputs": [],
   "source": [
    "curvatures = get_curvatures(P1)"
   ]
  },
  {
   "cell_type": "code",
   "execution_count": null,
   "metadata": {},
   "outputs": [],
   "source": [
    "min(curvatures), max(curvatures)"
   ]
  },
  {
   "cell_type": "code",
   "execution_count": null,
   "metadata": {},
   "outputs": [],
   "source": [
    "fig = go.Figure(data=general.pc_plot_trace(P1, size=2, color=curvatures))\n",
    "fig.update_layout(width=1600, height=900, \n",
    "    scene=dict(aspectmode='data', xaxis=dict(visible=False), yaxis=dict(visible=False), zaxis=dict(visible=False)))\n",
    "fig.show()"
   ]
  },
  {
   "cell_type": "markdown",
   "metadata": {},
   "source": [
    "## Brossard ICP Covariance"
   ]
  },
  {
   "cell_type": "markdown",
   "metadata": {},
   "source": [
    "### Sensor noise term ($G Q_{sensor} G^T$)"
   ]
  },
  {
   "cell_type": "code",
   "execution_count": null,
   "metadata": {},
   "outputs": [],
   "source": [
    "sigma = 0.02\n",
    "bias = 0.05\n",
    "\n",
    "T_ini = np.eye(4)\n",
    "source, target = initialize_source_and_target(P1, P2)\n",
    "reg_p2l = p2pl_ICP(source, target, threshold=1, trans_init=T_ini)[0]\n",
    "T_rel = reg_p2l.transformation"
   ]
  },
  {
   "cell_type": "code",
   "execution_count": null,
   "metadata": {},
   "outputs": [],
   "source": [
    "corrs = np.asarray(reg_p2l.correspondence_set)\n",
    "target_normals = np.asarray(target.normals)"
   ]
  },
  {
   "cell_type": "code",
   "execution_count": null,
   "metadata": {},
   "outputs": [],
   "source": [
    "np.asarray(source.points)"
   ]
  },
  {
   "cell_type": "code",
   "execution_count": null,
   "metadata": {},
   "outputs": [],
   "source": [
    "B = np.zeros(6)\n",
    "A = np.zeros((6,6))\n",
    "for i,j in corrs:\n",
    "    n = target_normals[j]\n",
    "    p_T = (T_rel @ np.hstack((P1[i], 1)))[:3]\n",
    "    B_i = -np.hstack((np.cross(p_T, n), n))\n",
    "    B += B_i\n",
    "    A += B_i[:,None] @ B_i[:,None].T"
   ]
  },
  {
   "cell_type": "code",
   "execution_count": null,
   "metadata": {},
   "outputs": [],
   "source": [
    "A_inv = np.linalg.inv(A)"
   ]
  },
  {
   "cell_type": "code",
   "execution_count": null,
   "metadata": {},
   "outputs": [],
   "source": [
    "B"
   ]
  },
  {
   "cell_type": "code",
   "execution_count": null,
   "metadata": {},
   "outputs": [],
   "source": [
    "sigma**2 * A_inv + A_inv @ B[:,None] * bias * B[:,None].T @ A_inv "
   ]
  },
  {
   "cell_type": "markdown",
   "metadata": {},
   "source": [
    "### Initialization noise term ($(I - J) Q_{ini} (I - J)^T$)"
   ]
  },
  {
   "cell_type": "code",
   "execution_count": null,
   "metadata": {},
   "outputs": [],
   "source": [
    "# Parameters\n",
    "T_ini = np.eye(4)\n",
    "Q_ini = np.eye(6)\n",
    "\n",
    "source, target = initialize_source_and_target(P1, P2)\n",
    "T_icp = p2pl_ICP(source, target, threshold=1, trans_init=T_ini)[0].transformation"
   ]
  },
  {
   "cell_type": "code",
   "execution_count": null,
   "metadata": {},
   "outputs": [],
   "source": [
    "# Set sigma points\n",
    "v_ini = 12 * [None]\n",
    "v_ini[:6] = np.hsplit(np.sqrt(6 * Q_ini), 6)\n",
    "v_ini[6:] = np.hsplit(-np.sqrt(6 * Q_ini), 6)"
   ]
  },
  {
   "cell_type": "code",
   "execution_count": null,
   "metadata": {},
   "outputs": [],
   "source": [
    "# Propagate sigma points through\n",
    "T_ini_samples = 12 * [None]\n",
    "T_icp_samples = 12 * [None]\n",
    "v_icp = 12 * [None]\n",
    "\n",
    "for i, v in enumerate(v_ini):\n",
    "    T_ini_samples[i] = T_ini @ se3_expmap(v.flatten())\n",
    "    T_icp_samples[i] = T_ini_samples[i] @ p2pl_ICP(source, target, threshold=1, trans_init=T_ini_samples[i])[0].transformation\n",
    "    v_icp[i] = se3_logmap(np.linalg.inv(T_icp) @ T_icp_samples[i])\n",
    "\n",
    "v_icp = np.array(v_icp)"
   ]
  },
  {
   "cell_type": "code",
   "execution_count": null,
   "metadata": {},
   "outputs": [],
   "source": [
    "# Compute covariance and infer J\n",
    "cov = (v_icp.T @ v_icp) / 12\n",
    "v_icp_mean = np.mean(v_icp, axis=0)\n",
    "J = -(1/12) * (v_icp - v_icp_mean).T @ v_icp @ np.linalg.inv(Q_ini) + np.eye(6)"
   ]
  },
  {
   "cell_type": "code",
   "execution_count": null,
   "metadata": {},
   "outputs": [],
   "source": [
    "np.set_printoptions(suppress=True, precision=3)"
   ]
  },
  {
   "cell_type": "code",
   "execution_count": null,
   "metadata": {},
   "outputs": [],
   "source": [
    "cov"
   ]
  },
  {
   "cell_type": "code",
   "execution_count": null,
   "metadata": {},
   "outputs": [],
   "source": [
    "np.linalg.eigvals(cov)"
   ]
  },
  {
   "cell_type": "code",
   "execution_count": null,
   "metadata": {},
   "outputs": [],
   "source": [
    "np.linalg.inv(cov)"
   ]
  },
  {
   "cell_type": "code",
   "execution_count": null,
   "metadata": {},
   "outputs": [],
   "source": [
    "J"
   ]
  },
  {
   "cell_type": "code",
   "execution_count": null,
   "metadata": {},
   "outputs": [],
   "source": []
  }
 ],
 "metadata": {
  "kernelspec": {
   "display_name": "Python 3.9.13 ('chimera')",
   "language": "python",
   "name": "python3"
  },
  "language_info": {
   "codemirror_mode": {
    "name": "ipython",
    "version": 3
   },
   "file_extension": ".py",
   "mimetype": "text/x-python",
   "name": "python",
   "nbconvert_exporter": "python",
   "pygments_lexer": "ipython3",
   "version": "3.9.13"
  },
  "orig_nbformat": 4,
  "vscode": {
   "interpreter": {
    "hash": "b51628fb31a099f3a52b8f65894da0831d19a49b2da6494c0c73d17c09e49a34"
   }
  }
 },
 "nbformat": 4,
 "nbformat_minor": 2
}
