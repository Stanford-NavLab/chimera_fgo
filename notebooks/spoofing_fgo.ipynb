{
 "cells": [
  {
   "cell_type": "code",
   "execution_count": null,
   "metadata": {},
   "outputs": [],
   "source": [
    "import numpy as np\n",
    "import struct \n",
    "import os\n",
    "import plotly.graph_objects as go\n",
    "import time\n",
    "from copy import deepcopy\n",
    "from scipy.stats import chi2\n",
    "import matplotlib.pyplot as plt\n",
    "\n",
    "import lgchimera.general as general\n",
    "from lgchimera.io import read_lidar_bin, read_gt\n",
    "from lgchimera.pose_graph import PoseGraph\n",
    "\n",
    "%load_ext autoreload\n",
    "%autoreload 2"
   ]
  },
  {
   "cell_type": "code",
   "execution_count": null,
   "metadata": {},
   "outputs": [],
   "source": [
    "np.set_printoptions(suppress=True, precision=3)"
   ]
  },
  {
   "cell_type": "code",
   "execution_count": null,
   "metadata": {},
   "outputs": [],
   "source": [
    "kitti_seq = '0027'\n",
    "start_idx = 0"
   ]
  },
  {
   "cell_type": "markdown",
   "metadata": {},
   "source": [
    "Ground truth trajectory"
   ]
  },
  {
   "cell_type": "code",
   "execution_count": null,
   "metadata": {},
   "outputs": [],
   "source": [
    "gtpath = os.path.join(os.getcwd(), '..', 'data', 'kitti', kitti_seq, 'oxts', 'data')\n",
    "gt_data = read_gt(gtpath)\n",
    "gt_data = gt_data[start_idx:]\n",
    "lla = gt_data[:,:3]"
   ]
  },
  {
   "cell_type": "code",
   "execution_count": null,
   "metadata": {},
   "outputs": [],
   "source": [
    "from lgchimera.general import lla_to_ecef, ecef2enu\n",
    "\n",
    "ref_lla = lla[0]\n",
    "ecef = lla_to_ecef(*lla[0])\n",
    "gt_enu = np.zeros((len(lla),3))\n",
    "\n",
    "for i in range(len(lla)):\n",
    "    ecef = lla_to_ecef(*lla[i])\n",
    "    gt_enu[i] = ecef2enu(ecef[0], ecef[1], ecef[2], ref_lla[0], ref_lla[1], ref_lla[2])\n",
    "\n",
    "gt_enu = gt_enu[:,[1,0,2]]"
   ]
  },
  {
   "cell_type": "code",
   "execution_count": null,
   "metadata": {},
   "outputs": [],
   "source": [
    "from scipy.spatial.transform import Rotation as R\n",
    "\n",
    "heading = gt_data[0][5] # heading angle\n",
    "r = R.from_euler('XYZ', [0, 0, heading])\n",
    "R_heading = r.as_matrix()"
   ]
  },
  {
   "cell_type": "code",
   "execution_count": null,
   "metadata": {},
   "outputs": [],
   "source": [
    "N = len(gt_enu)\n",
    "gt_traj = go.Scatter(x=gt_enu[:,0], y=gt_enu[:,1], hovertext=np.arange(N), name='Ground-truth')\n",
    "fig = go.Figure(data=[gt_traj])\n",
    "fig.update_layout(width=900, height=700, scene=dict(aspectmode='data'))\n",
    "fig.show()"
   ]
  },
  {
   "cell_type": "markdown",
   "metadata": {},
   "source": [
    "Load LiDAR ICP results"
   ]
  },
  {
   "cell_type": "code",
   "execution_count": null,
   "metadata": {},
   "outputs": [],
   "source": [
    "# Load registration results from file\n",
    "data_path = os.path.join(os.getcwd(), '..', 'data', 'kitti', kitti_seq, 'results', 'p2pl_icp')\n",
    "ds_rate = 10\n",
    "Q_ini = 0.01\n",
    "run_name = 'start_{}_ds_{}_Q_ini_{}'.format(start_idx, ds_rate, Q_ini)\n",
    "lidar_Rs = np.load(os.path.join(data_path, 'lidar_Rs_'+run_name+'.npy'))\n",
    "lidar_ts = np.load(os.path.join(data_path, 'lidar_ts_'+run_name+'.npy'))\n",
    "positions = np.load(os.path.join(data_path, 'positions_'+run_name+'.npy'))\n",
    "lidar_covariances = np.load(os.path.join(data_path, 'covariances_'+run_name+'.npy'))\n",
    "N = len(lidar_Rs)"
   ]
  },
  {
   "cell_type": "code",
   "execution_count": null,
   "metadata": {},
   "outputs": [],
   "source": [
    "lidar_traj = go.Scatter(x=positions[:,0], y=positions[:,1], hovertext=np.arange(N), name='Lidar odometry')\n",
    "gt_traj = go.Scatter(x=gt_enu[:N,0], y=gt_enu[:N,1], hovertext=np.arange(N), name='Ground-truth')\n",
    "fig = go.Figure(data=[gt_traj, lidar_traj])\n",
    "fig.update_layout(width=900, height=700, scene=dict(aspectmode='data'))\n",
    "fig.show()"
   ]
  },
  {
   "cell_type": "code",
   "execution_count": null,
   "metadata": {},
   "outputs": [],
   "source": [
    "# gt_traj3d = go.Scatter3d(x=gt_enu[:,0], y=gt_enu[:,1], z=gt_enu[:,2], marker=dict(size=2), hovertext=np.arange(N), name='Ground-truth')\n",
    "# lidar_traj3d = go.Scatter3d(x=positions[:,0], y=positions[:,1], z=positions[:,2], marker=dict(size=2), hovertext=np.arange(N), name='Lidar odometry')\n",
    "# fig = go.Figure(data=[gt_traj3d, lidar_traj3d])\n",
    "# fig.update_layout(width=900, height=700, scene=dict(aspectmode='data'))\n",
    "# fig.show()"
   ]
  },
  {
   "attachments": {},
   "cell_type": "markdown",
   "metadata": {},
   "source": [
    "## Sliding window-based optimization"
   ]
  },
  {
   "cell_type": "code",
   "execution_count": null,
   "metadata": {},
   "outputs": [],
   "source": [
    "GPS_SIGMA = 1.5 # [m] (In practice closer to 5)\n",
    "GPS_INFO = np.eye(6)\n",
    "GPS_INFO[:3,:3] *= 1/GPS_SIGMA**2\n",
    "\n",
    "# Information scaling factor\n",
    "#INFO_SCALE = 0.1\n",
    "#GPS_INFO *= INFO_SCALE   \n",
    "GPS_INFO *= 0.001\n",
    "GPS_INFO_AUTH = 100 * GPS_INFO\n",
    "\n",
    "# Lidar information: fixed vs adaptive\n",
    "LIDAR_INFO_FIXED = True\n",
    "LIDAR_INFO = 100 * np.eye(6)\n",
    "LIDAR_INFO[:3,:3] *= 10 \n",
    "\n",
    "#LIDAR_INFO *= INFO_SCALE\n",
    "\n",
    "GPS_RATE = 10  # Ratio of lidar to GPS measurements\n",
    "MAX_BIAS = 50  # Spoofing maximum bias [m]"
   ]
  },
  {
   "cell_type": "code",
   "execution_count": null,
   "metadata": {},
   "outputs": [],
   "source": [
    "np.random.seed(0)\n",
    "N_TRAJ = N  # Total length of sequence \n",
    "N_WINDOW = 100  # Window size\n",
    "N_EPOCH = 1800  # Length of Chimera epoch"
   ]
  },
  {
   "cell_type": "code",
   "execution_count": null,
   "metadata": {},
   "outputs": [],
   "source": [
    "gps_noises = np.random.normal(0, GPS_SIGMA, (N_TRAJ, 3)) "
   ]
  },
  {
   "cell_type": "code",
   "execution_count": null,
   "metadata": {},
   "outputs": [],
   "source": [
    "# Compute threshold\n",
    "alpha = 0.001  # False alarm (FA) rate\n",
    "T = chi2.ppf(1-alpha, df=3*N_WINDOW/GPS_RATE)\n",
    "print(\"Threshold = \", T)\n",
    "\n",
    "TEST_STAT_SCALE = 100.0"
   ]
  },
  {
   "cell_type": "code",
   "execution_count": null,
   "metadata": {},
   "outputs": [],
   "source": [
    "# GPS rate\n",
    "GPS_RATE = 10  # Ratio of lidar to GPS measurements\n",
    "\n",
    "g = PoseGraph()\n",
    "\n",
    "# Add initial node\n",
    "R_abs = R_heading.copy()\n",
    "t_abs = gt_enu[0].copy()\n",
    "g.add_node(1, (R_abs, t_abs))\n",
    "\n",
    "# Form spoofing attack\n",
    "gps_spoofing_biases = np.zeros(N_TRAJ)  \n",
    "attack_start_idx = N_TRAJ // 2\n",
    "#gps_spoofing_biases[attack_start_idx:] = np.linspace(0, MAX_BIAS, N_nodes-attack_start_idx)  # Ramping attack\n",
    "gps_spoofing_biases[attack_start_idx:] = MAX_BIAS  # Jump attack\n",
    "\n",
    "# Simulate initial GPS measurement\n",
    "gps_pos = gt_enu[0] + gps_noises[0]\n",
    "gps_pos[0] += gps_spoofing_biases[0]\n",
    "# Add GPS factor and edge\n",
    "g.add_factor(1, (R_abs, gps_pos), information=GPS_INFO)\n",
    "\n",
    "# Authentication variables\n",
    "last_auth_idx = 0  # Index of last Chimera authentication\n",
    "auth = True  # Authentication status\n",
    "\n",
    "# Store results\n",
    "graph_positions = []\n",
    "gps_measurements = []\n",
    "fgo_losses = []\n",
    "q_gpss = []\n",
    "q_lidars = []\n",
    "\n",
    "# For each new frame\n",
    "for k in range(1, N):\n",
    "    start_time = time.time()\n",
    "\n",
    "    # Get LiDAR odometry\n",
    "    R_hat = np.array(lidar_Rs[k-1])\n",
    "    t_hat = np.array(lidar_ts[k-1])\n",
    "\n",
    "    # Initialize new node with LiDAR odometry estimate\n",
    "    R_abs = R_hat @ R_abs\n",
    "    t_abs += R_abs @ t_hat\n",
    "    g.add_node(k+1, (R_abs, t_abs))\n",
    "\n",
    "    # Add LiDAR odometry edge\n",
    "    if LIDAR_INFO_FIXED:\n",
    "        lidar_information = LIDAR_INFO\n",
    "    else:\n",
    "        lidar_information = np.linalg.inv(lidar_covariances[k-1])\n",
    "    g.add_edge([k, k+1], (R_hat, t_hat), information=lidar_information)\n",
    "\n",
    "    if k % GPS_RATE == 0:\n",
    "\n",
    "        # Check for authentication\n",
    "        if k % N_EPOCH == 0:\n",
    "            print(\"------- CHIMERA AUTHENTICATION -------\")\n",
    "            #auth = True\n",
    "            # Set authentication information\n",
    "            #g.set_factor_informations(start=last_auth_idx, end=k, information=GPS_INFO_AUTH)\n",
    "            last_auth_idx = k\n",
    "\n",
    "        # Simulate GPS measurement\n",
    "        gps_pos = gt_enu[k] + gps_noises[k]\n",
    "        gps_pos[0] += gps_spoofing_biases[k]\n",
    "        gps_measurements.append(gps_pos)\n",
    "\n",
    "        # Add GPS factor and edge\n",
    "        if auth:\n",
    "            g.add_factor(k+1, (R_abs, gps_pos), information=GPS_INFO)\n",
    "        else:\n",
    "            g.add_factor(k+1, (R_abs, gps_pos), information=np.zeros((6,6)))\n",
    "\n",
    "        # Trim to window size\n",
    "        graph_size = max([v.id for v in g.graph._vertices])\n",
    "        if graph_size > N_WINDOW:\n",
    "            # Save pose before trimming\n",
    "            graph_positions.append(g.get_positions()[:GPS_RATE])\n",
    "            g.trim_window(n=GPS_RATE)\n",
    "\n",
    "        # Compute test statistic\n",
    "        q_gps, q_lidar = g.test_statistic()\n",
    "        q_gpss.append(q_gps)\n",
    "        q_lidars.append(q_lidar)\n",
    "        #print(\"     q=\", q)\n",
    "\n",
    "        # Check if attack is detected\n",
    "        if TEST_STAT_SCALE * q_gps > T:\n",
    "            print(\"ATTACK DETECTED: k =\", k)\n",
    "            auth = False\n",
    "            # Spoofing mitigation\n",
    "            g.set_factor_informations(start=last_auth_idx, end=k, information=np.zeros((6,6)))\n",
    "\n",
    "        # Optimize\n",
    "        g.optimize(verbose=False)\n",
    "\n",
    "        # Update latest pose\n",
    "        R_abs, t_abs = g.get_poses()[-1]\n",
    "\n",
    "        # Time each iteration\n",
    "        print(k, \"/\", N_TRAJ, \": t=\", time.time() - start_time, \"s\")\n",
    "\n",
    "graph_positions = np.array(graph_positions).reshape(-1,3)\n",
    "gps_measurements = np.array(gps_measurements)"
   ]
  },
  {
   "cell_type": "code",
   "execution_count": null,
   "metadata": {},
   "outputs": [],
   "source": [
    "# fig = go.Figure(data=g.plot_trace())\n",
    "# fig.update_layout(width=1600, height=900, scene=dict(aspectmode='data'))\n",
    "# fig.show()"
   ]
  },
  {
   "cell_type": "code",
   "execution_count": null,
   "metadata": {},
   "outputs": [],
   "source": [
    "q_gpss = q_gpss[:350]"
   ]
  },
  {
   "cell_type": "code",
   "execution_count": null,
   "metadata": {},
   "outputs": [],
   "source": [
    "# Plot test statistic in plotly\n",
    "fig = go.Figure()\n",
    "fig.add_trace(go.Scatter(x=np.arange(len(q_gpss)), y=100*np.array(q_gpss), name='GPS test statistic'))\n",
    "#fig.add_trace(go.Scatter(x=np.arange(len(q_gpss)), y=np.array(q_lidars), name='LiDAR test statistic'))\n",
    "fig.add_trace(go.Scatter(x=np.arange(len(q_gpss)), y=T*np.ones(len(q_gpss)), name='Threshold', line=dict(color='red', dash='dash')))\n",
    "# Add vertical line at start of spoofing attack\n",
    "fig.add_shape(type=\"line\", x0=attack_start_idx/GPS_RATE, y0=-20, x1=attack_start_idx/GPS_RATE, y1=250, line=dict(color=\"black\", width=2, dash=\"dash\"))\n",
    "fig.update_layout(width=1000, height=500, xaxis_title=\"Time (s)\", yaxis_title=\"Test statistic\")\n",
    "fig.update_layout(legend=dict(x=0.78, y=0.98), font=dict(size=15))\n",
    "fig.show()"
   ]
  },
  {
   "cell_type": "code",
   "execution_count": null,
   "metadata": {},
   "outputs": [],
   "source": [
    "N_TRAJ = len(gt_enu)"
   ]
  },
  {
   "cell_type": "code",
   "execution_count": null,
   "metadata": {},
   "outputs": [],
   "source": [
    "gps_spoofing_biases = np.zeros(N_TRAJ)  \n",
    "attack_start_idx = N_TRAJ // 2\n",
    "#gps_spoofing_biases[attack_start_idx:] = np.linspace(0, 1, N_TRAJ-attack_start_idx)  # Ramping attack\n",
    "gps_spoofing_biases[attack_start_idx:] = 1\n",
    "\n",
    "# 0027 traj len: 7:35 min = 455 sec\n",
    "# Spoofing duration = 455 / 2 = 227.5 sec\n",
    "# 0.1 m/s => 22.75 m total bias\n",
    "# 0.2 m/s => 45.5 m total bias\n",
    "# 0.5 m/s => 113.75 m total bias\n",
    "# 10 m total bias = 10 / 227.5 = 0.044 m/s\n",
    "# 20 m total bias = 20 / 227.5 = 0.088 m/s\n",
    "# 50 m total bias = 50 / 227.5 = 0.22 m/s\n",
    "spoof_pos_1 = gt_enu.copy()\n",
    "spoof_pos_1[:,0] += 22.75 * gps_spoofing_biases\n",
    "spoof_pos_2 = gt_enu.copy()\n",
    "spoof_pos_2[:,0] += 45.5 * gps_spoofing_biases\n",
    "spoof_pos_3 = gt_enu.copy()\n",
    "spoof_pos_3[:,0] += 113.75 * gps_spoofing_biases"
   ]
  },
  {
   "cell_type": "code",
   "execution_count": null,
   "metadata": {},
   "outputs": [],
   "source": [
    "fgo_traj = go.Scatter(x=graph_positions[:,0], y=graph_positions[:,1], hovertext=np.arange(N), name='FGO trajectory')\n",
    "gt_traj = go.Scatter(x=gt_enu[:N-N_WINDOW,0], y=gt_enu[:N-N_WINDOW,1], hovertext=np.arange(N), name='Ground-truth')\n",
    "# spoof_traj_1 = go.Scatter(x=spoof_pos_1[:N-N_WINDOW,0], y=spoof_pos_1[:N-N_WINDOW,1], hovertext=np.arange(N), name='0.1 m/s Spoofed GPS trajectory', line=dict(color='red', dash='dot'))\n",
    "# spoof_traj_2 = go.Scatter(x=spoof_pos_2[:N-N_WINDOW,0], y=spoof_pos_2[:N-N_WINDOW,1], hovertext=np.arange(N), name='0.2 m/s Spoofed GPS trajectory', line=dict(color='red', dash='dash'))\n",
    "# spoof_traj_3 = go.Scatter(x=spoof_pos_3[:N-N_WINDOW,0], y=spoof_pos_3[:N-N_WINDOW,1], hovertext=np.arange(N), name='0.5 m/s Spoofed GPS trajectory', line=dict(color='red', dash='dashdot'))\n",
    "\n",
    "start = go.Scatter(x=[0], y=[0], name='Start', mode='markers', marker=dict(size=10, color='blue'), showlegend=False)\n",
    "fig = go.Figure(data=[gt_traj, fgo_traj, start])\n",
    "fig.update_layout(width=1000, height=1000, xaxis_title='East [m]', yaxis_title='North [m]')\n",
    "# Move legend into plot\n",
    "fig.update_layout(legend=dict(x=0.57, y=0.98), font=dict(size=18))\n",
    "fig.update_yaxes(\n",
    "    scaleanchor = \"x\",\n",
    "    scaleratio = 1,\n",
    "  )\n",
    "fig.update_xaxes(autorange=True)\n",
    "fig.show()"
   ]
  },
  {
   "cell_type": "code",
   "execution_count": null,
   "metadata": {},
   "outputs": [],
   "source": [
    "lidar_traj = go.Scatter(x=graph_positions[:,0], y=graph_positions[:,1], hovertext=np.arange(N), name='Factor graph')\n",
    "gt_traj = go.Scatter(x=gt_enu[:N_nodes,0], y=gt_enu[:N_nodes,1], hovertext=np.arange(N), name='Ground-truth')\n",
    "fig = go.Figure(data=[gt_traj, lidar_traj])\n",
    "fig.update_layout(width=900, height=700, scene=dict(aspectmode='data'))\n",
    "fig.show()"
   ]
  },
  {
   "cell_type": "code",
   "execution_count": null,
   "metadata": {},
   "outputs": [],
   "source": [
    "# RMSE error\n",
    "rmse_xyz = np.sqrt(np.mean((graph_positions - gt_enu[:N_nodes-window_size])**2, axis=0))\n",
    "print(\"RMSE (xyz): \", rmse_xyz)\n",
    "print(\"RMSE (overall): \", rmse_xyz.mean())"
   ]
  },
  {
   "cell_type": "code",
   "execution_count": null,
   "metadata": {},
   "outputs": [],
   "source": [
    "import plotly.express as px\n",
    "# lidar_traj = go.Scatter(x=graph_positions[:,0], y=graph_positions[:,1], hovertext=np.arange(N), name='Factor graph')\n",
    "# gt_traj = go.Scatter(x=gt_ecef[:N_nodes,0], y=gt_ecef[:N_nodes,1], hovertext=np.arange(N), name='Ground-truth', marker=dict(color=qs))\n",
    "# fig = go.Figure(data=[gt_traj, lidar_traj])\n",
    "fig = px.scatter(gt_ecef[1:N_nodes], x=0, y=1, color=qs)\n",
    "fig.update_layout(width=900, height=700, scene=dict(aspectmode='data'))\n",
    "fig.show()"
   ]
  },
  {
   "cell_type": "markdown",
   "metadata": {},
   "source": [
    "## Segmented window-based optimization"
   ]
  },
  {
   "cell_type": "code",
   "execution_count": null,
   "metadata": {},
   "outputs": [],
   "source": [
    "GPS_SIGMA = 1.5 # [m] (In practice closer to 5)\n",
    "GPS_INFO = np.eye(6)\n",
    "GPS_INFO[:3,:3] *= 1/GPS_SIGMA**2\n",
    "GPS_INFO[3:,3:] *= 1  # Scale rotation component "
   ]
  },
  {
   "cell_type": "code",
   "execution_count": null,
   "metadata": {},
   "outputs": [],
   "source": [
    "# Lidar information: fixed vs adaptive\n",
    "LIDAR_INFO_FIXED = False\n",
    "LIDAR_INFO = np.eye(6)\n",
    "LIDAR_INFO[:3,:3] *= 10 \n",
    "\n",
    "# Downsample rate\n",
    "\n",
    "# Lidar GPS relative weighting\n",
    "LIDAR_GPS_WEIGHT = 1.0"
   ]
  },
  {
   "cell_type": "code",
   "execution_count": null,
   "metadata": {},
   "outputs": [],
   "source": [
    "N_nodes = 1000\n",
    "window_size = 100\n",
    "num_windows = N_nodes // window_size\n",
    "\n",
    "# Compute threshold\n",
    "alpha = 0.001\n",
    "T = chi2.ppf(1-alpha, df=3*window_size)\n",
    "print(\"Threshold = \", T)\n",
    "\n",
    "# Initial pose\n",
    "R_abs = R_heading.copy()\n",
    "t_abs = gt_ecef[0].copy()\n",
    "\n",
    "gps_spoofing_biases = np.zeros(N_nodes)  \n",
    "max_bias = 100\n",
    "#gps_spoofing_biases[500:] = np.linspace(0, max_bias, 500)  # Ramping attack\n",
    "\n",
    "graph_positions = []\n",
    "gps_measurements = []\n",
    "qs = []\n",
    "lidar_trajs = []\n",
    "\n",
    "# For each window\n",
    "for i in range(num_windows):\n",
    "    # Form graph over window\n",
    "    g = PoseGraph()\n",
    "\n",
    "    # Add initial node\n",
    "    g.add_node(1, (R_abs, t_abs))\n",
    "\n",
    "    # Simulate GPS measurement\n",
    "    gps_pos = gt_ecef[i*window_size] + np.random.normal(0, GPS_SIGMA, 3) \n",
    "    gps_pos[0] += gps_spoofing_biases[i*window_size]\n",
    "    # Add GPS factor and edge\n",
    "    g.add_factor(1, (np.eye(3), gps_pos), information=GPS_INFO)\n",
    "\n",
    "    for j in range(1,window_size):\n",
    "        idx = i*window_size + j\n",
    "        # Get LiDAR odometry\n",
    "        R_hat = np.array(lidar_Rs[idx-1])\n",
    "        t_hat = np.array(lidar_ts[idx-1])\n",
    "\n",
    "        # Initialize new node with LiDAR odometry estimate\n",
    "        R_abs = R_hat @ R_abs\n",
    "        t_abs += R_abs @ t_hat\n",
    "        g.add_node(j+1, (R_abs, t_abs))\n",
    "\n",
    "        # Add LiDAR odometry edge\n",
    "        if LIDAR_INFO_FIXED:\n",
    "            lidar_information = LIDAR_INFO\n",
    "        else:\n",
    "            lidar_information = np.linalg.inv(lidar_covariances[idx-1])\n",
    "        g.add_edge([j, j+1], (R_hat, t_hat), information=LIDAR_GPS_WEIGHT*lidar_information)\n",
    "\n",
    "        # Simulate GPS measurement\n",
    "        gps_pos = gt_ecef[idx] + np.random.normal(0, GPS_SIGMA, 3) \n",
    "        gps_pos[0] += gps_spoofing_biases[idx]\n",
    "        gps_measurements.append(gps_pos)\n",
    "\n",
    "        # Add GPS factor and edge \n",
    "        g.add_factor(j+1, (R_abs, gps_pos), information=GPS_INFO)\n",
    "\n",
    "    lidar_trajs.append(g.get_positions())\n",
    "\n",
    "    # Compute test statistic\n",
    "    q = g.test_statistic()\n",
    "    qs.append(q)\n",
    "\n",
    "    # Optimize\n",
    "    g.optimize()\n",
    "\n",
    "    # Store positions\n",
    "    graph_positions.append(g.get_positions())\n",
    "\n",
    "    # Update R_abs and t_abs\n",
    "    R_abs, t_abs = g.get_poses()[-1]\n",
    "\n",
    "    # Time each iteration\n",
    "    print(\"window\", i, \"/\", num_windows)\n",
    "\n",
    "graph_positions = np.reshape(graph_positions, (-1,3))\n",
    "gps_measurements = np.asarray(gps_measurements)"
   ]
  },
  {
   "cell_type": "code",
   "execution_count": null,
   "metadata": {},
   "outputs": [],
   "source": [
    "qs"
   ]
  },
  {
   "cell_type": "code",
   "execution_count": null,
   "metadata": {},
   "outputs": [],
   "source": [
    "plt.plot(qs)\n",
    "#plt.plot(T*np.ones(len(qs)), 'r--')\n",
    "plt.title(\"Test statistic vs time\")\n",
    "plt.xlabel(\"Time (frames)\")\n",
    "plt.ylabel(\"Test statistic\")\n",
    "plt.show()"
   ]
  },
  {
   "cell_type": "code",
   "execution_count": null,
   "metadata": {},
   "outputs": [],
   "source": [
    "for lidar_traj in lidar_trajs:\n",
    "    plt.plot(lidar_traj[:,0], lidar_traj[:,1], 'b')\n",
    "\n",
    "plt.plot(gps_measurements[:,0], gps_measurements[:,1], 'r')"
   ]
  },
  {
   "cell_type": "code",
   "execution_count": null,
   "metadata": {},
   "outputs": [],
   "source": [
    "lidar_traj = go.Scatter(x=graph_positions[:,0], y=graph_positions[:,1], hovertext=np.arange(N), name='Factor graph')\n",
    "gt_traj = go.Scatter(x=gt_ecef[:N_nodes,0], y=gt_ecef[:N_nodes,1], hovertext=np.arange(N), name='Ground-truth')\n",
    "gps = go.Scatter(x=gps_measurements[:,0], y=gps_measurements[:,1], hovertext=np.arange(N), name='GPS measurements')\n",
    "fig = go.Figure(data=[gt_traj, lidar_traj, gps])\n",
    "fig.update_layout(width=900, height=700, scene=dict(aspectmode='data'))\n",
    "fig.show()"
   ]
  },
  {
   "cell_type": "code",
   "execution_count": null,
   "metadata": {},
   "outputs": [],
   "source": []
  }
 ],
 "metadata": {
  "kernelspec": {
   "display_name": "chimera",
   "language": "python",
   "name": "python3"
  },
  "language_info": {
   "codemirror_mode": {
    "name": "ipython",
    "version": 3
   },
   "file_extension": ".py",
   "mimetype": "text/x-python",
   "name": "python",
   "nbconvert_exporter": "python",
   "pygments_lexer": "ipython3",
   "version": "3.9.15 (main, Nov 24 2022, 14:31:59) \n[GCC 11.2.0]"
  },
  "orig_nbformat": 4,
  "vscode": {
   "interpreter": {
    "hash": "a5edd088d6b144d42777d3bfeb942dbfa3bc6a1fda937eadc36b79f380c5a6b9"
   }
  }
 },
 "nbformat": 4,
 "nbformat_minor": 2
}
