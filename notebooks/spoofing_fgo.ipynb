{
 "cells": [
  {
   "cell_type": "code",
   "execution_count": null,
   "metadata": {},
   "outputs": [],
   "source": [
    "import numpy as np\n",
    "import struct \n",
    "import os\n",
    "import plotly.graph_objects as go\n",
    "import time\n",
    "\n",
    "import lgchimera.general as general\n",
    "from lgchimera.io import read_lidar_bin, read_gt\n",
    "from lgchimera.pose_graph import PoseGraph\n",
    "\n",
    "%load_ext autoreload\n",
    "%autoreload 2"
   ]
  },
  {
   "cell_type": "code",
   "execution_count": null,
   "metadata": {},
   "outputs": [],
   "source": [
    "start_idx = 1550"
   ]
  },
  {
   "cell_type": "markdown",
   "metadata": {},
   "source": [
    "Ground truth trajectory"
   ]
  },
  {
   "cell_type": "code",
   "execution_count": null,
   "metadata": {},
   "outputs": [],
   "source": [
    "gtpath = os.path.join(os.getcwd(), '..', 'data', 'kitti', '2011_09_30_drive_0028_sync', 'oxts', 'data')\n",
    "gt_data = read_gt(gtpath)\n",
    "gt_data = gt_data[start_idx:]\n",
    "lla = gt_data[:,:3]"
   ]
  },
  {
   "cell_type": "code",
   "execution_count": null,
   "metadata": {},
   "outputs": [],
   "source": [
    "from lgchimera.general import lla_to_ecef, ecef2enu\n",
    "\n",
    "ref_lla = lla[0]\n",
    "ecef = lla_to_ecef(*lla[0])\n",
    "gt_ecef = np.zeros((len(lla),3))\n",
    "\n",
    "for i in range(len(lla)):\n",
    "    ecef = lla_to_ecef(*lla[i])\n",
    "    gt_ecef[i] = ecef2enu(ecef[0], ecef[1], ecef[2], ref_lla[0], ref_lla[1], ref_lla[2])\n",
    "\n",
    "gt_ecef = gt_ecef[:,[1,0,2]]"
   ]
  },
  {
   "cell_type": "code",
   "execution_count": null,
   "metadata": {},
   "outputs": [],
   "source": [
    "from scipy.spatial.transform import Rotation as R\n",
    "\n",
    "heading = gt_data[0][5] # heading angle\n",
    "r = R.from_euler('XYZ', [0, 0, heading])\n",
    "R_heading = r.as_matrix()"
   ]
  },
  {
   "cell_type": "code",
   "execution_count": null,
   "metadata": {},
   "outputs": [],
   "source": [
    "N = len(gt_ecef)\n",
    "gt_traj = go.Scatter(x=gt_ecef[:,0], y=gt_ecef[:,1], hovertext=np.arange(N), name='Ground-truth')\n",
    "fig = go.Figure(data=[gt_traj])\n",
    "fig.update_layout(width=900, height=700, scene=dict(aspectmode='data'))\n",
    "fig.show()"
   ]
  },
  {
   "cell_type": "markdown",
   "metadata": {},
   "source": [
    "Load LiDAR ICP results"
   ]
  },
  {
   "cell_type": "code",
   "execution_count": null,
   "metadata": {},
   "outputs": [],
   "source": [
    "# Load registration results from file\n",
    "data_path = os.path.join(os.getcwd(), '..', 'data', 'kitti', '2011_09_30_drive_0028_sync', 'results', 'p2pl_icp')\n",
    "lidar_Rs = np.load(os.path.join(data_path, 'lidar_Rs_start_1550_ds_10.npy'))\n",
    "lidar_ts = np.load(os.path.join(data_path, 'lidar_ts_start_1550_ds_10.npy'))\n",
    "positions = np.load(os.path.join(data_path, 'positions_start_1550_ds_10.npy'))\n",
    "lidar_covariances = np.load(os.path.join(data_path, 'covariances_start_1550_ds_10.npy'))\n",
    "N = len(lidar_Rs)"
   ]
  },
  {
   "cell_type": "code",
   "execution_count": null,
   "metadata": {},
   "outputs": [],
   "source": [
    "lidar_traj = go.Scatter(x=positions[:,0], y=positions[:,1], hovertext=np.arange(N), name='Lidar odometry')\n",
    "gt_traj = go.Scatter(x=gt_ecef[:N,0], y=gt_ecef[:N,1], hovertext=np.arange(N), name='Ground-truth')\n",
    "fig = go.Figure(data=[gt_traj, lidar_traj])\n",
    "fig.update_layout(width=900, height=700, scene=dict(aspectmode='data'))\n",
    "fig.show()"
   ]
  },
  {
   "cell_type": "code",
   "execution_count": null,
   "metadata": {},
   "outputs": [],
   "source": [
    "gt_traj3d = go.Scatter3d(x=gt_ecef[:,0], y=gt_ecef[:,1], z=gt_ecef[:,2], marker=dict(size=2), hovertext=np.arange(N), name='Ground-truth')\n",
    "lidar_traj3d = go.Scatter3d(x=positions[:,0], y=positions[:,1], z=positions[:,2], marker=dict(size=2), hovertext=np.arange(N), name='Lidar odometry')\n",
    "fig = go.Figure(data=[gt_traj3d, lidar_traj3d])\n",
    "fig.update_layout(width=900, height=700, scene=dict(aspectmode='data'))\n",
    "fig.show()"
   ]
  },
  {
   "attachments": {},
   "cell_type": "markdown",
   "metadata": {},
   "source": [
    "## Sliding window-based optimization"
   ]
  },
  {
   "cell_type": "code",
   "execution_count": null,
   "metadata": {},
   "outputs": [],
   "source": [
    "from scipy.stats import chi2\n",
    "import matplotlib.pyplot as plt"
   ]
  },
  {
   "cell_type": "code",
   "execution_count": null,
   "metadata": {},
   "outputs": [],
   "source": [
    "alpha = 0.001\n",
    "dfs = np.arange(1, 300)\n",
    "Ts = chi2.ppf(1-alpha, df=dfs)\n",
    "#plt.plot(dfs, Ts)\n",
    "fig = go.Figure(data=go.Scatter(x=dfs, y=Ts))\n",
    "fig.update_layout(width=900, height=700, scene=dict(aspectmode='data'))\n",
    "fig.show()"
   ]
  },
  {
   "cell_type": "code",
   "execution_count": null,
   "metadata": {},
   "outputs": [],
   "source": [
    "#np.random.seed(0)\n",
    "\n",
    "# Chimera epoch - every 3 minutes = 180 seconds = 1800 frames\n",
    "# Window size: 10 seconds = 100 frames\n",
    "\n",
    "g = PoseGraph()\n",
    "N_nodes = 1000\n",
    "window_size = 100\n",
    "\n",
    "# Compute threshold\n",
    "alpha = 0.001\n",
    "T = chi2.ppf(1-alpha, df=3*window_size)\n",
    "print(\"Threshold = \", T)\n",
    "\n",
    "# Add initial node\n",
    "R_abs = R_heading.copy()\n",
    "t_abs = gt_ecef[0].copy()\n",
    "g.add_node(1, (R_abs, t_abs))\n",
    "\n",
    "# GPS noise parameters\n",
    "gps_sigma = 1.5  # [m]  (In practice closer to 5)\n",
    "\n",
    "gps_spoofing_biases = np.zeros(N_nodes)  \n",
    "max_bias = 100\n",
    "gps_spoofing_biases[500:] = np.linspace(0, max_bias, 500)  # Ramping attack\n",
    "\n",
    "# Simulate GPS measurement\n",
    "gps_pos = gt_ecef[0] + np.random.normal(0, gps_sigma, 3) \n",
    "gps_pos[0] += gps_spoofing_biases[0]\n",
    "# Add GPS factor and edge\n",
    "gps_information = np.eye(6)\n",
    "gps_information[:3,:3] *= 1/gps_sigma**2\n",
    "g.add_factor(1, (np.eye(3), gps_pos), information=gps_information)\n",
    "\n",
    "graph_positions = []\n",
    "gps_measurements = []\n",
    "fgo_losses = []\n",
    "qs = []\n",
    "\n",
    "# For each new frame\n",
    "for i in range(1,N_nodes):\n",
    "    start_time = time.time()\n",
    "\n",
    "    # Get LiDAR odometry\n",
    "    R_hat = np.array(lidar_Rs[i-1])\n",
    "    t_hat = np.array(lidar_ts[i-1])\n",
    "\n",
    "    # Initialize new node with LiDAR odometry estimate\n",
    "    R_abs = R_hat @ R_abs\n",
    "    t_abs += R_abs @ t_hat\n",
    "    g.add_node(i+1, (R_abs, t_abs))\n",
    "\n",
    "    # Add LiDAR odometry edge\n",
    "    lidar_information = np.linalg.inv(lidar_covariances[i-1])\n",
    "    #lidar_information = np.eye(6)\n",
    "    #lidar_information[:3,:3] *= 10\n",
    "    g.add_edge([i, i+1], (R_hat, t_hat), information=lidar_information)\n",
    "\n",
    "    # Simulate GPS measurement\n",
    "    gps_pos = gt_ecef[i] + np.random.normal(0, gps_sigma, 3) \n",
    "    gps_pos[0] += gps_spoofing_biases[i]\n",
    "    gps_measurements.append(gps_pos)\n",
    "\n",
    "    # Add GPS factor and edge\n",
    "    gps_information = np.eye(6)\n",
    "    gps_information[:3,:3] *= 1/gps_sigma**2\n",
    "    gps_information[3:,3:] *= 10  # Scale rotation component \n",
    "    g.add_factor(i+1, (R_abs, gps_pos), information=gps_information)\n",
    "\n",
    "    # Trim to window size\n",
    "    graph_size = max([v.id for v in g.graph._vertices])\n",
    "    if graph_size > window_size:\n",
    "        # Save pose before trimming\n",
    "        graph_positions.append(g.graph._vertices[0].pose.position)\n",
    "        # Trim\n",
    "        g.trim_window(window_size)\n",
    "        # print([v.id for v in g.graph._vertices])\n",
    "        # print([e.vertex_ids for e in g.graph._edges])\n",
    "\n",
    "    # Optimize\n",
    "    g.optimize()\n",
    "    # print(g.graph.calc_chi2())\n",
    "    # fgo_losses.append(g.graph.calc_chi2())\n",
    "\n",
    "    # Compute test statistic\n",
    "    q = g.test_statistic()\n",
    "    qs.append(q)\n",
    "\n",
    "    # Time each iteration\n",
    "    print(i, \"/\", N_nodes, \": t=\", time.time() - start_time, \"s, q=\", q)\n",
    "    "
   ]
  },
  {
   "cell_type": "code",
   "execution_count": null,
   "metadata": {},
   "outputs": [],
   "source": [
    "for cov in lidar_covariances:\n",
    "    print(cov)\n",
    "    #print(np.linalg.eig(cov)[0])"
   ]
  },
  {
   "cell_type": "code",
   "execution_count": null,
   "metadata": {},
   "outputs": [],
   "source": [
    "plt.plot(qs)\n",
    "plt.plot(T*np.ones(len(qs)), 'r--')\n",
    "plt.title(\"Test statistic vs time\")\n",
    "plt.xlabel(\"Time (frames)\")\n",
    "plt.ylabel(\"Test statistic\")\n",
    "plt.show()"
   ]
  },
  {
   "cell_type": "code",
   "execution_count": null,
   "metadata": {},
   "outputs": [],
   "source": [
    "graph_positions = np.array(graph_positions)\n",
    "\n",
    "lidar_traj = go.Scatter(x=graph_positions[:,0], y=graph_positions[:,1], hovertext=np.arange(N), name='Factor graph')\n",
    "gt_traj = go.Scatter(x=gt_ecef[:N_nodes,0], y=gt_ecef[:N_nodes,1], hovertext=np.arange(N), name='Ground-truth')\n",
    "fig = go.Figure(data=[gt_traj, lidar_traj])\n",
    "fig.update_layout(width=900, height=700, scene=dict(aspectmode='data'))\n",
    "fig.show()"
   ]
  },
  {
   "cell_type": "code",
   "execution_count": null,
   "metadata": {},
   "outputs": [],
   "source": [
    "import plotly.express as px\n",
    "# lidar_traj = go.Scatter(x=graph_positions[:,0], y=graph_positions[:,1], hovertext=np.arange(N), name='Factor graph')\n",
    "# gt_traj = go.Scatter(x=gt_ecef[:N_nodes,0], y=gt_ecef[:N_nodes,1], hovertext=np.arange(N), name='Ground-truth', marker=dict(color=qs))\n",
    "# fig = go.Figure(data=[gt_traj, lidar_traj])\n",
    "fig = px.scatter(gt_ecef[1:N_nodes], x=0, y=1, color=qs)\n",
    "fig.update_layout(width=900, height=700, scene=dict(aspectmode='data'))\n",
    "fig.show()"
   ]
  },
  {
   "cell_type": "markdown",
   "metadata": {},
   "source": [
    "## Segmented window-based optimization"
   ]
  },
  {
   "cell_type": "code",
   "execution_count": null,
   "metadata": {},
   "outputs": [],
   "source": [
    "GPS_SIGMA = 1.5 # [m] (In practice closer to 5)\n",
    "GPS_INFO = np.eye(6)\n",
    "GPS_INFO[:3,:3] *= 1/GPS_SIGMA**2\n",
    "GPS_INFO[3:,3:] *= 100  # Scale rotation component "
   ]
  },
  {
   "cell_type": "code",
   "execution_count": null,
   "metadata": {},
   "outputs": [],
   "source": [
    "# Lidar information: fixed vs adaptive\n",
    "LIDAR_INFO_FIXED = False\n",
    "LIDAR_INFO = np.eye(6)\n",
    "LIDAR_INFO[:3,:3] *= 10 \n",
    "\n",
    "# Downsample rate\n",
    "\n",
    "# Lidar GPS relative weighting\n",
    "LIDAR_GPS_WEIGHT = 100.0"
   ]
  },
  {
   "cell_type": "code",
   "execution_count": null,
   "metadata": {},
   "outputs": [],
   "source": [
    "N_nodes = 1000\n",
    "window_size = 100\n",
    "num_windows = N_nodes // window_size\n",
    "\n",
    "# Compute threshold\n",
    "alpha = 0.001\n",
    "T = chi2.ppf(1-alpha, df=3*window_size)\n",
    "print(\"Threshold = \", T)\n",
    "\n",
    "# Initial pose\n",
    "R_abs = R_heading.copy()\n",
    "t_abs = gt_ecef[0].copy()\n",
    "\n",
    "gps_spoofing_biases = np.zeros(N_nodes)  \n",
    "max_bias = 100\n",
    "#gps_spoofing_biases[500:] = np.linspace(0, max_bias, 500)  # Ramping attack\n",
    "\n",
    "graph_positions = []\n",
    "gps_measurements = []\n",
    "qs = []\n",
    "lidar_trajs = []\n",
    "\n",
    "# For each window\n",
    "for i in range(num_windows):\n",
    "    # Form graph over window\n",
    "    g = PoseGraph()\n",
    "\n",
    "    # Add initial node\n",
    "    g.add_node(1, (R_abs, t_abs))\n",
    "\n",
    "    # Simulate GPS measurement\n",
    "    gps_pos = gt_ecef[i*window_size] + np.random.normal(0, GPS_SIGMA, 3) \n",
    "    gps_pos[0] += gps_spoofing_biases[i*window_size]\n",
    "    # Add GPS factor and edge\n",
    "    g.add_factor(1, (np.eye(3), gps_pos), information=GPS_INFO)\n",
    "\n",
    "    for j in range(1,window_size):\n",
    "        idx = i*window_size + j\n",
    "        # Get LiDAR odometry\n",
    "        R_hat = np.array(lidar_Rs[idx-1])\n",
    "        t_hat = np.array(lidar_ts[idx-1])\n",
    "\n",
    "        # Initialize new node with LiDAR odometry estimate\n",
    "        R_abs = R_hat @ R_abs\n",
    "        t_abs += R_abs @ t_hat\n",
    "        g.add_node(j+1, (R_abs, t_abs))\n",
    "\n",
    "        # Add LiDAR odometry edge\n",
    "        if LIDAR_INFO_FIXED:\n",
    "            lidar_information = LIDAR_INFO\n",
    "        else:\n",
    "            lidar_information = np.linalg.inv(lidar_covariances[idx-1])\n",
    "        g.add_edge([j, j+1], (R_hat, t_hat), information=LIDAR_GPS_WEIGHT*lidar_information)\n",
    "\n",
    "        # Simulate GPS measurement\n",
    "        gps_pos = gt_ecef[idx] + np.random.normal(0, GPS_SIGMA, 3) \n",
    "        gps_pos[0] += gps_spoofing_biases[idx]\n",
    "        gps_measurements.append(gps_pos)\n",
    "\n",
    "        # Add GPS factor and edge \n",
    "        g.add_factor(j+1, (R_abs, gps_pos), information=GPS_INFO)\n",
    "\n",
    "    lidar_trajs.append(g.get_positions())\n",
    "\n",
    "    # Compute test statistic\n",
    "    q = g.test_statistic()\n",
    "    qs.append(q)\n",
    "\n",
    "    # Optimize\n",
    "    g.optimize()\n",
    "\n",
    "    # Store positions\n",
    "    graph_positions.append(g.get_positions())\n",
    "\n",
    "    # Update R_abs and t_abs\n",
    "    R_abs, t_abs = g.get_poses()[-1]\n",
    "\n",
    "    # Time each iteration\n",
    "    print(\"window\", i, \"/\", num_windows)\n",
    "\n",
    "graph_positions = np.reshape(graph_positions, (-1,3))\n",
    "gps_measurements = np.asarray(gps_measurements)"
   ]
  },
  {
   "cell_type": "code",
   "execution_count": null,
   "metadata": {},
   "outputs": [],
   "source": [
    "qs"
   ]
  },
  {
   "cell_type": "code",
   "execution_count": null,
   "metadata": {},
   "outputs": [],
   "source": [
    "plt.plot(qs)\n",
    "#plt.plot(T*np.ones(len(qs)), 'r--')\n",
    "plt.title(\"Test statistic vs time\")\n",
    "plt.xlabel(\"Time (frames)\")\n",
    "plt.ylabel(\"Test statistic\")\n",
    "plt.show()"
   ]
  },
  {
   "cell_type": "code",
   "execution_count": null,
   "metadata": {},
   "outputs": [],
   "source": [
    "for lidar_traj in lidar_trajs:\n",
    "    plt.plot(lidar_traj[:,0], lidar_traj[:,1], 'b')\n",
    "\n",
    "plt.plot(gps_measurements[:,0], gps_measurements[:,1], 'r')"
   ]
  },
  {
   "cell_type": "code",
   "execution_count": null,
   "metadata": {},
   "outputs": [],
   "source": [
    "lidar_traj = go.Scatter(x=graph_positions[:,0], y=graph_positions[:,1], hovertext=np.arange(N), name='Factor graph')\n",
    "gt_traj = go.Scatter(x=gt_ecef[:N_nodes,0], y=gt_ecef[:N_nodes,1], hovertext=np.arange(N), name='Ground-truth')\n",
    "gps = go.Scatter(x=gps_measurements[:,0], y=gps_measurements[:,1], hovertext=np.arange(N), name='GPS measurements')\n",
    "fig = go.Figure(data=[gt_traj, lidar_traj, gps])\n",
    "fig.update_layout(width=900, height=700, scene=dict(aspectmode='data'))\n",
    "fig.show()"
   ]
  },
  {
   "cell_type": "code",
   "execution_count": null,
   "metadata": {},
   "outputs": [],
   "source": []
  }
 ],
 "metadata": {
  "kernelspec": {
   "display_name": "chimera",
   "language": "python",
   "name": "python3"
  },
  "language_info": {
   "codemirror_mode": {
    "name": "ipython",
    "version": 3
   },
   "file_extension": ".py",
   "mimetype": "text/x-python",
   "name": "python",
   "nbconvert_exporter": "python",
   "pygments_lexer": "ipython3",
   "version": "3.9.13 (main, Oct 13 2022, 21:23:06) [MSC v.1916 64 bit (AMD64)]"
  },
  "orig_nbformat": 4,
  "vscode": {
   "interpreter": {
    "hash": "0a5659d1405da755dd6b166a234865c66b4b4a86cd4401300ddb5f1642b72b30"
   }
  }
 },
 "nbformat": 4,
 "nbformat_minor": 2
}
