{
 "cells": [
  {
   "cell_type": "code",
   "execution_count": null,
   "metadata": {},
   "outputs": [],
   "source": [
    "import numpy as np\n",
    "import os\n",
    "import plotly.graph_objects as go\n",
    "\n",
    "from chimera_fgo.util.kitti import process_kitti_gt, load_icp_results\n",
    "from chimera_fgo.util.plot import plot_trajectories, plot_MC\n",
    "\n",
    "%load_ext autoreload\n",
    "%autoreload 2"
   ]
  },
  {
   "cell_type": "code",
   "execution_count": null,
   "metadata": {},
   "outputs": [],
   "source": [
    "kitti_seq = '0018'\n",
    "run_name = 'fgo_0m_100runs_blind_2023-01-19-2054'\n",
    "results_path = os.path.join(os.getcwd(), '..', 'results', kitti_seq, run_name)\n",
    "results_files = os.listdir(results_path)\n",
    "fgo_blind_results = np.load(os.path.join(results_path, results_files[0]))"
   ]
  },
  {
   "cell_type": "code",
   "execution_count": null,
   "metadata": {},
   "outputs": [],
   "source": [
    "#qs_plot = fgo_results['qs']\n",
    "qs_plot = fgo_blind_results['qs']\n",
    "T = fgo_blind_results['threshold']\n",
    "GPS_RATE = 10\n",
    "detect_idx = np.argmax(qs_plot > T)\n",
    "\n",
    "# Plot test statistic and threshold\n",
    "fig = go.Figure()\n",
    "fig.add_trace(go.Scatter(x=np.arange(len(qs_plot)), y=qs_plot, name='Test statistic'))\n",
    "fig.add_trace(go.Scatter(x=np.arange(len(qs_plot)), y=T*np.ones(len(qs_plot)), name='Threshold', line=dict(color='black', dash='dash')))\n",
    "# Add vertical line at start of spoofing attack\n",
    "fig.add_trace(go.Scatter(x=[100, 100], y=[min(qs_plot), max(qs_plot)], mode='lines', name='Start of attack', line=dict(color='red', dash='dash')))\n",
    "# fig.add_shape(type=\"line\", x0=ATTACK_START/GPS_RATE, y0=-20, x1=ATTACK_START/GPS_RATE, y1=200, name='Start of attack', \n",
    "#               line=dict(color=\"red\", width=2, dash=\"dash\"), showlegend=True)\n",
    "fig.add_trace(go.Scatter(x=[detect_idx], y=[qs_plot[detect_idx]], name='Detection', mode='markers', marker=dict(size=10, color='red'), showlegend=True))\n",
    "fig.update_layout(width=900, height=500, xaxis_title='Time [s]', yaxis_title='Test statistic')\n",
    "fig.update_layout(legend=dict(x=0.05, y=0.98), font=dict(size=18))\n",
    "fig.show()"
   ]
  },
  {
   "cell_type": "code",
   "execution_count": null,
   "metadata": {},
   "outputs": [],
   "source": [
    "n_runs = len(results_files)\n",
    "\n",
    "fig = go.Figure()\n",
    "\n",
    "per_trial_FA = 0\n",
    "per_run_FA = 0\n",
    "\n",
    "for i in range(n_runs):\n",
    "    results = np.load(os.path.join(results_path, results_files[i]))\n",
    "    qs = results['qs']\n",
    "    T = results['threshold']\n",
    "    detect_idx = np.argmax(qs > T)\n",
    "    showlegend = True if i == 0 else False\n",
    "    fig.add_trace(go.Scatter(x=np.arange(len(qs)), y=qs, name='Test statistic', line=dict(color='blue'), showlegend=showlegend))\n",
    "    #fig.add_trace(go.Scatter(x=[detect_idx], y=[qs[detect_idx]], name='Detection', mode='markers', marker=dict(size=10, color='red'), showlegend=showlegend))\n",
    "    per_trial_FA += sum(qs > T)\n",
    "    per_run_FA += 1 if sum(qs > T) > 0 else 0\n",
    "\n",
    "fig.add_trace(go.Scatter(x=np.arange(len(qs)), y=T*np.ones(len(qs)), name='Threshold', line=dict(color='black', dash='dash')))\n",
    "#fig.add_trace(go.Scatter(x=[100, 100], y=[50, 400], mode='lines', name='Start of attack', line=dict(color='red', dash='dash')))\n",
    "fig.update_layout(width=900, height=500, xaxis_title='Time [s]', yaxis_title='Test statistic')\n",
    "fig.update_layout(legend=dict(x=0.05, y=0.98), font=dict(size=18))\n",
    "fig.update_yaxes(range=[50, 200])\n",
    "fig.show()"
   ]
  }
 ],
 "metadata": {
  "kernelspec": {
   "display_name": "chimera",
   "language": "python",
   "name": "python3"
  },
  "language_info": {
   "name": "python",
   "version": "3.9.16 (main, Jan 11 2023, 16:05:54) \n[GCC 11.2.0]"
  },
  "orig_nbformat": 4,
  "vscode": {
   "interpreter": {
    "hash": "a5edd088d6b144d42777d3bfeb942dbfa3bc6a1fda937eadc36b79f380c5a6b9"
   }
  }
 },
 "nbformat": 4,
 "nbformat_minor": 2
}
