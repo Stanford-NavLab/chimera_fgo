{
 "cells": [
  {
   "cell_type": "code",
   "execution_count": null,
   "metadata": {},
   "outputs": [],
   "source": [
    "import numpy as np\n",
    "import os\n",
    "import plotly.graph_objects as go\n",
    "\n",
    "from chimera_fgo.util.kitti import process_kitti_gt, load_icp_results\n",
    "from chimera_fgo.util.plot import plot_trajectories\n",
    "\n",
    "%load_ext autoreload\n",
    "%autoreload 2"
   ]
  },
  {
   "cell_type": "code",
   "execution_count": null,
   "metadata": {},
   "outputs": [],
   "source": [
    "MAX_BIASES = [50, 100, 200]"
   ]
  },
  {
   "cell_type": "code",
   "execution_count": null,
   "metadata": {},
   "outputs": [],
   "source": [
    "kitti_seq = '0034'\n",
    "start_idx = 1550 if kitti_seq == '0028' else 0\n",
    "\n",
    "# Load ground truth\n",
    "gtpath = os.path.join(os.getcwd(), '..', '..', 'data', 'kitti', kitti_seq, 'oxts', 'data')\n",
    "gt_enu, gt_Rs, gt_attitudes = process_kitti_gt(gtpath, start_idx=start_idx)"
   ]
  },
  {
   "cell_type": "code",
   "execution_count": null,
   "metadata": {},
   "outputs": [],
   "source": [
    "TRAJLEN = 2000\n",
    "gps_spoofing_biases = np.zeros(TRAJLEN)  \n",
    "attack_start_idx = 1000\n",
    "gps_spoofing_biases[attack_start_idx:] = np.linspace(0, 1, TRAJLEN-attack_start_idx)  # Ramping attack\n",
    "\n",
    "spoof_pos_1 = gt_enu[:TRAJLEN].copy()\n",
    "spoof_pos_1[:,0] += 50 * gps_spoofing_biases\n",
    "spoof_pos_2 = gt_enu[:TRAJLEN].copy()\n",
    "spoof_pos_2[:,0] += 100 * gps_spoofing_biases\n",
    "spoof_pos_3 = gt_enu[:TRAJLEN].copy()\n",
    "spoof_pos_3[:,0] += 200 * gps_spoofing_biases\n",
    "\n",
    "gt_traj = go.Scatter(x=gt_enu[:TRAJLEN,0], y=gt_enu[:TRAJLEN,1], hovertext=np.arange(TRAJLEN), name='Ground-truth', line=dict(color='black'))\n",
    "spoof_traj_1 = go.Scatter(x=spoof_pos_1[:,0], y=spoof_pos_1[:,1], hovertext=np.arange(TRAJLEN), name='0.5 m/s spoofed', line=dict(color='red', dash='dot'))\n",
    "spoof_traj_2 = go.Scatter(x=spoof_pos_2[:,0], y=spoof_pos_2[:,1], hovertext=np.arange(TRAJLEN), name='1.0 m/s spoofed', line=dict(color='red', dash='dashdot'))\n",
    "spoof_traj_3 = go.Scatter(x=spoof_pos_3[:,0], y=spoof_pos_3[:,1], hovertext=np.arange(TRAJLEN), name='2.0 m/s spoofed', line=dict(color='red', dash='dash'))\n",
    "\n",
    "start = go.Scatter(x=[0], y=[0], name='Start', mode='markers', marker=dict(size=10, color='black'), showlegend=False)\n",
    "spoof_start = go.Scatter(x=[gt_enu[attack_start_idx,0]], y=[gt_enu[attack_start_idx,1]], \n",
    "            name='Spoofing start', mode='markers', marker=dict(size=10, color='red'), showlegend=True)\n",
    "fig = go.Figure(data=[gt_traj, spoof_traj_1, spoof_traj_2, spoof_traj_3, start, spoof_start])\n",
    "fig.update_layout(width=1000, height=1000, xaxis_title='East [m]', yaxis_title='North [m]')\n",
    "\n",
    "fig.update_layout(font=dict(size=26))\n",
    "fig.update_yaxes(\n",
    "    scaleanchor = \"x\",\n",
    "    scaleratio = 1,\n",
    "  )\n",
    "\n",
    "if kitti_seq == '0018':\n",
    "    fig.update_xaxes(range=[-300, 280])\n",
    "    fig.update_layout(legend=dict(x=0.05, y=0.98))\n",
    "elif kitti_seq == '0027':\n",
    "    fig.update_xaxes(range=[-50, 450])\n",
    "    fig.update_layout(legend=dict(x=0.68, y=0.98))\n",
    "elif kitti_seq == '0028':\n",
    "    fig.update_xaxes(range=[-20, 500])\n",
    "    fig.update_layout(legend=dict(x=0.68, y=0.98))\n",
    "elif kitti_seq == '0034':\n",
    "    fig.update_xaxes(range=[-50, 950])\n",
    "    fig.update_layout(legend=dict(x=0.05, y=0.98))\n",
    "# fig.update_xaxes(range=[-300, 280]) # 0018\n",
    "# fig.update_layout(legend=dict(x=0.05, y=0.98))\n",
    "# fig.update_xaxes(range=[-50, 950]) # 0027\n",
    "# fig.update_xaxes(range=[-50, 950]) # 0028\n",
    "# fig.update_xaxes(range=[-50, 950]) # 0034\n",
    "fig.show()"
   ]
  },
  {
   "cell_type": "code",
   "execution_count": null,
   "metadata": {},
   "outputs": [],
   "source": []
  }
 ],
 "metadata": {
  "kernelspec": {
   "display_name": "chimera",
   "language": "python",
   "name": "python3"
  },
  "language_info": {
   "codemirror_mode": {
    "name": "ipython",
    "version": 3
   },
   "file_extension": ".py",
   "mimetype": "text/x-python",
   "name": "python",
   "nbconvert_exporter": "python",
   "pygments_lexer": "ipython3",
   "version": "3.9.16 (main, Jan 11 2023, 16:05:54) \n[GCC 11.2.0]"
  },
  "orig_nbformat": 4,
  "vscode": {
   "interpreter": {
    "hash": "a5edd088d6b144d42777d3bfeb942dbfa3bc6a1fda937eadc36b79f380c5a6b9"
   }
  }
 },
 "nbformat": 4,
 "nbformat_minor": 2
}
