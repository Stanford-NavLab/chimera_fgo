{
 "cells": [
  {
   "cell_type": "code",
   "execution_count": null,
   "metadata": {},
   "outputs": [],
   "source": [
    "import numpy as np\n",
    "import os\n",
    "import plotly.graph_objects as go\n",
    "from PIL import Image\n",
    "\n",
    "from chimera_fgo.util.kitti import process_kitti_gt, load_icp_results\n",
    "from chimera_fgo.util.plot import plot_trajectories\n",
    "\n",
    "%load_ext autoreload\n",
    "%autoreload 2"
   ]
  },
  {
   "cell_type": "code",
   "execution_count": null,
   "metadata": {},
   "outputs": [],
   "source": [
    "kitti_seq = '0034'\n",
    "\n",
    "if kitti_seq == '0027':\n",
    "    start_idx = 1000\n",
    "elif kitti_seq == '0028':\n",
    "    start_idx = 1550\n",
    "else:\n",
    "    start_idx = 0\n",
    "\n",
    "# Load ground truth\n",
    "gtpath = os.path.join(os.getcwd(), '..', '..', 'data', 'kitti', kitti_seq, 'oxts', 'data')\n",
    "gt_enu, gt_Rs, gt_attitudes = process_kitti_gt(gtpath, start_idx=start_idx)"
   ]
  },
  {
   "cell_type": "code",
   "execution_count": null,
   "metadata": {},
   "outputs": [],
   "source": [
    "TRAJLEN = 2000\n",
    "gps_spoofing_biases = np.zeros(TRAJLEN)  \n",
    "attack_start_idx = 1000\n",
    "gps_spoofing_biases[attack_start_idx:] = np.linspace(0, 1, TRAJLEN-attack_start_idx)  # Ramping attack\n",
    "\n",
    "spoof_pos_1 = gt_enu[:TRAJLEN].copy()\n",
    "spoof_pos_1[:,0] += 50 * gps_spoofing_biases\n",
    "spoof_pos_2 = gt_enu[:TRAJLEN].copy()\n",
    "spoof_pos_2[:,0] += 100 * gps_spoofing_biases\n",
    "spoof_pos_3 = gt_enu[:TRAJLEN].copy()\n",
    "spoof_pos_3[:,0] += 200 * gps_spoofing_biases\n",
    "\n",
    "w = 3  # line width\n",
    "sz = 12  # marker size\n",
    "\n",
    "gt_traj = go.Scatter(x=gt_enu[:TRAJLEN,0], y=gt_enu[:TRAJLEN,1], hovertext=np.arange(TRAJLEN), name='Ground-truth', line=dict(width=w, color='black'))\n",
    "spoof_traj_1 = go.Scatter(x=spoof_pos_1[:,0], y=spoof_pos_1[:,1], hovertext=np.arange(TRAJLEN), name='0.5 m/s ramp', line=dict(width=w, color='red', dash='dot'))\n",
    "spoof_traj_2 = go.Scatter(x=spoof_pos_2[:,0], y=spoof_pos_2[:,1], hovertext=np.arange(TRAJLEN), name='1.0 m/s ramp', line=dict(width=w, color='red', dash='dashdot'))\n",
    "spoof_traj_3 = go.Scatter(x=spoof_pos_3[:,0], y=spoof_pos_3[:,1], hovertext=np.arange(TRAJLEN), name='2.0 m/s ramp', line=dict(width=w, color='red', dash='dash'))\n",
    "\n",
    "start = go.Scatter(x=[0], y=[0], name='Start', mode='markers', marker=dict(size=sz, color='black'), showlegend=False)\n",
    "spoof_start = go.Scatter(x=[gt_enu[attack_start_idx,0]], y=[gt_enu[attack_start_idx,1]], \n",
    "            name='Spoofing start', mode='markers', marker=dict(size=sz, color='red'), showlegend=True)\n",
    "fig = go.Figure(data=[gt_traj, spoof_traj_1, spoof_traj_2, spoof_traj_3, start, spoof_start])\n",
    "fig.update_layout(width=1000, height=1000, xaxis_title='East [m]', yaxis_title='North [m]')\n",
    "\n",
    "fig.update_layout(font=dict(size=26))\n",
    "fig.update_yaxes(\n",
    "    scaleanchor = \"x\",\n",
    "    scaleratio = 1,\n",
    "  )\n",
    "\n",
    "if kitti_seq == '0018':\n",
    "    fig.update_xaxes(range=[-300, 280])\n",
    "    fig.update_layout(legend=dict(x=0.05, y=0.98))\n",
    "\n",
    "    satimg_path = os.path.join(os.getcwd(), '..', '..', 'images', 'satimgs', '0018_satimg.png')\n",
    "    satimg = Image.open(satimg_path)\n",
    "    fig.add_layout_image(\n",
    "        dict(\n",
    "            source=satimg,\n",
    "            xref=\"x\",\n",
    "            yref=\"y\",\n",
    "            x=-300,\n",
    "            y=406,\n",
    "            sizex=580,\n",
    "            sizey=595,\n",
    "            sizing=\"stretch\",\n",
    "            opacity=0.75,\n",
    "            layer=\"below\")\n",
    "    )\n",
    "elif kitti_seq == '0027':\n",
    "    fig.update_xaxes(range=[-100, 650])\n",
    "    fig.update_layout(legend=dict(x=0.72, y=0.05))\n",
    "\n",
    "    satimg_path = os.path.join(os.getcwd(), '..', '..', 'images', 'satimgs', '0027_satimg.png')\n",
    "    satimg = Image.open(satimg_path)\n",
    "    fig.add_layout_image(\n",
    "        dict(\n",
    "            source=satimg,\n",
    "            xref=\"x\",\n",
    "            yref=\"y\",\n",
    "            x=-300,\n",
    "            y=406,\n",
    "            sizex=580,\n",
    "            sizey=595,\n",
    "            sizing=\"stretch\",\n",
    "            opacity=0.75,\n",
    "            layer=\"below\")\n",
    "    )\n",
    "elif kitti_seq == '0028':\n",
    "    fig.update_xaxes(range=[-20, 500])\n",
    "    fig.update_layout(legend=dict(x=0.68, y=0.98))\n",
    "\n",
    "    \n",
    "elif kitti_seq == '0034':\n",
    "    fig.update_xaxes(range=[-50, 950])\n",
    "    fig.update_layout(legend=dict(x=0.05, y=0.98))\n",
    "\n",
    "\n",
    "\n",
    "\n",
    "fig.update_layout(margin=go.layout.Margin(\n",
    "    l=40, #left margin\n",
    "    r=40, #right margin\n",
    "    b=40, #bottom margin\n",
    "    t=40  #top margin\n",
    "))\n",
    "fig.update_xaxes(showgrid=False, zeroline=False)\n",
    "fig.update_yaxes(showgrid=False, zeroline=False)\n",
    "fig.show()"
   ]
  },
  {
   "cell_type": "code",
   "execution_count": null,
   "metadata": {},
   "outputs": [],
   "source": [
    "fig.layout.xaxis.range"
   ]
  },
  {
   "cell_type": "code",
   "execution_count": null,
   "metadata": {},
   "outputs": [],
   "source": [
    "fig.layout.yaxis.range"
   ]
  },
  {
   "cell_type": "code",
   "execution_count": null,
   "metadata": {},
   "outputs": [],
   "source": [
    "from PIL import Image\n",
    "\n",
    "satimg_path = os.path.join(os.getcwd(), '..', '..', 'images', '0018_satimg.png')\n",
    "satimg = Image.open(satimg_path)"
   ]
  },
  {
   "attachments": {},
   "cell_type": "markdown",
   "metadata": {},
   "source": [
    "Using gnss_lib_py"
   ]
  },
  {
   "cell_type": "code",
   "execution_count": null,
   "metadata": {},
   "outputs": [],
   "source": [
    "from chimera_fgo.util.io import read_gt\n",
    "\n",
    "from gnss_lib_py.parsers.navdata import NavData\n",
    "from gnss_lib_py.utils.visualizations import plot_map"
   ]
  },
  {
   "cell_type": "code",
   "execution_count": null,
   "metadata": {},
   "outputs": [],
   "source": [
    "kitti_seq = '0034'\n",
    "\n",
    "if kitti_seq == '0027':\n",
    "    start_idx = 1000\n",
    "elif kitti_seq == '0028':\n",
    "    start_idx = 1550\n",
    "else:\n",
    "    start_idx = 0\n",
    "\n",
    "# Load ground truth\n",
    "gtpath = os.path.join(os.getcwd(), '..', '..', 'data', 'kitti', kitti_seq, 'oxts', 'data')\n",
    "gt_enu, gt_Rs, gt_attitudes = process_kitti_gt(gtpath, start_idx=start_idx)"
   ]
  },
  {
   "cell_type": "code",
   "execution_count": null,
   "metadata": {},
   "outputs": [],
   "source": [
    "gt_data = read_gt(gtpath)\n",
    "gt_data = gt_data[start_idx:]\n",
    "\n",
    "# Get ground truth positions\n",
    "lla = gt_data[:,:3]\n",
    "\n",
    "# Convert to ENU\n",
    "ref_lla = lla[0]"
   ]
  },
  {
   "cell_type": "code",
   "execution_count": null,
   "metadata": {},
   "outputs": [],
   "source": [
    "TRAJLEN = 2000\n",
    "gps_spoofing_biases = np.zeros(TRAJLEN)  \n",
    "attack_start_idx = 1000\n",
    "gps_spoofing_biases[attack_start_idx:] = np.linspace(0, 1, TRAJLEN-attack_start_idx)  # Ramping attack\n",
    "\n",
    "spoof_pos_1 = gt_enu[:TRAJLEN].copy()\n",
    "spoof_pos_1[:,0] += 50 * gps_spoofing_biases\n",
    "spoof_pos_2 = gt_enu[:TRAJLEN].copy()\n",
    "spoof_pos_2[:,0] += 100 * gps_spoofing_biases\n",
    "spoof_pos_3 = gt_enu[:TRAJLEN].copy()\n",
    "spoof_pos_3[:,0] += 200 * gps_spoofing_biases"
   ]
  },
  {
   "cell_type": "code",
   "execution_count": null,
   "metadata": {},
   "outputs": [],
   "source": [
    "from pymap3d.enu import enu2geodetic\n",
    "\n",
    "# convert spoof_pos_1 from enu to lla\n",
    "spoof_pos_1_lla = np.zeros((TRAJLEN, 3))\n",
    "for i in range(TRAJLEN):\n",
    "    spoof_pos_1_lla[i,:] = enu2geodetic(spoof_pos_1[i,0], spoof_pos_1[i,1], spoof_pos_1[i,2], ref_lla[0], ref_lla[1], ref_lla[2])\n",
    "\n",
    "# convert spoof_pos_2 from enu to lla\n",
    "spoof_pos_2_lla = np.zeros((TRAJLEN, 3))\n",
    "for i in range(TRAJLEN):\n",
    "    spoof_pos_2_lla[i,:] = enu2geodetic(spoof_pos_2[i,0], spoof_pos_2[i,1], spoof_pos_2[i,2], ref_lla[0], ref_lla[1], ref_lla[2])\n",
    "\n",
    "# convert spoof_pos_3 from enu to lla\n",
    "spoof_pos_3_lla = np.zeros((TRAJLEN, 3))\n",
    "for i in range(TRAJLEN):\n",
    "    spoof_pos_3_lla[i,:] = enu2geodetic(spoof_pos_3[i,0], spoof_pos_3[i,1], spoof_pos_3[i,2], ref_lla[0], ref_lla[1], ref_lla[2])"
   ]
  },
  {
   "cell_type": "code",
   "execution_count": null,
   "metadata": {},
   "outputs": [],
   "source": [
    "data_gt = NavData()\n",
    "data_gt[\"lat_gt_deg\"] = lla[:TRAJLEN,0]\n",
    "data_gt[\"lon_gt_deg\"] = lla[:TRAJLEN,1]\n",
    "\n",
    "data_sp1 = NavData()\n",
    "data_sp1[\"lat_sp1_deg\"] = spoof_pos_1_lla[::3,0]\n",
    "data_sp1[\"lon_sp1_deg\"] = spoof_pos_1_lla[::3,1]\n",
    "\n",
    "data_sp2 = NavData()\n",
    "data_sp2[\"lat_sp2_deg\"] = spoof_pos_2_lla[::3,0]\n",
    "data_sp2[\"lon_sp2_deg\"] = spoof_pos_2_lla[::3,1]\n",
    "\n",
    "data_sp3 = NavData()\n",
    "data_sp3[\"lat_sp3_deg\"] = spoof_pos_3_lla[::3,0]\n",
    "data_sp3[\"lon_sp3_deg\"] = spoof_pos_3_lla[::3,1]\n",
    "\n",
    "fig = plot_map(data_sp1, data_sp2, data_sp3, data_gt)\n",
    "fig.show()"
   ]
  },
  {
   "cell_type": "code",
   "execution_count": null,
   "metadata": {},
   "outputs": [],
   "source": [
    "marker_size = 7\n",
    "\n",
    "# sp1\n",
    "fig.data[0].marker.color = '#f54278'\n",
    "fig.data[0].marker.size = marker_size\n",
    "#fig.data[0].marker.symbol = 'diamond'\n",
    "# sp2\n",
    "fig.data[1].marker.color = 'red'\n",
    "fig.data[1].marker.size = marker_size\n",
    "#fig.data[1].marker.symbol = 'square'\n",
    "# sp3\n",
    "fig.data[2].marker.color = '#f58742'\n",
    "fig.data[2].marker.size = marker_size\n",
    "#fig.data[2].marker.symbol = 'circle'\n",
    "# gt\n",
    "fig.data[3].marker.color = 'black'\n",
    "fig.data[3].marker.size = marker_size\n",
    "\n",
    "# Increase fig size\n",
    "fig.update_layout(\n",
    "    autosize=False,\n",
    "    width=1600,\n",
    "    height=900)\n",
    "\n",
    "fig.show()"
   ]
  },
  {
   "cell_type": "code",
   "execution_count": null,
   "metadata": {},
   "outputs": [],
   "source": []
  },
  {
   "cell_type": "code",
   "execution_count": null,
   "metadata": {},
   "outputs": [],
   "source": []
  }
 ],
 "metadata": {
  "kernelspec": {
   "display_name": "chimera",
   "language": "python",
   "name": "python3"
  },
  "language_info": {
   "codemirror_mode": {
    "name": "ipython",
    "version": 3
   },
   "file_extension": ".py",
   "mimetype": "text/x-python",
   "name": "python",
   "nbconvert_exporter": "python",
   "pygments_lexer": "ipython3",
   "version": "3.9.16"
  },
  "orig_nbformat": 4,
  "vscode": {
   "interpreter": {
    "hash": "a5edd088d6b144d42777d3bfeb942dbfa3bc6a1fda937eadc36b79f380c5a6b9"
   }
  }
 },
 "nbformat": 4,
 "nbformat_minor": 2
}
