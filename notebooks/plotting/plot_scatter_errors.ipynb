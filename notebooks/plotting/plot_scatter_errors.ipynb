{
 "cells": [
  {
   "cell_type": "code",
   "execution_count": null,
   "metadata": {},
   "outputs": [],
   "source": [
    "import numpy as np\n",
    "import os\n",
    "import plotly.graph_objects as go\n",
    "\n",
    "from chimera_fgo.util.kitti import process_kitti_gt, load_icp_results\n",
    "from chimera_fgo.util.plot import plot_trajectories, plot_MC\n",
    "\n",
    "%load_ext autoreload\n",
    "%autoreload 2"
   ]
  },
  {
   "attachments": {},
   "cell_type": "markdown",
   "metadata": {},
   "source": [
    "Compute LiDAR error statistics"
   ]
  },
  {
   "cell_type": "code",
   "execution_count": null,
   "metadata": {},
   "outputs": [],
   "source": [
    "N = 1900\n",
    "lidar_mean_errs = []\n",
    "lidar_max_errs = []\n",
    "\n",
    "for kitti_seq in ['0018', '0027', '0028', '0034']:\n",
    "\n",
    "    start_idx = 1550 if kitti_seq == '0028' else 0\n",
    "    gtpath = os.path.join(os.getcwd(), '..', '..', 'data', 'kitti', kitti_seq, 'oxts', 'data')\n",
    "    gt_enu, gt_Rs, gt_attitudes = process_kitti_gt(gtpath, start_idx=start_idx)\n",
    "    data_path = os.path.join(os.getcwd(), '..', '..', 'data', 'kitti', kitti_seq, 'icp')\n",
    "    lidar_Rs, lidar_ts, lidar_positions, lidar_covariances = load_icp_results(data_path, start_idx=start_idx)\n",
    "\n",
    "    # Compute RMSE and max error for lidar for each sequence\n",
    "    lidar_err = np.linalg.norm(lidar_positions[:N] - gt_enu[:N], axis=1)\n",
    "    print(\"Mean error: \", np.mean(lidar_err))\n",
    "    print(\"Max error: \", np.max(lidar_err))\n",
    "    lidar_mean_errs.append(np.mean(lidar_err))\n",
    "    lidar_max_errs.append(np.max(lidar_err))"
   ]
  },
  {
   "attachments": {},
   "cell_type": "markdown",
   "metadata": {},
   "source": [
    "Set of all runs to be considered"
   ]
  },
  {
   "cell_type": "code",
   "execution_count": null,
   "metadata": {},
   "outputs": [],
   "source": [
    "# SR-FGO runs for each sequence and attack size\n",
    "runs = [['fgo_0m_10runs_2023-01-18-1754', 'fgo_50m_5runs_2023-01-19-0042', 'fgo_100m_5runs_2023-01-19-0121', 'fgo_200m_20runs_2023-01-19-2015'], # 0018\n",
    "        ['fgo_0m_10runs_2023-01-18-1843', 'fgo_50m_5runs_2023-01-19-0237', 'fgo_100m_5runs_2023-01-19-0313', 'fgo_200m_20runs_2023-01-19-2308'], # 0027\n",
    "        ['fgo_0m_10runs_2023-01-18-1920', 'fgo_50m_5runs_2023-01-19-0428', 'fgo_100m_5runs_2023-01-19-0507', 'fgo_200m_20runs_2023-01-20-0138'], # 0028\n",
    "        ['fgo_0m_10runs_2023-01-18-2000', 'fgo_50m_5runs_2023-01-19-0627', 'fgo_100m_5runs_2023-01-19-0707', 'fgo_200m_20runs_100w_2023-01-20-0846']] # 0034\n",
    "mean_errors = np.zeros((4, 4))\n",
    "max_errors = np.zeros((4, 4))\n",
    "mean_errors_std = np.zeros((4, 4))\n",
    "max_errors_std = np.zeros((4, 4))\n",
    "\n",
    "# Naive-FGO runs for each sequence and attack size\n",
    "runs_blind = [['fgo_0m_100runs_100w_blind', 'fgo_50m_5runs_100w_blind', 'fgo_100m_20runs_100w_blind', 'fgo_200m_20runs_100w_blind'], # 0018\n",
    "        ['fgo_0m_7runs_100w_blind', 'fgo_50m_5runs_100w_blind', 'fgo_100m_20runs_100w_blind', 'fgo_200m_20runs_100w_blind'], # 0027\n",
    "        ['fgo_0m_7runs_100w_blind', 'fgo_50m_5runs_100w_blind', 'fgo_100m_20runs_100w_blind', 'fgo_200m_20runs_100w_blind'], # 0028\n",
    "        ['fgo_0m_6runs_100w_blind', 'fgo_50m_5runs_100w_blind', 'fgo_100m_20runs_100w_blind', 'fgo_200m_20runs_100w_blind']] # 0034\n",
    "mean_errors_blind = np.zeros((4, 4))\n",
    "max_errors_blind = np.zeros((4, 4))\n",
    "mean_errors_blind_std = np.zeros((4, 4))\n",
    "max_errors_blind_std = np.zeros((4, 4))"
   ]
  },
  {
   "cell_type": "code",
   "execution_count": null,
   "metadata": {},
   "outputs": [],
   "source": [
    "# Compute matrix of statistics for mean and max error\n",
    "\n",
    "traces = ['0018', '0027', '0028', '0034']\n",
    "for i in range(4):\n",
    "    kitti_seq = traces[i]\n",
    "    start_idx = 1550 if kitti_seq == '0028' else 0\n",
    "    gtpath = os.path.join(os.getcwd(), '..', '..', 'data', 'kitti', kitti_seq, 'oxts', 'data')\n",
    "    gt_enu, gt_Rs, gt_attitudes = process_kitti_gt(gtpath, start_idx=start_idx)\n",
    "    for j in range(4):\n",
    "        # SR FGO\n",
    "        run = runs[i][j]\n",
    "        fgo_results_path = os.path.join(os.getcwd(), '..', '..', 'results', kitti_seq, 'old', run)\n",
    "        fgo_results_files = os.listdir(fgo_results_path)\n",
    "\n",
    "        mean_errs = []\n",
    "        max_errs = []\n",
    "        for k in range(5):\n",
    "            fgo_results = np.load(os.path.join(fgo_results_path, fgo_results_files[k]))\n",
    "            fgo_positions = fgo_results['positions']\n",
    "            err = np.linalg.norm(fgo_positions - gt_enu[:N], axis=1)\n",
    "            # print(\"Mean error: \", np.mean(err))\n",
    "            # print(\"Max error: \", np.max(err))\n",
    "            mean_errs.append(np.mean(err))\n",
    "            max_errs.append(np.max(err))\n",
    "        mean_errs_mean = np.mean(mean_errs)\n",
    "        mean_errs_std = np.std(mean_errs)\n",
    "        max_errs_mean = np.mean(max_errs)\n",
    "        max_errs_std = np.std(max_errs)\n",
    "        mean_errors[i,j] = mean_errs_mean #/ lidar_mean_errs[i]\n",
    "        max_errors[i,j] = max_errs_mean #/ lidar_max_errs[i]\n",
    "        mean_errors_std[i,j] = mean_errs_std\n",
    "        max_errors_std[i,j] = max_errs_std\n",
    "\n",
    "        # Naive FGO\n",
    "        run_blind = runs_blind[i][j]\n",
    "        fgo_results_path = os.path.join(os.getcwd(), '..', '..', 'results', kitti_seq, 'final', run_blind)\n",
    "        fgo_results_files = os.listdir(fgo_results_path)\n",
    "\n",
    "        mean_errs = []\n",
    "        max_errs = []\n",
    "        for k in range(5):\n",
    "            fgo_results = np.load(os.path.join(fgo_results_path, fgo_results_files[k]))\n",
    "            fgo_positions = fgo_results['positions']\n",
    "            err = np.linalg.norm(fgo_positions - gt_enu[:N], axis=1)\n",
    "            # print(\"Mean error: \", np.mean(err))\n",
    "            # print(\"Max error: \", np.max(err))\n",
    "            mean_errs.append(np.mean(err))\n",
    "            max_errs.append(np.max(err))\n",
    "        mean_errs_mean = np.mean(mean_errs)\n",
    "        mean_errs_std = np.std(mean_errs)\n",
    "        max_errs_mean = np.mean(max_errs)\n",
    "        max_errs_std = np.std(max_errs)\n",
    "        mean_errors_blind[i,j] = mean_errs_mean #/ lidar_mean_errs[i]\n",
    "        max_errors_blind[i,j] = max_errs_mean #/ lidar_max_errs[i]\n",
    "        mean_errors_blind_std[i,j] = mean_errs_std\n",
    "        max_errors_blind_std[i,j] = max_errs_std"
   ]
  },
  {
   "cell_type": "code",
   "execution_count": null,
   "metadata": {},
   "outputs": [],
   "source": [
    "attack_rates = ['0 m/s', '0.5 m.s', '1.0 m/s', '2.0 m/s']"
   ]
  },
  {
   "cell_type": "code",
   "execution_count": null,
   "metadata": {},
   "outputs": [],
   "source": [
    "# mean error plot\n",
    "seq_i = 2\n",
    "fig = go.Figure()\n",
    "fig.add_trace(go.Scatter(x=attack_rates, y=4*[lidar_mean_errs[seq_i]], name='Lidar', mode='lines', line=dict(color='green', width=2, dash='dash')))\n",
    "fig.add_trace(go.Scatter(x=attack_rates, y=mean_errors[seq_i], error_y=dict(type='data', array=mean_errors_std[seq_i], visible=True), \n",
    "    name='SR FGO', mode='markers', marker=dict(color='blue', size=10, symbol='diamond')))\n",
    "fig.add_trace(go.Scatter(x=attack_rates, y=mean_errors_blind[seq_i], error_y=dict(type='data', array=mean_errors_blind_std[seq_i], visible=True),\n",
    "    name='Naive FGO', mode='markers', marker=dict(color='red', size=10, symbol='square')))\n",
    "fig.update_layout(width=500, height=500, xaxis_title='Spoofing rate', yaxis_title='Mean error (m)')\n",
    "fig.update_layout(legend=dict(x=1.02, y=0.98), font=dict(size=18))"
   ]
  },
  {
   "cell_type": "code",
   "execution_count": null,
   "metadata": {},
   "outputs": [],
   "source": [
    "# max error plot\n",
    "fig = go.Figure()\n",
    "fig.add_trace(go.Scatter(x=attack_rates, y=4*[lidar_max_errs[seq_i]], name='Lidar', mode='lines', line=dict(color='green', width=2, dash='dash')))\n",
    "fig.add_trace(go.Scatter(x=attack_rates, y=max_errors[seq_i], error_y=dict(type='data', array=max_errors_std[seq_i], visible=True), \n",
    "    name='SR FGO', mode='markers', marker=dict(color='blue', size=10, symbol='diamond')))\n",
    "fig.add_trace(go.Scatter(x=attack_rates, y=max_errors_blind[seq_i], error_y=dict(type='data', array=max_errors_blind_std[seq_i], visible=True),\n",
    "    name='Naive FGO', mode='markers', marker=dict(color='red', size=10, symbol='square')))\n",
    "fig.update_layout(width=900, height=500, xaxis_title='Spoofing rate', yaxis_title='Max error (m)')\n",
    "fig.update_layout(legend=dict(x=1.02, y=0.98), font=dict(size=18))"
   ]
  },
  {
   "attachments": {},
   "cell_type": "markdown",
   "metadata": {},
   "source": [
    "Subplots with shared axis"
   ]
  },
  {
   "cell_type": "code",
   "execution_count": null,
   "metadata": {},
   "outputs": [],
   "source": [
    "from plotly.subplots import make_subplots\n",
    "\n",
    "fig = make_subplots(rows=1, cols=4,\n",
    "                    shared_yaxes=True,\n",
    "                    horizontal_spacing=0.03)\n",
    "\n",
    "for seq_i in range(4):\n",
    "    showlegend = True if seq_i == 0 else False\n",
    "    fig.add_trace(go.Scatter(x=attack_rates, y=4*[lidar_max_errs[seq_i]], name='Odometry', mode='lines', line=dict(color='green', width=2, dash='dash'), \n",
    "        showlegend=showlegend), \n",
    "        row=1, col=seq_i+1)\n",
    "    fig.add_trace(go.Scatter(x=attack_rates, y=max_errors[seq_i], error_y=dict(type='data', array=max_errors_std[seq_i], visible=True), \n",
    "        name='SR FGO', mode='markers', marker=dict(color='blue', size=10, symbol='diamond'), showlegend=showlegend),\n",
    "        row=1, col=seq_i+1)\n",
    "    fig.add_trace(go.Scatter(x=attack_rates, y=max_errors_blind[seq_i], error_y=dict(type='data', array=max_errors_blind_std[seq_i], visible=True),\n",
    "        name='Naive FGO', mode='markers', marker=dict(color='red', size=10, symbol='square'), showlegend=showlegend),\n",
    "        row=1, col=seq_i+1)\n",
    "    \n",
    "fig.update_layout(width=2000, height=500, xaxis_title='', yaxis_title='Max error (m)')\n",
    "fig.update_layout(legend=dict(x=1.02, y=0.98), font=dict(size=26))"
   ]
  },
  {
   "cell_type": "code",
   "execution_count": null,
   "metadata": {},
   "outputs": [],
   "source": [
    "fig = make_subplots(rows=1, cols=4,\n",
    "                    shared_yaxes=True,\n",
    "                    horizontal_spacing=0.03)\n",
    "\n",
    "for seq_i in range(4):\n",
    "    showlegend = True if seq_i == 0 else False\n",
    "    fig.add_trace(go.Scatter(x=attack_rates, y=4*[lidar_mean_errs[seq_i]], name='Odometry', mode='lines', line=dict(color='green', width=2, dash='dash'), \n",
    "        showlegend=showlegend), \n",
    "        row=1, col=seq_i+1)\n",
    "    fig.add_trace(go.Scatter(x=attack_rates, y=mean_errors[seq_i], error_y=dict(type='data', array=mean_errors_std[seq_i], visible=True), \n",
    "        name='SR FGO', mode='markers', marker=dict(color='blue', size=10, symbol='diamond'), showlegend=showlegend),\n",
    "        row=1, col=seq_i+1)\n",
    "    fig.add_trace(go.Scatter(x=attack_rates, y=mean_errors_blind[seq_i], error_y=dict(type='data', array=mean_errors_blind_std[seq_i], visible=True),\n",
    "        name='Naive FGO', mode='markers', marker=dict(color='red', size=10, symbol='square'), showlegend=showlegend),\n",
    "        row=1, col=seq_i+1)\n",
    "    \n",
    "fig.update_layout(width=2000, height=500, xaxis_title='', yaxis_title='Mean error (m)')\n",
    "fig.update_layout(legend=dict(x=1.02, y=0.98), font=dict(size=26))"
   ]
  },
  {
   "cell_type": "code",
   "execution_count": null,
   "metadata": {},
   "outputs": [],
   "source": []
  }
 ],
 "metadata": {
  "kernelspec": {
   "display_name": "chimera",
   "language": "python",
   "name": "python3"
  },
  "language_info": {
   "codemirror_mode": {
    "name": "ipython",
    "version": 3
   },
   "file_extension": ".py",
   "mimetype": "text/x-python",
   "name": "python",
   "nbconvert_exporter": "python",
   "pygments_lexer": "ipython3",
   "version": "3.9.16"
  },
  "orig_nbformat": 4,
  "vscode": {
   "interpreter": {
    "hash": "a5edd088d6b144d42777d3bfeb942dbfa3bc6a1fda937eadc36b79f380c5a6b9"
   }
  }
 },
 "nbformat": 4,
 "nbformat_minor": 2
}
