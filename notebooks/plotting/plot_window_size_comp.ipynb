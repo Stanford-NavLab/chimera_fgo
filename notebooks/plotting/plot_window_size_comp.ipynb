{
 "cells": [
  {
   "cell_type": "code",
   "execution_count": null,
   "metadata": {},
   "outputs": [],
   "source": [
    "import numpy as np\n",
    "import os\n",
    "import plotly.graph_objects as go\n",
    "\n",
    "from chimera_fgo.util.kitti import process_kitti_gt, load_icp_results\n",
    "from chimera_fgo.util.plot import plot_trajectories, plot_MC\n",
    "from chimera_fgo.odometry import odometry\n",
    "\n",
    "%load_ext autoreload\n",
    "%autoreload 2"
   ]
  },
  {
   "cell_type": "code",
   "execution_count": null,
   "metadata": {},
   "outputs": [],
   "source": [
    "window_sizes = [2, 5, 10, 20, 30]\n",
    "data = np.array([[26.1, 8.66, 9.75, 11.5, 13.9],\n",
    "                 [189.4, 28.1, 20.9, 29.6, 30.7],\n",
    "                 [47.6, 15.2, 12.5, 7.07, 15.9],\n",
    "                 [83.8, 25.8, 23.8, 28.8, 25.5]])\n",
    "\n",
    "# Plot data against window size\n",
    "fig = go.Figure()\n",
    "for i in range(len(data)):\n",
    "    fig.add_trace(go.Scatter(x=window_sizes, y=data[i], mode='lines+markers', name=f'Sequence {i+1}'))\n",
    "fig.update_layout(title='Window Size vs. RMSE', xaxis_title='Window Size', yaxis_title='RMSE (m)',\n",
    "                  width=800, height=500)\n",
    "fig.show()"
   ]
  },
  {
   "cell_type": "code",
   "execution_count": null,
   "metadata": {},
   "outputs": [],
   "source": []
  }
 ],
 "metadata": {
  "kernelspec": {
   "display_name": "chimera",
   "language": "python",
   "name": "python3"
  },
  "language_info": {
   "codemirror_mode": {
    "name": "ipython",
    "version": 3
   },
   "file_extension": ".py",
   "mimetype": "text/x-python",
   "name": "python",
   "nbconvert_exporter": "python",
   "pygments_lexer": "ipython3",
   "version": "3.9.16"
  },
  "orig_nbformat": 4
 },
 "nbformat": 4,
 "nbformat_minor": 2
}
