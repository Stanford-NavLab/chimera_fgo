{
 "cells": [
  {
   "cell_type": "code",
   "execution_count": null,
   "metadata": {},
   "outputs": [],
   "source": [
    "import numpy as np\n",
    "import os\n",
    "import plotly.graph_objects as go\n",
    "\n",
    "from chimera_fgo.util.kitti import process_kitti_gt, load_icp_results\n",
    "from chimera_fgo.util.plot import plot_trajectories, plot_MC\n",
    "from chimera_fgo.odometry import odometry\n",
    "\n",
    "%load_ext autoreload\n",
    "%autoreload 2"
   ]
  },
  {
   "cell_type": "code",
   "execution_count": null,
   "metadata": {},
   "outputs": [],
   "source": [
    "import plotly.express as px\n",
    "colors = px.colors.qualitative.D3"
   ]
  },
  {
   "cell_type": "code",
   "execution_count": null,
   "metadata": {},
   "outputs": [],
   "source": [
    "kitti_seq = '0027'\n",
    "\n",
    "# if kitti_seq == '0027':\n",
    "#     fgo_run = 'fgo_200m_20runs_100w'\n",
    "#     fgo_blind_run = 'fgo_200m_20runs_100w_blind'\n",
    "# else:\n",
    "#     fgo_run = 'fgo_200m_10runs_100w'\n",
    "#     fgo_blind_run = 'fgo_200m_10runs_100w_blind'\n",
    "fgo_run = 'fgo_200m_20runs_100w'\n",
    "fgo_blind_run = 'fgo_200m_20runs_100w_blind'\n",
    "N = 1900\n",
    "N_BLIND = 1900"
   ]
  },
  {
   "cell_type": "code",
   "execution_count": null,
   "metadata": {},
   "outputs": [],
   "source": [
    "for kitti_seq in ['0018', '0027', '0028', '0034']:\n",
    "    fgo_results_path = os.path.join(os.getcwd(), '..', '..', 'results', 'error_plots', kitti_seq, fgo_run)\n",
    "    fgo_results_files = os.listdir(fgo_results_path)\n",
    "\n",
    "    fgo_blind_results_path = os.path.join(os.getcwd(), '..', '..', 'results', 'error_plots', kitti_seq, fgo_blind_run)\n",
    "    fgo_blind_results_files = os.listdir(fgo_blind_results_path)\n",
    "\n",
    "    if kitti_seq == '0027':\n",
    "        start_idx = 1000\n",
    "        lidar_start_idx = 0\n",
    "    elif kitti_seq == '0028':\n",
    "        start_idx = 1550\n",
    "        lidar_start_idx = 1550\n",
    "    else:\n",
    "        start_idx = 0\n",
    "        lidar_start_idx = 0\n",
    "    gtpath = os.path.join(os.getcwd(), '..', '..', 'data', 'kitti', kitti_seq, 'oxts', 'data')\n",
    "    gt_enu, gt_Rs, gt_attitudes = process_kitti_gt(gtpath, start_idx=start_idx)\n",
    "    data_path = os.path.join(os.getcwd(), '..', '..', 'data', 'kitti', kitti_seq, 'icp')\n",
    "    lidar_Rs, lidar_ts, lidar_positions, lidar_covariances = load_icp_results(data_path, start_idx=lidar_start_idx)\n",
    "    if kitti_seq == '0027':\n",
    "        lidar_Rs = lidar_Rs[start_idx:]\n",
    "        lidar_ts = lidar_ts[start_idx:]\n",
    "        init_pose = (gt_Rs[0].copy(), gt_enu[0].copy())\n",
    "        lidar_odom = [(R, t) for R, t in zip(lidar_Rs, lidar_ts)]\n",
    "        lidar_positions, _ = odometry(init_pose, lidar_odom)\n",
    "\n",
    "    n_runs = min(len(fgo_results_files), len(fgo_blind_results_files))\n",
    "    fgo_blind_err_avg = np.zeros(N_BLIND)\n",
    "    fgo_err_avg = np.zeros(N)\n",
    "    time = np.arange(N) / 10\n",
    "\n",
    "    fig = go.Figure()\n",
    "    fig.add_vline(x=100, line_width=1, line_dash=\"dash\", line_color=\"red\")\n",
    "\n",
    "    nd = 3\n",
    "\n",
    "    for i in range(n_runs):\n",
    "        fgo_results = np.load(os.path.join(fgo_results_path, fgo_results_files[i]))\n",
    "        fgo_blind_results = np.load(os.path.join(fgo_blind_results_path, fgo_blind_results_files[i]))\n",
    "        try:\n",
    "            fgo_positions = fgo_results['fgo_positions']\n",
    "        except:\n",
    "            fgo_positions = fgo_results['positions']\n",
    "        try:\n",
    "            fgo_blind_positions = fgo_blind_results['fgo_positions']\n",
    "        except:\n",
    "            fgo_blind_positions = fgo_blind_results['positions']\n",
    "        \n",
    "        fgo_blind_err = np.linalg.norm(fgo_blind_positions[:N_BLIND,:nd] - gt_enu[:N_BLIND,:nd], axis=1)\n",
    "        fgo_err = np.linalg.norm(fgo_positions[:N,:nd] - gt_enu[:N,:nd], axis=1)\n",
    "        showlegend = True if i == 0 else False\n",
    "        fig.add_trace(go.Scatter(x=time, y=fgo_blind_err, name='Naive FGO', line=dict(color='orange'), showlegend=showlegend))\n",
    "        fig.add_trace(go.Scatter(x=time, y=fgo_err, name='SR FGO', line=dict(color='blue'), showlegend=showlegend))\n",
    "\n",
    "\n",
    "    lidar_err = np.linalg.norm(lidar_positions[:N,:nd] - gt_enu[:N,:nd], axis=1)\n",
    "    fgo_blind_err_avg /= n_runs\n",
    "    fgo_err_avg /= n_runs\n",
    "\n",
    "    fig.add_trace(go.Scatter(x=time, y=lidar_err, name='Odometry only', line=dict(color='green')))\n",
    "    fig.update_layout(width=1200, height=500, xaxis_title='Time [s]', yaxis_title='L2 norm error [m]')\n",
    "    fig.update_layout(legend=dict(x=0.05, y=0.98), font=dict(size=22))\n",
    "    fig.update_layout(margin=go.layout.Margin(\n",
    "        l=20, #left margin\n",
    "        r=20, #right margin\n",
    "        b=20, #bottom margin\n",
    "        t=20  #top margin\n",
    "    ))\n",
    "    fig.show()"
   ]
  },
  {
   "cell_type": "code",
   "execution_count": null,
   "metadata": {},
   "outputs": [],
   "source": [
    "lidar_positions[:N,:2]"
   ]
  },
  {
   "cell_type": "code",
   "execution_count": null,
   "metadata": {},
   "outputs": [],
   "source": [
    "np.mean(fgo_blind_err[:1000])"
   ]
  },
  {
   "cell_type": "code",
   "execution_count": null,
   "metadata": {},
   "outputs": [],
   "source": [
    "np.mean(fgo_err[:1000])"
   ]
  },
  {
   "cell_type": "code",
   "execution_count": null,
   "metadata": {},
   "outputs": [],
   "source": []
  }
 ],
 "metadata": {
  "kernelspec": {
   "display_name": "chimera",
   "language": "python",
   "name": "python3"
  },
  "language_info": {
   "codemirror_mode": {
    "name": "ipython",
    "version": 3
   },
   "file_extension": ".py",
   "mimetype": "text/x-python",
   "name": "python",
   "nbconvert_exporter": "python",
   "pygments_lexer": "ipython3",
   "version": "3.9.16 (main, Jan 11 2023, 16:05:54) \n[GCC 11.2.0]"
  },
  "orig_nbformat": 4,
  "vscode": {
   "interpreter": {
    "hash": "a5edd088d6b144d42777d3bfeb942dbfa3bc6a1fda937eadc36b79f380c5a6b9"
   }
  }
 },
 "nbformat": 4,
 "nbformat_minor": 2
}
