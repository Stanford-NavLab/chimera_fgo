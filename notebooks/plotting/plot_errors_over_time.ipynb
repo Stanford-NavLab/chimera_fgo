{
 "cells": [
  {
   "cell_type": "code",
   "execution_count": null,
   "metadata": {},
   "outputs": [],
   "source": [
    "import numpy as np\n",
    "import os\n",
    "import plotly.graph_objects as go\n",
    "\n",
    "from chimera_fgo.util.kitti import process_kitti_gt, load_icp_results\n",
    "from chimera_fgo.util.plot import plot_trajectories, plot_MC\n",
    "\n",
    "%load_ext autoreload\n",
    "%autoreload 2"
   ]
  },
  {
   "cell_type": "code",
   "execution_count": null,
   "metadata": {},
   "outputs": [],
   "source": [
    "import plotly.express as px\n",
    "colors = px.colors.qualitative.D3"
   ]
  },
  {
   "cell_type": "code",
   "execution_count": null,
   "metadata": {},
   "outputs": [],
   "source": [
    "kitti_seq = '0028'\n",
    "fgo_run = 'fgo_200m_800start_15runs_100w'\n",
    "fgo_blind_run = 'fgo_200m_8runs_100w_blind'\n",
    "N = 1900\n",
    "N_BLIND = 1900"
   ]
  },
  {
   "cell_type": "code",
   "execution_count": null,
   "metadata": {},
   "outputs": [],
   "source": [
    "fgo_results_path = os.path.join(os.getcwd(), '..', '..', 'results', kitti_seq, '2023-01-30', fgo_run)\n",
    "fgo_results_files = os.listdir(fgo_results_path)\n",
    "\n",
    "fgo_blind_results_path = os.path.join(os.getcwd(), '..', '..', 'results', kitti_seq, 'final', fgo_blind_run)\n",
    "fgo_blind_results_files = os.listdir(fgo_blind_results_path)\n",
    "\n",
    "start_idx = 1550 if kitti_seq == '0028' else 0\n",
    "gtpath = os.path.join(os.getcwd(), '..', '..', 'data', 'kitti', kitti_seq, 'oxts', 'data')\n",
    "gt_enu, gt_Rs, gt_attitudes = process_kitti_gt(gtpath, start_idx=start_idx)\n",
    "data_path = os.path.join(os.getcwd(), '..', '..', 'data', 'kitti', kitti_seq, 'icp')\n",
    "lidar_Rs, lidar_ts, lidar_positions, lidar_covariances = load_icp_results(data_path, start_idx=start_idx)\n",
    "\n",
    "n_runs = min(len(fgo_results_files), len(fgo_blind_results_files))\n",
    "fgo_blind_err_avg = np.zeros(N_BLIND)\n",
    "fgo_err_avg = np.zeros(N)\n",
    "time = np.arange(N) / 10\n",
    "\n",
    "fig = go.Figure()\n",
    "fig.add_trace(go.Scatter(x=[100, 100], y=[0, 300], mode='lines', name='Start of attack', line=dict(color='red', dash='dash'), showlegend=False))\n",
    "\n",
    "for i in range(n_runs):\n",
    "    fgo_results = np.load(os.path.join(fgo_results_path, fgo_results_files[i]))\n",
    "    fgo_blind_results = np.load(os.path.join(fgo_blind_results_path, fgo_blind_results_files[i]))\n",
    "    fgo_positions = fgo_results['fgo_positions']\n",
    "    fgo_blind_positions = fgo_blind_results['positions']\n",
    "    \n",
    "    fgo_blind_err = np.linalg.norm(fgo_blind_positions - gt_enu[:N_BLIND], axis=1)\n",
    "    fgo_err = np.linalg.norm(fgo_positions[:N] - gt_enu[:N], axis=1)\n",
    "    # fgo_blind_err_avg += fgo_blind_err\n",
    "    # fgo_err_avg += fgo_err\n",
    "    showlegend = True if i == 0 else False\n",
    "    fig.add_trace(go.Scatter(x=time, y=fgo_blind_err, name='Naive FGO', line=dict(color='orange'), showlegend=showlegend))\n",
    "    fig.add_trace(go.Scatter(x=time, y=fgo_err, name='SR FGO', line=dict(color='blue'), showlegend=showlegend))\n",
    "\n",
    "\n",
    "lidar_err = np.linalg.norm(lidar_positions[:N] - gt_enu[:N], axis=1)\n",
    "fgo_blind_err_avg /= n_runs\n",
    "fgo_err_avg /= n_runs\n",
    "\n",
    "fig.add_trace(go.Scatter(x=time, y=lidar_err, name='Odometry only', line=dict(color='green')))\n",
    "# fig.add_trace(go.Scatter(x=np.arange(len(fgo_blind_err_avg)), y=fgo_blind_err_avg, name='FGO blind'))\n",
    "# fig.add_trace(go.Scatter(x=np.arange(len(fgo_err_avg)), y=fgo_err_avg, name='FGO'))\n",
    "fig.update_layout(width=900, height=500, xaxis_title='Time [s]', yaxis_title='L2 norm error [m]')\n",
    "fig.update_layout(legend=dict(x=0.05, y=0.98), font=dict(size=18))"
   ]
  },
  {
   "cell_type": "code",
   "execution_count": null,
   "metadata": {},
   "outputs": [],
   "source": [
    "np.mean(fgo_blind_err[:1000])"
   ]
  },
  {
   "cell_type": "code",
   "execution_count": null,
   "metadata": {},
   "outputs": [],
   "source": [
    "np.mean(fgo_err[:1000])"
   ]
  },
  {
   "cell_type": "code",
   "execution_count": null,
   "metadata": {},
   "outputs": [],
   "source": []
  }
 ],
 "metadata": {
  "kernelspec": {
   "display_name": "chimera",
   "language": "python",
   "name": "python3"
  },
  "language_info": {
   "codemirror_mode": {
    "name": "ipython",
    "version": 3
   },
   "file_extension": ".py",
   "mimetype": "text/x-python",
   "name": "python",
   "nbconvert_exporter": "python",
   "pygments_lexer": "ipython3",
   "version": "3.9.16"
  },
  "orig_nbformat": 4,
  "vscode": {
   "interpreter": {
    "hash": "a5edd088d6b144d42777d3bfeb942dbfa3bc6a1fda937eadc36b79f380c5a6b9"
   }
  }
 },
 "nbformat": 4,
 "nbformat_minor": 2
}
