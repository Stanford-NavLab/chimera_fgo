{
 "cells": [
  {
   "cell_type": "markdown",
   "metadata": {},
   "source": [
    "# Test Lidar/GPS positioning performance\n",
    "\n",
    "Adjusting factors such as: covariance values, downsample rate, Lidar/GPS relative weighting"
   ]
  },
  {
   "cell_type": "code",
   "execution_count": null,
   "metadata": {},
   "outputs": [],
   "source": [
    "import numpy as np\n",
    "import struct \n",
    "import os\n",
    "import plotly.graph_objects as go\n",
    "import time\n",
    "\n",
    "import lgchimera.general as general\n",
    "from lgchimera.io import read_lidar_bin, read_gt\n",
    "from lgchimera.pose_graph import PoseGraph\n",
    "\n",
    "%load_ext autoreload\n",
    "%autoreload 2"
   ]
  },
  {
   "cell_type": "code",
   "execution_count": null,
   "metadata": {},
   "outputs": [],
   "source": [
    "np.set_printoptions(suppress=True, precision=3)"
   ]
  },
  {
   "cell_type": "code",
   "execution_count": null,
   "metadata": {},
   "outputs": [],
   "source": [
    "start_idx = 0\n",
    "kitti_seq = '0027'"
   ]
  },
  {
   "cell_type": "markdown",
   "metadata": {},
   "source": [
    "Ground truth trajectory"
   ]
  },
  {
   "cell_type": "code",
   "execution_count": null,
   "metadata": {},
   "outputs": [],
   "source": [
    "gtpath = os.path.join(os.getcwd(), '..', 'data', 'kitti', kitti_seq, 'oxts', 'data')\n",
    "gt_data = read_gt(gtpath)\n",
    "gt_data = gt_data[start_idx:]\n",
    "lla = gt_data[:,:3]"
   ]
  },
  {
   "cell_type": "code",
   "execution_count": null,
   "metadata": {},
   "outputs": [],
   "source": [
    "from lgchimera.general import lla_to_ecef, ecef2enu\n",
    "\n",
    "ref_lla = lla[0]\n",
    "ecef = lla_to_ecef(*lla[0])\n",
    "gt_enu = np.zeros((len(lla),3))\n",
    "\n",
    "for i in range(len(lla)):\n",
    "    ecef = lla_to_ecef(*lla[i])\n",
    "    gt_enu[i] = ecef2enu(ecef[0], ecef[1], ecef[2], ref_lla[0], ref_lla[1], ref_lla[2])\n",
    "\n",
    "gt_enu = gt_enu[:,[1,0,2]]"
   ]
  },
  {
   "cell_type": "code",
   "execution_count": null,
   "metadata": {},
   "outputs": [],
   "source": [
    "from scipy.spatial.transform import Rotation as R\n",
    "\n",
    "heading = gt_data[0][5] # heading angle\n",
    "r = R.from_euler('XYZ', [0, 0, heading])\n",
    "R_heading = r.as_matrix()"
   ]
  },
  {
   "cell_type": "code",
   "execution_count": null,
   "metadata": {},
   "outputs": [],
   "source": [
    "N = len(gt_enu)\n",
    "gt_traj = go.Scatter(x=gt_enu[:,0], y=gt_enu[:,1], hovertext=np.arange(N), name='Ground-truth')\n",
    "fig = go.Figure(data=[gt_traj])\n",
    "fig.update_layout(width=900, height=700, scene=dict(aspectmode='data'))\n",
    "fig.show()"
   ]
  },
  {
   "cell_type": "markdown",
   "metadata": {},
   "source": [
    "Load LiDAR ICP results"
   ]
  },
  {
   "cell_type": "code",
   "execution_count": null,
   "metadata": {},
   "outputs": [],
   "source": [
    "# Load registration results from file\n",
    "data_path = os.path.join(os.getcwd(), '..', 'data', 'kitti', kitti_seq, 'results', 'p2pl_icp')\n",
    "ds_rate = 10\n",
    "Q_ini = 0.01\n",
    "run_name = 'start_{}_ds_{}_Q_ini_{}'.format(start_idx, ds_rate, Q_ini)\n",
    "lidar_Rs = np.load(os.path.join(data_path, 'lidar_Rs_'+run_name+'.npy'))\n",
    "lidar_ts = np.load(os.path.join(data_path, 'lidar_ts_'+run_name+'.npy'))\n",
    "positions = np.load(os.path.join(data_path, 'positions_'+run_name+'.npy'))\n",
    "lidar_covariances = np.load(os.path.join(data_path, 'covariances_'+run_name+'.npy'))\n",
    "N = len(lidar_Rs)"
   ]
  },
  {
   "cell_type": "code",
   "execution_count": null,
   "metadata": {},
   "outputs": [],
   "source": [
    "# RMSE error\n",
    "rmse_xyz = np.sqrt(np.mean((positions - gt_enu)**2, axis=0))\n",
    "print(\"RMSE (xyz): \", rmse_xyz)\n",
    "print(\"RMSE (overall): \", rmse_xyz.mean())"
   ]
  },
  {
   "cell_type": "code",
   "execution_count": null,
   "metadata": {},
   "outputs": [],
   "source": [
    "lidar_traj = go.Scatter(x=positions[:,0], y=positions[:,1], hovertext=np.arange(N), name='LiDAR odometry')\n",
    "gt_traj = go.Scatter(x=gt_enu[:N,0], y=gt_enu[:N,1], hovertext=np.arange(N), name='Ground-truth')\n",
    "start = go.Scatter(x=[0], y=[0], name='Start', mode='markers', marker=dict(size=10, color='blue'), showlegend=False)\n",
    "fig = go.Figure(data=[gt_traj, lidar_traj, start])\n",
    "fig.update_layout(width=1000, height=1000, xaxis_title='East [m]', yaxis_title='North [m]')\n",
    "# Move legend into plot\n",
    "fig.update_layout(legend=dict(x=0.75, y=0.98), font=dict(size=18))\n",
    "fig.update_yaxes(\n",
    "    scaleanchor = \"x\",\n",
    "    scaleratio = 1,\n",
    "  )\n",
    "fig.update_xaxes(autorange=True)\n",
    "fig.show()"
   ]
  },
  {
   "cell_type": "code",
   "execution_count": null,
   "metadata": {},
   "outputs": [],
   "source": [
    "fig.write_image(\"../images/\"+kitti_seq+\"_lidar_odom.png\", width=1000, height=1000)"
   ]
  },
  {
   "cell_type": "code",
   "execution_count": null,
   "metadata": {},
   "outputs": [],
   "source": [
    "gt_traj3d = go.Scatter3d(x=gt_enu[:,0], y=gt_enu[:,1], z=gt_enu[:,2], marker=dict(size=2), hovertext=np.arange(N), name='Ground-truth')\n",
    "lidar_traj3d = go.Scatter3d(x=positions[:,0], y=positions[:,1], z=positions[:,2], marker=dict(size=2), hovertext=np.arange(N), name='Lidar odometry')\n",
    "fig = go.Figure(data=[gt_traj3d, lidar_traj3d])\n",
    "fig.update_layout(width=900, height=700, scene=dict(aspectmode='data'))\n",
    "fig.show()"
   ]
  },
  {
   "attachments": {},
   "cell_type": "markdown",
   "metadata": {},
   "source": [
    "## Run Lidar/GPS FGO"
   ]
  },
  {
   "cell_type": "code",
   "execution_count": null,
   "metadata": {},
   "outputs": [],
   "source": [
    "GPS_SIGMA = 1.5 # [m] (In practice closer to 5)\n",
    "GPS_INFO = (1/GPS_SIGMA**2) * np.eye(6)\n",
    "GPS_INFO *= 0.001\n",
    "GPS_INFO = np.zeros((6,6))\n",
    "\n",
    "# Lidar information: fixed vs adaptive\n",
    "LIDAR_INFO_FIXED = True\n",
    "LIDAR_INFO = 100 * np.eye(6)\n",
    "LIDAR_INFO[:3,:3] *= 10 \n",
    "\n",
    "GPS_RATE = 10  # Ratio of lidar to GPS measurements"
   ]
  },
  {
   "cell_type": "code",
   "execution_count": null,
   "metadata": {},
   "outputs": [],
   "source": [
    "np.random.seed(0)\n",
    "\n",
    "g = PoseGraph()\n",
    "N_nodes = N\n",
    "window_size = 100\n",
    "\n",
    "# Add initial node\n",
    "R_abs = R_heading.copy()\n",
    "t_abs = gt_enu[0].copy()\n",
    "g.add_node(1, (R_abs, t_abs))\n",
    "\n",
    "# Simulate GPS measurement\n",
    "gps_pos = gt_enu[0] + np.random.normal(0, GPS_SIGMA, 3) \n",
    "# Add GPS factor and edge\n",
    "g.add_factor(1, (R_abs, gps_pos), information=GPS_INFO)\n",
    "\n",
    "graph_positions = []\n",
    "gps_measurements = []\n",
    "\n",
    "# For each new frame\n",
    "for i in range(1,N_nodes):\n",
    "    start_time = time.time()\n",
    "\n",
    "    # Get LiDAR odometry\n",
    "    R_hat = np.array(lidar_Rs[i-1])\n",
    "    t_hat = np.array(lidar_ts[i-1])\n",
    "\n",
    "    # Initialize new node with LiDAR odometry estimate\n",
    "    R_abs = R_hat @ R_abs\n",
    "    t_abs += R_abs @ t_hat\n",
    "    g.add_node(i+1, (R_abs, t_abs))\n",
    "\n",
    "    # Add LiDAR odometry edge\n",
    "    if LIDAR_INFO_FIXED:\n",
    "        lidar_information = LIDAR_INFO\n",
    "    else:\n",
    "        lidar_information = np.linalg.inv(lidar_covariances[i-1])\n",
    "    g.add_edge([i, i+1], (R_hat, t_hat), information=lidar_information)\n",
    "\n",
    "    if i % GPS_RATE == 0:\n",
    "        # Simulate GPS measurement\n",
    "        gps_pos = gt_enu[i] + np.random.normal(0, GPS_SIGMA, 3) \n",
    "        gps_measurements.append(gps_pos)\n",
    "\n",
    "        # Add GPS factor and edge\n",
    "        g.add_factor(i+1, (R_abs, gps_pos), information=GPS_INFO)\n",
    "\n",
    "        # Trim to window size\n",
    "        graph_size = max([v.id for v in g.graph._vertices])\n",
    "        if graph_size > window_size:\n",
    "            # Save pose before trimming\n",
    "            graph_positions.append(g.get_positions()[:GPS_RATE])\n",
    "            g.trim_window(n=GPS_RATE)\n",
    "        \n",
    "        # Optimize\n",
    "        g.optimize()\n",
    "\n",
    "        # Update latest pose\n",
    "        R_abs, t_abs = g.get_poses()[-1]\n",
    "\n",
    "        # Time each iteration\n",
    "        print(i, \"/\", N_nodes, \": t=\", time.time() - start_time, \"s\")\n",
    "\n",
    "graph_positions = np.array(graph_positions).reshape(-1,3)\n",
    "gps_measurements = np.array(gps_measurements)"
   ]
  },
  {
   "cell_type": "code",
   "execution_count": null,
   "metadata": {},
   "outputs": [],
   "source": [
    "fgo_traj = go.Scatter(x=graph_positions[:,0], y=graph_positions[:,1], hovertext=np.arange(N), name='FGO trajectory')\n",
    "gps_traj = go.Scatter(x=gps_measurements[:,0], y=gps_measurements[:,1], hovertext=np.arange(N), name='GPS measurements')\n",
    "gt_traj = go.Scatter(x=gt_enu[:N-window_size,0], y=gt_enu[:N-window_size,1], hovertext=np.arange(N), name='Ground-truth')\n",
    "start = go.Scatter(x=[0], y=[0], name='Start', mode='markers', marker=dict(size=10, color='blue'), showlegend=False)\n",
    "fig = go.Figure(data=[gt_traj, fgo_traj, start])\n",
    "fig.update_layout(width=1000, height=1000, xaxis_title='East [m]', yaxis_title='North [m]')\n",
    "# Move legend into plot\n",
    "fig.update_layout(legend=dict(x=0.75, y=0.98), font=dict(size=18))\n",
    "fig.update_yaxes(\n",
    "    scaleanchor = \"x\",\n",
    "    scaleratio = 1,\n",
    "  )\n",
    "fig.update_xaxes(autorange=True)\n",
    "fig.show()"
   ]
  },
  {
   "cell_type": "code",
   "execution_count": null,
   "metadata": {},
   "outputs": [],
   "source": [
    "fig.write_image(\"../images/\"+kitti_seq+\"_fgo.png\", width=1000, height=1000)"
   ]
  },
  {
   "cell_type": "code",
   "execution_count": null,
   "metadata": {},
   "outputs": [],
   "source": [
    "# RMSE error\n",
    "rmse_xyz = np.sqrt(np.mean((graph_positions[:-8] - gt_enu[:N-window_size])**2, axis=0))\n",
    "print(\"RMSE (xyz): \", rmse_xyz)\n",
    "print(\"RMSE (overall): \", rmse_xyz.mean())"
   ]
  },
  {
   "cell_type": "markdown",
   "metadata": {},
   "source": [
    "Segmented window"
   ]
  },
  {
   "cell_type": "code",
   "execution_count": null,
   "metadata": {},
   "outputs": [],
   "source": [
    "N_nodes = 1000\n",
    "window_size = 100\n",
    "num_windows = N_nodes // window_size\n",
    "\n",
    "# Add initial node\n",
    "R_abs = R_heading.copy()\n",
    "t_abs = gt_enu[0].copy()\n",
    "\n",
    "\n",
    "graph_positions = []\n",
    "gps_measurements = []\n",
    "\n",
    "# For each window\n",
    "for i in range(num_windows):\n",
    "    # Form graph over window\n",
    "    g = PoseGraph()\n",
    "\n",
    "    # Add initial node\n",
    "    g.add_node(1, (R_abs, t_abs))\n",
    "\n",
    "    # Simulate GPS measurement\n",
    "    gps_pos = gt_enu[i*window_size] + np.random.normal(0, GPS_SIGMA, 3) \n",
    "    # Add GPS factor and edge\n",
    "    g.add_factor(1, (np.eye(3), gps_pos), information=GPS_INFO)\n",
    "\n",
    "    for j in range(1,window_size):\n",
    "        idx = i*window_size + j\n",
    "        # Get LiDAR odometry\n",
    "        R_hat = np.array(lidar_Rs[idx-1])\n",
    "        t_hat = np.array(lidar_ts[idx-1])\n",
    "\n",
    "        # Initialize new node with LiDAR odometry estimate\n",
    "        R_abs = R_hat @ R_abs\n",
    "        t_abs += R_abs @ t_hat\n",
    "        g.add_node(j+1, (R_abs, t_abs))\n",
    "\n",
    "        # Add LiDAR odometry edge\n",
    "        if LIDAR_INFO_FIXED:\n",
    "            lidar_information = LIDAR_INFO\n",
    "        else:\n",
    "            lidar_information = np.linalg.inv(lidar_covariances[idx-1])\n",
    "        g.add_edge([j, j+1], (R_hat, t_hat), information=lidar_information)\n",
    "\n",
    "        # Simulate GPS measurement\n",
    "        gps_pos = gt_enu[idx] + np.random.normal(0, GPS_SIGMA, 3) \n",
    "        gps_measurements.append(gps_pos)\n",
    "\n",
    "        # Add GPS factor and edge \n",
    "        g.add_factor(j+1, (R_abs, gps_pos), information=GPS_INFO)\n",
    "\n",
    "    # Optimize\n",
    "    g.optimize()\n",
    "\n",
    "    # Store positions\n",
    "    graph_positions.append(g.get_positions())\n",
    "\n",
    "    # Update R_abs and t_abs\n",
    "    R_abs, t_abs = g.get_poses()[-1]\n",
    "\n",
    "    # Time each iteration\n",
    "    print(\"window\", i, \"/\", num_windows)\n",
    "\n",
    "graph_positions = np.reshape(graph_positions, (-1,3))\n",
    "gps_measurements = np.asarray(gps_measurements)"
   ]
  },
  {
   "cell_type": "code",
   "execution_count": null,
   "metadata": {},
   "outputs": [],
   "source": [
    "lidar_traj = go.Scatter(x=graph_positions[:,0], y=graph_positions[:,1], hovertext=np.arange(N), name='Factor graph')\n",
    "gt_traj = go.Scatter(x=gt_enu[:N_nodes,0], y=gt_enu[:N_nodes,1], hovertext=np.arange(N), name='Ground-truth')\n",
    "gps = go.Scatter(x=gps_measurements[:,0], y=gps_measurements[:,1], hovertext=np.arange(N), name='GPS measurements')\n",
    "fig = go.Figure(data=[gt_traj, lidar_traj, gps])\n",
    "fig.update_layout(width=900, height=700, scene=dict(aspectmode='data'))\n",
    "fig.show()"
   ]
  },
  {
   "cell_type": "code",
   "execution_count": null,
   "metadata": {},
   "outputs": [],
   "source": [
    "# RMSE error\n",
    "rmse_xyz = np.sqrt(np.mean((graph_positions - gt_enu[:N_nodes])**2, axis=0))\n",
    "print(\"RMSE (xyz): \", rmse_xyz)\n",
    "print(\"RMSE (overall): \", rmse_xyz.mean())"
   ]
  },
  {
   "cell_type": "code",
   "execution_count": null,
   "metadata": {},
   "outputs": [],
   "source": []
  }
 ],
 "metadata": {
  "kernelspec": {
   "display_name": "chimera",
   "language": "python",
   "name": "python3"
  },
  "language_info": {
   "codemirror_mode": {
    "name": "ipython",
    "version": 3
   },
   "file_extension": ".py",
   "mimetype": "text/x-python",
   "name": "python",
   "nbconvert_exporter": "python",
   "pygments_lexer": "ipython3",
   "version": "3.9.13 (main, Oct 13 2022, 21:23:06) [MSC v.1916 64 bit (AMD64)]"
  },
  "orig_nbformat": 4,
  "vscode": {
   "interpreter": {
    "hash": "0a5659d1405da755dd6b166a234865c66b4b4a86cd4401300ddb5f1642b72b30"
   }
  }
 },
 "nbformat": 4,
 "nbformat_minor": 2
}
