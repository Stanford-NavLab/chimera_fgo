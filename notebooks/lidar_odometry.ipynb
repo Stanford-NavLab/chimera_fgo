{
 "cells": [
  {
   "attachments": {},
   "cell_type": "markdown",
   "metadata": {},
   "source": [
    "# Compare LiDAR odometry methods\n",
    "\n",
    "Adjusting factors such as: covariance values, downsample rate, Lidar/GPS relative weighting"
   ]
  },
  {
   "cell_type": "code",
   "execution_count": null,
   "metadata": {},
   "outputs": [],
   "source": [
    "import numpy as np\n",
    "import struct \n",
    "import os\n",
    "import plotly.graph_objects as go\n",
    "import time\n",
    "\n",
    "import symforce\n",
    "try:\n",
    "    symforce.set_epsilon_to_symbol()\n",
    "except symforce.AlreadyUsedEpsilon:\n",
    "    print(\"Already set symforce epsilon\")\n",
    "    pass \n",
    "\n",
    "import symforce.symbolic as sf\n",
    "\n",
    "import chimera_fgo.util.general as general\n",
    "from chimera_fgo.util.kitti import process_kitti_gt, load_icp_results\n",
    "\n",
    "%load_ext autoreload\n",
    "%autoreload 2"
   ]
  },
  {
   "attachments": {},
   "cell_type": "markdown",
   "metadata": {},
   "source": [
    "Load data"
   ]
  },
  {
   "cell_type": "code",
   "execution_count": null,
   "metadata": {},
   "outputs": [],
   "source": [
    "kitti_seq = '0027'\n",
    "start_idx = 1550 if kitti_seq == '0028' else 0\n",
    "\n",
    "gtpath = os.path.join(os.getcwd(), '..', 'data', 'kitti', kitti_seq, 'oxts', 'data')\n",
    "gt_enu, gt_Rs, gt_attitudes = process_kitti_gt(gtpath, start_idx=start_idx)\n",
    "\n",
    "data_path = os.path.join(os.getcwd(), '..', 'data', 'kitti', kitti_seq, 'icp')\n",
    "lidar_Rs, lidar_ts, lidar_positions, lidar_covariances = load_icp_results(data_path, start_idx=start_idx)\n",
    "\n",
    "N = len(gt_enu)\n",
    "N_PLOT = 2000"
   ]
  },
  {
   "attachments": {},
   "cell_type": "markdown",
   "metadata": {},
   "source": [
    "Odometry positions from ICP results"
   ]
  },
  {
   "cell_type": "code",
   "execution_count": null,
   "metadata": {},
   "outputs": [],
   "source": [
    "# Plot against ground-truth\n",
    "fig = go.Figure()\n",
    "fig.add_trace(go.Scatter(x=gt_enu[:N_PLOT, 0], y=gt_enu[:N_PLOT, 1], mode='lines', name='Ground truth'))\n",
    "fig.add_trace(go.Scatter(x=lidar_positions[:N_PLOT, 0], y=lidar_positions[:N_PLOT, 1], mode='lines', name='Lidar odometry'))\n",
    "fig.update_layout(title='Lidar odometry vs ground truth', width=700, height=700, xaxis_title='East [m]', yaxis_title='North [m]')\n",
    "fig.update_yaxes(\n",
    "    scaleanchor = \"x\",\n",
    "    scaleratio = 1,\n",
    "  )\n",
    "fig.update_xaxes(autorange=True)\n",
    "fig.show()"
   ]
  },
  {
   "attachments": {},
   "cell_type": "markdown",
   "metadata": {},
   "source": [
    "Pose composition"
   ]
  },
  {
   "cell_type": "code",
   "execution_count": null,
   "metadata": {},
   "outputs": [],
   "source": [
    "new_lidar_positions = np.zeros_like(lidar_positions)\n",
    "\n",
    "R_abs = gt_Rs[0].copy()\n",
    "t_abs = gt_enu[0].copy()\n",
    "new_lidar_positions[0] = t_abs\n",
    "\n",
    "start_time = time.time()\n",
    "for i in range(1, N):\n",
    "    t_abs += (R_abs @ lidar_ts[i-1]).flatten()\n",
    "    #t_abs += R_abs.dot(lidar_ts[i-1])\n",
    "    R_abs = lidar_Rs[i-1] @ R_abs\n",
    "    #R_abs = lidar_Rs[i-1].dot(R_abs)\n",
    "    new_lidar_positions[i] = t_abs\n",
    "print(f\"Time taken: {time.time() - start_time}\")"
   ]
  },
  {
   "cell_type": "code",
   "execution_count": null,
   "metadata": {},
   "outputs": [],
   "source": [
    "new_lidar_positions"
   ]
  },
  {
   "cell_type": "code",
   "execution_count": null,
   "metadata": {},
   "outputs": [],
   "source": [
    "# Lidar odometry\n",
    "lidar_odom = [None] * (N - 1)\n",
    "for i in range(N - 1):\n",
    "    lidar_odom[i] = (lidar_Rs[i], lidar_ts[i])"
   ]
  },
  {
   "cell_type": "code",
   "execution_count": null,
   "metadata": {},
   "outputs": [],
   "source": [
    "init_poses = [sf.Pose3.identity()]\n",
    "init_pose = (init_poses[0].R.to_rotation_matrix().to_numpy(), init_poses[0].t.to_numpy().flatten())"
   ]
  },
  {
   "cell_type": "code",
   "execution_count": null,
   "metadata": {},
   "outputs": [],
   "source": [
    "from chimera_fgo.odometry import odometry\n",
    "\n",
    "#init_pose = (gt_Rs[0].copy(), gt_enu[0].copy())\n",
    "positions, _ = odometry(init_pose, lidar_odom)"
   ]
  },
  {
   "cell_type": "code",
   "execution_count": null,
   "metadata": {},
   "outputs": [],
   "source": [
    "positions"
   ]
  },
  {
   "attachments": {},
   "cell_type": "markdown",
   "metadata": {},
   "source": [
    "Symforce pose composition"
   ]
  },
  {
   "cell_type": "code",
   "execution_count": null,
   "metadata": {},
   "outputs": [],
   "source": [
    "sym_lidar_positions = np.zeros_like(lidar_positions)\n",
    "\n",
    "R_abs = gt_Rs[0].copy()\n",
    "t_abs = gt_enu[0].copy()\n",
    "T_abs = sf.Pose3(sf.Rot3.from_rotation_matrix(R_abs), sf.V3(t_abs))\n",
    "sym_lidar_positions[0] = t_abs\n",
    "\n",
    "start_time = time.time()\n",
    "for i in range(1, N):\n",
    "    T_icp = sf.Pose3(sf.Rot3.from_rotation_matrix(lidar_Rs[i-1]), sf.V3(lidar_ts[i-1]))\n",
    "    T_abs = T_abs * T_icp\n",
    "    sym_lidar_positions[i] = T_abs.t\n",
    "print(f\"Time taken: {time.time() - start_time}\")"
   ]
  },
  {
   "cell_type": "code",
   "execution_count": null,
   "metadata": {},
   "outputs": [],
   "source": [
    "# Plot against ground-truth\n",
    "fig = go.Figure()\n",
    "fig.add_trace(go.Scatter(x=gt_enu[:N_PLOT, 0], y=gt_enu[:N_PLOT, 1], mode='lines', name='Ground truth'))\n",
    "fig.add_trace(go.Scatter(x=sym_lidar_positions[:N_PLOT, 0], y=sym_lidar_positions[:N_PLOT, 1], mode='lines', name='Lidar odometry'))\n",
    "fig.update_layout(title='Lidar odometry vs ground truth', width=700, height=700, xaxis_title='East [m]', yaxis_title='North [m]')\n",
    "fig.update_yaxes(\n",
    "    scaleanchor = \"x\",\n",
    "    scaleratio = 1,\n",
    "  )\n",
    "fig.update_xaxes(autorange=True)\n",
    "fig.show()"
   ]
  },
  {
   "attachments": {},
   "cell_type": "markdown",
   "metadata": {},
   "source": [
    "Sliding window FGO (lidar only)"
   ]
  },
  {
   "cell_type": "code",
   "execution_count": null,
   "metadata": {},
   "outputs": [],
   "source": [
    "from chimera_fgo.symforce.fgo_lidar_only import fgo_lidar_only\n",
    "\n"
   ]
  },
  {
   "attachments": {},
   "cell_type": "markdown",
   "metadata": {},
   "source": [
    "Sliding window FGO (scaled GPS sigma)"
   ]
  }
 ],
 "metadata": {
  "kernelspec": {
   "display_name": "chimera",
   "language": "python",
   "name": "python3"
  },
  "language_info": {
   "codemirror_mode": {
    "name": "ipython",
    "version": 3
   },
   "file_extension": ".py",
   "mimetype": "text/x-python",
   "name": "python",
   "nbconvert_exporter": "python",
   "pygments_lexer": "ipython3",
   "version": "3.9.16"
  },
  "orig_nbformat": 4,
  "vscode": {
   "interpreter": {
    "hash": "a5edd088d6b144d42777d3bfeb942dbfa3bc6a1fda937eadc36b79f380c5a6b9"
   }
  }
 },
 "nbformat": 4,
 "nbformat_minor": 2
}
