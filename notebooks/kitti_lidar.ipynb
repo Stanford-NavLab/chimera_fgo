{
 "cells": [
  {
   "cell_type": "code",
   "execution_count": null,
   "metadata": {},
   "outputs": [],
   "source": [
    "import numpy as np\n",
    "import struct \n",
    "import os\n",
    "import plotly.graph_objects as go\n",
    "\n",
    "import lgchimera.general as general\n",
    "from lgchimera.io import read_lidar_bin, read_gt\n",
    "\n",
    "%load_ext autoreload\n",
    "%autoreload 2"
   ]
  },
  {
   "cell_type": "markdown",
   "metadata": {},
   "source": [
    "Read lidar points"
   ]
  },
  {
   "cell_type": "code",
   "execution_count": null,
   "metadata": {},
   "outputs": [],
   "source": [
    "binpath = os.path.join(os.getcwd(), '..', 'data', 'kitti', '2011_09_29_drive_0071_sync', 'velodyne_points', 'data')\n",
    "PC_data = read_lidar_bin(binpath)"
   ]
  },
  {
   "cell_type": "code",
   "execution_count": null,
   "metadata": {},
   "outputs": [],
   "source": [
    "N = len(PC_data)"
   ]
  },
  {
   "cell_type": "code",
   "execution_count": null,
   "metadata": {},
   "outputs": [],
   "source": [
    "# fig = go.Figure(data=general.pc_plot_trace(PC_data[0], size=2))\n",
    "# fig.update_layout(width=1600, height=900, \n",
    "#     scene=dict(aspectmode='data', xaxis=dict(visible=False), yaxis=dict(visible=False), zaxis=dict(visible=False)))\n",
    "# fig.show()"
   ]
  },
  {
   "cell_type": "markdown",
   "metadata": {},
   "source": [
    "Ground truth trajectory"
   ]
  },
  {
   "cell_type": "code",
   "execution_count": null,
   "metadata": {},
   "outputs": [],
   "source": [
    "gtpath = os.path.join(os.getcwd(), '..', 'data', 'kitti', '2011_09_29_drive_0071_sync', 'oxts', 'data')\n",
    "gt_data = read_gt(gtpath)\n",
    "lla = gt_data[:,:3]"
   ]
  },
  {
   "cell_type": "code",
   "execution_count": null,
   "metadata": {},
   "outputs": [],
   "source": [
    "# fig = go.Figure(data=go.Scatter(x=lla[:,0], y=lla[:,1]))\n",
    "# fig.update_layout(width=900, height=700, \n",
    "#     scene=dict(aspectmode='data', xaxis=dict(visible=False), yaxis=dict(visible=False), zaxis=dict(visible=False)))\n",
    "# fig.show()"
   ]
  },
  {
   "cell_type": "markdown",
   "metadata": {},
   "source": [
    "LiDAR odometry with ICP"
   ]
  },
  {
   "cell_type": "code",
   "execution_count": null,
   "metadata": {},
   "outputs": [],
   "source": [
    "import open3d as o3d\n",
    "from lgchimera.registration import initialize_source_and_target, p2p_ICP, p2pl_ICP"
   ]
  },
  {
   "cell_type": "code",
   "execution_count": null,
   "metadata": {},
   "outputs": [],
   "source": [
    "from scipy.spatial.transform import Rotation as R\n",
    "\n",
    "heading = gt_data[0][5] # heading angle\n",
    "r = R.from_euler('XYZ', [0, 0, heading])\n",
    "R_heading = r.as_matrix()"
   ]
  },
  {
   "cell_type": "code",
   "execution_count": null,
   "metadata": {},
   "outputs": [],
   "source": [
    "N = len(PC_data)\n",
    "R_abs = R_heading\n",
    "t_abs = np.zeros(3)\n",
    "poses = N * [None]\n",
    "poses[0] = (R_abs.copy(), t_abs.copy())\n",
    "\n",
    "lidar_Rs = []\n",
    "lidar_ts = []\n",
    "\n",
    "for i in range(1,N):\n",
    "    print(i)\n",
    "    trans_init = np.eye(4)\n",
    "    threshold = 1\n",
    "    source, target = initialize_source_and_target(PC_data[i], PC_data[i-1])\n",
    "    reg_p2p, eval_time = p2pl_ICP(source, target, threshold, trans_init)\n",
    "    R_hat = reg_p2p.transformation[:3,:3]\n",
    "    t_hat = reg_p2p.transformation[:3,3]\n",
    "\n",
    "    lidar_Rs.append(R_hat)\n",
    "    lidar_ts.append(t_hat)\n",
    "\n",
    "    t_abs += (R_abs @ t_hat).flatten()\n",
    "    R_abs = R_hat @ R_abs\n",
    "    poses[i] = (R_abs.copy(), t_abs.copy())"
   ]
  },
  {
   "cell_type": "code",
   "execution_count": null,
   "metadata": {},
   "outputs": [],
   "source": [
    "# TODO: Save registration results to file"
   ]
  },
  {
   "cell_type": "code",
   "execution_count": null,
   "metadata": {},
   "outputs": [],
   "source": [
    "positions = np.zeros((N,3))\n",
    "for i in range(N):\n",
    "    positions[i] = poses[i][1]"
   ]
  },
  {
   "cell_type": "code",
   "execution_count": null,
   "metadata": {},
   "outputs": [],
   "source": [
    "lidar_traj = go.Scatter(x=positions[:,0], y=positions[:,1], hovertext=np.arange(N), name='Lidar odometry')\n",
    "# fig = go.Figure(data=lidar_traj)\n",
    "# fig.update_layout(width=900, height=700, scene=dict(aspectmode='data'))\n",
    "# fig.show()"
   ]
  },
  {
   "cell_type": "code",
   "execution_count": null,
   "metadata": {},
   "outputs": [],
   "source": [
    "from lgchimera.general import lla_to_ecef, ecef2enu\n",
    "\n",
    "ref_lla = lla[0]\n",
    "\n",
    "ecef = lla_to_ecef(*lla[0])\n",
    "\n",
    "gt_ecef = np.zeros((N,3))\n",
    "\n",
    "for i in range(N):\n",
    "    ecef = lla_to_ecef(*lla[i])\n",
    "    gt_ecef[i] = ecef2enu(ecef[0], ecef[1], ecef[2], ref_lla[0], ref_lla[1], ref_lla[2])\n",
    "\n",
    "gt_ecef = gt_ecef[:,[1,0,2]]\n",
    "\n",
    "gt_traj = go.Scatter(x=gt_ecef[:,0], y=gt_ecef[:,1], hovertext=np.arange(N), name='Ground-truth')\n",
    "# fig = go.Figure(data=gt_traj)\n",
    "# fig.update_layout(width=900, height=700, scene=dict(aspectmode='data'))\n",
    "# fig.show()"
   ]
  },
  {
   "cell_type": "code",
   "execution_count": null,
   "metadata": {},
   "outputs": [],
   "source": [
    "fig = go.Figure(data=[gt_traj, lidar_traj])\n",
    "fig.update_layout(width=900, height=700, scene=dict(aspectmode='data'))\n",
    "fig.show()"
   ]
  },
  {
   "cell_type": "code",
   "execution_count": null,
   "metadata": {},
   "outputs": [],
   "source": [
    "gt_traj3d = go.Scatter3d(x=gt_ecef[:,0], y=gt_ecef[:,1], z=gt_ecef[:,2], marker=dict(size=2), hovertext=np.arange(N), name='Ground-truth')\n",
    "lidar_traj3d = go.Scatter3d(x=positions[:,0], y=positions[:,1], z=positions[:,2], marker=dict(size=2), hovertext=np.arange(N), name='Lidar odometry')\n",
    "fig = go.Figure(data=[gt_traj3d, lidar_traj3d])\n",
    "fig.update_layout(width=900, height=700, scene=dict(aspectmode='data'))\n",
    "fig.show()"
   ]
  },
  {
   "cell_type": "markdown",
   "metadata": {},
   "source": [
    "## Factor Graph test\n",
    "\n",
    "Lidar odometry and simulated GPS with noisy ground-truth"
   ]
  },
  {
   "cell_type": "code",
   "execution_count": null,
   "metadata": {},
   "outputs": [],
   "source": [
    "from lgchimera.pose_graph import PoseGraph\n",
    "\n",
    "g = PoseGraph()\n",
    "\n",
    "# Add initial node\n",
    "R_abs = R_heading.copy()\n",
    "t_abs = gt_ecef[0].copy()\n",
    "g.add_node(1, (R_abs, t_abs))\n",
    "\n",
    "# GPS noise parameters\n",
    "gps_sigma = 0.2  # [m]\n",
    "\n",
    "# ICP parameters\n",
    "trans_init = np.eye(4)\n",
    "threshold = 1\n",
    "\n",
    "# For each new frame\n",
    "for i in range(1,50):\n",
    "    print(i)\n",
    "\n",
    "    # Perform LiDAR odometry\n",
    "    source, target = initialize_source_and_target(PC_data[i], PC_data[i-1])\n",
    "    reg_p2p, eval_time = p2pl_ICP(source, target, threshold, trans_init)\n",
    "    R_hat = np.array(reg_p2p.transformation[:3,:3])\n",
    "    t_hat = np.array(reg_p2p.transformation[:3,3])\n",
    "\n",
    "    # Initialize new node with LiDAR odometry estimate\n",
    "    R_abs = R_hat @ R_abs\n",
    "    t_abs += R_abs @ t_hat\n",
    "    g.add_node(i+1, (R_abs, t_abs))\n",
    "\n",
    "    # Add LiDAR odometry edge\n",
    "    g.add_edge([i, i+1], (R_hat, t_hat))\n",
    "\n",
    "    # Simulate GPS measurement\n",
    "    gps_pos = gt_ecef[i] + np.random.normal(0, gps_sigma, 3)\n",
    "\n",
    "    # Add GPS factor and edge\n",
    "    g.add_factor(i+1, (np.eye(3), gps_pos))"
   ]
  },
  {
   "cell_type": "code",
   "execution_count": null,
   "metadata": {},
   "outputs": [],
   "source": [
    "fig = go.Figure(data=g.plot_trace())\n",
    "fig.update_layout(width=1600, height=900, scene=dict(aspectmode='data'))\n",
    "fig.show()"
   ]
  },
  {
   "attachments": {},
   "cell_type": "markdown",
   "metadata": {},
   "source": [
    "## Add Authentication"
   ]
  },
  {
   "cell_type": "code",
   "execution_count": null,
   "metadata": {},
   "outputs": [],
   "source": []
  }
 ],
 "metadata": {
  "kernelspec": {
   "display_name": "chimera",
   "language": "python",
   "name": "python3"
  },
  "language_info": {
   "codemirror_mode": {
    "name": "ipython",
    "version": 3
   },
   "file_extension": ".py",
   "mimetype": "text/x-python",
   "name": "python",
   "nbconvert_exporter": "python",
   "pygments_lexer": "ipython3",
   "version": "3.9.13"
  },
  "orig_nbformat": 4,
  "vscode": {
   "interpreter": {
    "hash": "0a5659d1405da755dd6b166a234865c66b4b4a86cd4401300ddb5f1642b72b30"
   }
  }
 },
 "nbformat": 4,
 "nbformat_minor": 2
}
