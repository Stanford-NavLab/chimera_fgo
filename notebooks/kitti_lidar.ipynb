{
 "cells": [
  {
   "cell_type": "code",
   "execution_count": null,
   "metadata": {},
   "outputs": [],
   "source": [
    "import numpy as np\n",
    "import struct \n",
    "import os\n",
    "import plotly.graph_objects as go\n",
    "\n",
    "import lgchimera.general as general\n",
    "from lgchimera.io import read_lidar_bin, read_gt"
   ]
  },
  {
   "cell_type": "markdown",
   "metadata": {},
   "source": [
    "Read lidar points"
   ]
  },
  {
   "cell_type": "code",
   "execution_count": null,
   "metadata": {},
   "outputs": [],
   "source": [
    "def read_lidar_bin(binpath):\n",
    "    \"\"\"Read bin files containing LiDAR point cloud data \n",
    "\n",
    "    Parameters\n",
    "    ----------\n",
    "    binpath : str\n",
    "        Path to folder containing bin files\n",
    "\n",
    "    Returns\n",
    "    -------\n",
    "    PC_data : list of np.array (n_pts x 3)\n",
    "        List of point clouds for each frame\n",
    "\n",
    "    \"\"\"\n",
    "    PC_data = []\n",
    "    size_float = 4\n",
    "    for i in range(len(os.listdir(binpath))):\n",
    "        list_pcd = []\n",
    "        bf = binpath+\"/{i}.bin\".format(i=str(i).zfill(10))\n",
    "\n",
    "        try: \n",
    "            with open(bf, \"rb\") as f: \n",
    "                byte = f.read(size_float*4)\n",
    "                while byte:\n",
    "                    x, y ,z, intensity = struct.unpack(\"ffff\", byte)\n",
    "                    list_pcd.append([x, y, z])\n",
    "                    byte = f.read(size_float * 4)\n",
    "            np_pcd = np.asarray(list_pcd)\n",
    "        except FileNotFoundError:\n",
    "            print(f\"file {i} wasn't found\")\n",
    "        \n",
    "        PC_data.append(np_pcd)\n",
    "    \n",
    "    return PC_data"
   ]
  },
  {
   "cell_type": "code",
   "execution_count": null,
   "metadata": {},
   "outputs": [],
   "source": [
    "binpath = os.path.join(os.getcwd(), '..', 'data', 'kitti', '2011_09_26_drive_0009_sync', 'velodyne_points', 'data')\n",
    "PC_data = read_lidar_bin(binpath)"
   ]
  },
  {
   "cell_type": "code",
   "execution_count": null,
   "metadata": {},
   "outputs": [],
   "source": [
    "len(PC_data[0])"
   ]
  },
  {
   "cell_type": "code",
   "execution_count": null,
   "metadata": {},
   "outputs": [],
   "source": [
    "fig = go.Figure(data=general.pc_plot_trace(PC_data[0], size=2))\n",
    "fig.update_layout(width=1600, height=900, \n",
    "    scene=dict(aspectmode='data', xaxis=dict(visible=False), yaxis=dict(visible=False), zaxis=dict(visible=False)))\n",
    "fig.show()"
   ]
  },
  {
   "cell_type": "markdown",
   "metadata": {},
   "source": [
    "Ground truth trajectory"
   ]
  },
  {
   "cell_type": "code",
   "execution_count": null,
   "metadata": {},
   "outputs": [],
   "source": [
    "gtpath = os.path.join(os.getcwd(), 'oxts', 'data')"
   ]
  },
  {
   "cell_type": "code",
   "execution_count": null,
   "metadata": {},
   "outputs": [],
   "source": [
    "gtpath = os.path.join(os.getcwd(), '..', 'data', 'kitti', '2011_09_26_drive_0009_sync', 'oxts', 'data')"
   ]
  },
  {
   "cell_type": "code",
   "execution_count": null,
   "metadata": {},
   "outputs": [],
   "source": [
    "gt_data = read_gt(gtpath)"
   ]
  },
  {
   "cell_type": "code",
   "execution_count": null,
   "metadata": {},
   "outputs": [],
   "source": [
    "lla = gt_data[:,:3]"
   ]
  },
  {
   "cell_type": "code",
   "execution_count": null,
   "metadata": {},
   "outputs": [],
   "source": [
    "fig = go.Figure(data=go.Scatter(x=lla[:,0], y=lla[:,1]))\n",
    "fig.update_layout(width=900, height=700, \n",
    "    scene=dict(aspectmode='data', xaxis=dict(visible=False), yaxis=dict(visible=False), zaxis=dict(visible=False)))\n",
    "fig.show()"
   ]
  },
  {
   "cell_type": "markdown",
   "metadata": {},
   "source": [
    "LiDAR odometry with ICP"
   ]
  },
  {
   "cell_type": "code",
   "execution_count": null,
   "metadata": {},
   "outputs": [],
   "source": [
    "import open3d as o3d\n",
    "import time"
   ]
  },
  {
   "cell_type": "code",
   "execution_count": null,
   "metadata": {},
   "outputs": [],
   "source": [
    "def initalize_source_and_target(source_data, target_data):\n",
    "    source = o3d.geometry.PointCloud()\n",
    "    source.points = o3d.utility.Vector3dVector(source_data)\n",
    "    source.estimate_normals()\n",
    "    source.orient_normals_towards_camera_location()\n",
    "\n",
    "    target = o3d.geometry.PointCloud()\n",
    "    target.points = o3d.utility.Vector3dVector(target_data)\n",
    "    target.estimate_normals()\n",
    "    target.orient_normals_towards_camera_location()\n",
    "\n",
    "    return source, target\n",
    "\n",
    "def p2p_ICP(source, target, threshold, trans_init):\n",
    "    start_time = time.time()\n",
    "    reg_p2p = o3d.pipelines.registration.registration_icp(\n",
    "        source, target, threshold, trans_init,\n",
    "        o3d.pipelines.registration.TransformationEstimationPointToPoint())\n",
    "    eval_time = time.time() - start_time\n",
    "    return reg_p2p, eval_time"
   ]
  },
  {
   "cell_type": "code",
   "execution_count": null,
   "metadata": {},
   "outputs": [],
   "source": [
    "source, target = initalize_source_and_target(PC_data[0], PC_data[1])"
   ]
  },
  {
   "cell_type": "code",
   "execution_count": null,
   "metadata": {},
   "outputs": [],
   "source": [
    "trans_init = np.eye(4)\n",
    "threshold = 1\n",
    "\n",
    "evaluation = o3d.pipelines.registration.evaluate_registration(\n",
    "    source, target, threshold, trans_init)\n",
    "print(evaluation)"
   ]
  },
  {
   "cell_type": "code",
   "execution_count": null,
   "metadata": {},
   "outputs": [],
   "source": [
    "reg_p2p, eval_time = p2p_ICP(source, target, threshold, trans_init)\n",
    "print(\"Elapased time: \", eval_time)\n",
    "print(reg_p2p)\n",
    "print(\"Transformation is:\")\n",
    "print(reg_p2p.transformation)"
   ]
  },
  {
   "cell_type": "code",
   "execution_count": null,
   "metadata": {},
   "outputs": [],
   "source": [
    "N = len(PC_data)\n",
    "R_abs = np.eye(3)\n",
    "t_abs = np.zeros(3)\n",
    "poses = N * [None]\n",
    "poses[0] = (R_abs, t_abs)\n",
    "\n",
    "for i in range(N-1):\n",
    "    print(i)\n",
    "    trans_init = np.eye(4)\n",
    "    threshold = 1\n",
    "    source, target = initalize_source_and_target(PC_data[i+1], PC_data[i])\n",
    "    reg_p2p, eval_time = p2p_ICP(source, target, threshold, trans_init)\n",
    "    R_hat = reg_p2p.transformation[:3,:3]\n",
    "    t_hat = reg_p2p.transformation[:3,3]\n",
    "\n",
    "    t_abs += (R_abs @ t_hat).flatten()\n",
    "    R_abs = R_hat @ R_abs\n",
    "    poses[i] = (R_abs.copy(), t_abs.copy())\n",
    "    "
   ]
  },
  {
   "cell_type": "code",
   "execution_count": null,
   "metadata": {},
   "outputs": [],
   "source": [
    "positions = np.zeros((N,3))\n",
    "for i in range(1,N):\n",
    "    positions[i] = poses[i-1][1]"
   ]
  },
  {
   "cell_type": "code",
   "execution_count": null,
   "metadata": {},
   "outputs": [],
   "source": [
    "fig = go.Figure(data=go.Scatter(x=positions[:,0], y=positions[:,1]))\n",
    "fig.update_layout(width=900, height=700, \n",
    "    scene=dict(aspectmode='data', xaxis=dict(visible=False), yaxis=dict(visible=False), zaxis=dict(visible=False)))\n",
    "fig.show()"
   ]
  },
  {
   "cell_type": "code",
   "execution_count": null,
   "metadata": {},
   "outputs": [],
   "source": []
  }
 ],
 "metadata": {
  "kernelspec": {
   "display_name": "Python 3.9.7 ('base')",
   "language": "python",
   "name": "python3"
  },
  "language_info": {
   "codemirror_mode": {
    "name": "ipython",
    "version": 3
   },
   "file_extension": ".py",
   "mimetype": "text/x-python",
   "name": "python",
   "nbconvert_exporter": "python",
   "pygments_lexer": "ipython3",
   "version": "3.9.7"
  },
  "orig_nbformat": 4,
  "vscode": {
   "interpreter": {
    "hash": "eca24fb3ac710b469626a4cdac74763669fae15eb4df36376a3df9d1bcd11aa2"
   }
  }
 },
 "nbformat": 4,
 "nbformat_minor": 2
}
