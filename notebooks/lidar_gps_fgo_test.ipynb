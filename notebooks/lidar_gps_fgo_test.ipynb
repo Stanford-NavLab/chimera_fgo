{
 "cells": [
  {
   "cell_type": "markdown",
   "metadata": {},
   "source": [
    "# Test backend (pose graph)"
   ]
  },
  {
   "cell_type": "code",
   "execution_count": null,
   "metadata": {},
   "outputs": [],
   "source": [
    "import numpy as np\n",
    "from graphslam.load import load_g2o_se3\n",
    "from graphslam.graph import Graph\n",
    "from graphslam.vertex import Vertex\n",
    "from graphslam.pose.se3 import PoseSE3\n",
    "from graphslam.edge.edge_odometry import EdgeOdometry\n",
    "import plotly.graph_objects as go\n",
    "\n",
    "from lgchimera.geom_util import R_to_quat\n",
    "from lgchimera.pose_graph import PoseGraph\n",
    "\n",
    "%load_ext autoreload\n",
    "%autoreload 2"
   ]
  },
  {
   "cell_type": "markdown",
   "metadata": {},
   "source": [
    "## Graph formation"
   ]
  },
  {
   "cell_type": "code",
   "execution_count": null,
   "metadata": {},
   "outputs": [],
   "source": [
    "g = PoseGraph()\n",
    "\n",
    "GPS_SIGMA = 0.1\n",
    "LIDAR_SIGMA = 0.1\n",
    "\n",
    "GPS_cov = np.eye(6)\n",
    "GPS_cov[:3,:3] *= GPS_SIGMA\n",
    "LiDAR_cov = np.eye(6)\n",
    "LiDAR_cov[:3,:3] *= LIDAR_SIGMA\n",
    "GPS_inf = np.linalg.inv(GPS_cov)\n",
    "LiDAR_inf = np.linalg.inv(LiDAR_cov)\n",
    "\n",
    "# Initial node positions\n",
    "N = 5\n",
    "node_positions = np.array([[0, 0, 0],\n",
    "                           [1, 0, 0],\n",
    "                           [2, 0, 0],\n",
    "                           [3, 0, 0],\n",
    "                           [4, 0, 0]], dtype=float)\n",
    "\n",
    "# GPS position measurements\n",
    "GPS_positions = node_positions.copy()\n",
    "GPS_positions += np.random.normal(0, GPS_SIGMA, (N,3))"
   ]
  },
  {
   "cell_type": "code",
   "execution_count": null,
   "metadata": {},
   "outputs": [],
   "source": [
    "# Nodes\n",
    "for i, pos in enumerate(node_positions):\n",
    "    g.add_node(i+1, (np.eye(3), pos))\n",
    "\n",
    "# Lidar odometry edges\n",
    "# R = I for all edges\n",
    "lidar_ts = np.diff(node_positions, axis=0) + np.random.normal(0, LIDAR_SIGMA, (N-1,3))\n",
    "lidar_R = np.eye(3)\n",
    "for i, t in enumerate(lidar_ts):\n",
    "    g.add_edge([i+1, i+2], (lidar_R, t), information=LiDAR_inf)\n",
    "\n",
    "# GPS factors\n",
    "for i, pos in enumerate(GPS_positions):\n",
    "    g.add_factor(i+1, (np.eye(3), pos), information=GPS_inf)"
   ]
  },
  {
   "cell_type": "code",
   "execution_count": null,
   "metadata": {},
   "outputs": [],
   "source": [
    "fig = go.Figure(data=g.plot_trace())\n",
    "fig.update_layout(width=1000, height=800, scene=dict(aspectmode='data'))\n",
    "fig.show()"
   ]
  },
  {
   "cell_type": "code",
   "execution_count": null,
   "metadata": {},
   "outputs": [],
   "source": [
    "[e.vertex_ids for e in g.graph._edges]"
   ]
  },
  {
   "cell_type": "code",
   "execution_count": null,
   "metadata": {},
   "outputs": [],
   "source": [
    "fig = go.Figure(data=g.plot_trace())\n",
    "fig.update_layout(width=1000, height=800, scene=dict(aspectmode='data'))\n",
    "fig.show()"
   ]
  },
  {
   "cell_type": "code",
   "execution_count": null,
   "metadata": {},
   "outputs": [],
   "source": [
    "e = g.graph._edges[4]\n",
    "e.calc_error()"
   ]
  },
  {
   "cell_type": "code",
   "execution_count": null,
   "metadata": {},
   "outputs": [],
   "source": [
    "g.optimize(suppress_output=False)"
   ]
  },
  {
   "cell_type": "code",
   "execution_count": null,
   "metadata": {},
   "outputs": [],
   "source": [
    "g.get_positions()"
   ]
  },
  {
   "cell_type": "code",
   "execution_count": null,
   "metadata": {},
   "outputs": [],
   "source": [
    "fig = go.Figure(data=g.plot_trace())\n",
    "fig.update_layout(width=1600, height=900, scene=dict(aspectmode='data'))\n",
    "fig.show()"
   ]
  },
  {
   "cell_type": "markdown",
   "metadata": {},
   "source": [
    "## \"Spoofed\" GPS measurements"
   ]
  },
  {
   "cell_type": "code",
   "execution_count": null,
   "metadata": {},
   "outputs": [],
   "source": [
    "GPS_positions = node_positions.copy()\n",
    "GPS_positions += np.random.normal(0, GPS_SIGMA, (N,3))\n",
    "GPS_positions[2,:] += [0, 2, 0]"
   ]
  },
  {
   "cell_type": "code",
   "execution_count": null,
   "metadata": {},
   "outputs": [],
   "source": [
    "g = PoseGraph()\n",
    "\n",
    "# Nodes\n",
    "for i, pos in enumerate(node_positions):\n",
    "    g.add_node(i+1, (np.eye(3), pos))\n",
    "\n",
    "# Lidar odometry edges\n",
    "# R = I for all edges\n",
    "lidar_ts = np.diff(node_positions, axis=0) + np.random.normal(0, LIDAR_SIGMA, (N-1,3))\n",
    "lidar_R = np.eye(3)\n",
    "for i, t in enumerate(lidar_ts):\n",
    "    g.add_edge([i+1, i+2], (lidar_R, t), information=LiDAR_inf)\n",
    "\n",
    "# GPS factors\n",
    "for i, pos in enumerate(GPS_positions):\n",
    "    g.add_factor(i+1, (np.eye(3), pos), information=GPS_inf)"
   ]
  },
  {
   "cell_type": "code",
   "execution_count": null,
   "metadata": {},
   "outputs": [],
   "source": [
    "fig = go.Figure(data=g.plot_trace())\n",
    "fig.update_layout(width=1600, height=900, scene=dict(aspectmode='data'))\n",
    "fig.show()"
   ]
  },
  {
   "cell_type": "code",
   "execution_count": null,
   "metadata": {},
   "outputs": [],
   "source": [
    "g.optimize()"
   ]
  },
  {
   "cell_type": "code",
   "execution_count": null,
   "metadata": {},
   "outputs": [],
   "source": [
    "fig = go.Figure(data=g.plot_trace())\n",
    "fig.update_layout(width=1600, height=900, scene=dict(aspectmode='data'))\n",
    "fig.show()"
   ]
  },
  {
   "cell_type": "code",
   "execution_count": null,
   "metadata": {},
   "outputs": [],
   "source": [
    "# Compute test statistic\n",
    "q = 0\n",
    "for e in g.graph._edges:\n",
    "    if e.vertex_ids[0] > 0:\n",
    "        q += e.calc_chi2()"
   ]
  },
  {
   "cell_type": "code",
   "execution_count": null,
   "metadata": {},
   "outputs": [],
   "source": [
    "q"
   ]
  },
  {
   "cell_type": "code",
   "execution_count": null,
   "metadata": {},
   "outputs": [],
   "source": [
    "from scipy.stats import chi2\n",
    "\n",
    "# Compute threshold\n",
    "alpha = 0.001\n",
    "T = chi2.ppf(1-alpha, df=3*N)"
   ]
  },
  {
   "cell_type": "code",
   "execution_count": null,
   "metadata": {},
   "outputs": [],
   "source": [
    "T"
   ]
  },
  {
   "attachments": {},
   "cell_type": "markdown",
   "metadata": {},
   "source": [
    "## Position Edges"
   ]
  },
  {
   "cell_type": "code",
   "execution_count": null,
   "metadata": {},
   "outputs": [],
   "source": [
    "e = g.graph._edges[0]\n",
    "e.calc_error()"
   ]
  },
  {
   "cell_type": "code",
   "execution_count": null,
   "metadata": {},
   "outputs": [],
   "source": [
    "from lgchimera.edge_position import EdgePosition\n",
    "from graphslam.pose.r3 import PoseR3"
   ]
  },
  {
   "cell_type": "code",
   "execution_count": null,
   "metadata": {},
   "outputs": [],
   "source": [
    "p1 = PoseSE3(np.zeros(3), np.zeros(4))\n",
    "v1 = Vertex(10, p1)\n",
    "p2 = PoseSE3(np.zeros(3), np.zeros(4))\n",
    "v2 = Vertex(10, p2)\n",
    "PoseR3(np.zeros(3)) - v1.pose[:3].to_array() - v2.pose[:3].to_array()"
   ]
  },
  {
   "cell_type": "code",
   "execution_count": null,
   "metadata": {},
   "outputs": [],
   "source": [
    "e = EdgePosition([0, 1], information=np.eye(3), estimate=np.zeros(3))\n",
    "e.calc_error()"
   ]
  },
  {
   "cell_type": "code",
   "execution_count": null,
   "metadata": {},
   "outputs": [],
   "source": [
    "g.graph._link_edges()"
   ]
  },
  {
   "cell_type": "code",
   "execution_count": null,
   "metadata": {},
   "outputs": [],
   "source": []
  }
 ],
 "metadata": {
  "kernelspec": {
   "display_name": "Python 3.9.13 ('chimera')",
   "language": "python",
   "name": "python3"
  },
  "language_info": {
   "codemirror_mode": {
    "name": "ipython",
    "version": 3
   },
   "file_extension": ".py",
   "mimetype": "text/x-python",
   "name": "python",
   "nbconvert_exporter": "python",
   "pygments_lexer": "ipython3",
   "version": "3.9.13 (main, Oct 13 2022, 21:23:06) [MSC v.1916 64 bit (AMD64)]"
  },
  "orig_nbformat": 4,
  "vscode": {
   "interpreter": {
    "hash": "b51628fb31a099f3a52b8f65894da0831d19a49b2da6494c0c73d17c09e49a34"
   }
  }
 },
 "nbformat": 4,
 "nbformat_minor": 2
}
