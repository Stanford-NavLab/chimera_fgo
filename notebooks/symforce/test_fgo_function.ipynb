{
 "cells": [
  {
   "cell_type": "code",
   "execution_count": null,
   "metadata": {},
   "outputs": [],
   "source": [
    "import numpy as np\n",
    "import os\n",
    "import plotly.graph_objects as go\n",
    "from tqdm import tqdm\n",
    "import pandas as pd\n",
    "\n",
    "import chimera_fgo.util.general as general\n",
    "from chimera_fgo.util.io import read_lidar_bin, read_gt\n",
    "from chimera_fgo.util.kitti import process_kitti_gt, load_icp_results, load_sv_positions\n",
    "from chimera_fgo.util.geometry import euler_to_R\n",
    "\n",
    "import symforce\n",
    "try:\n",
    "    symforce.set_epsilon_to_symbol()\n",
    "except symforce.AlreadyUsedEpsilon:\n",
    "    print(\"Already set symforce epsilon\")\n",
    "    pass \n",
    "\n",
    "import symforce.symbolic as sf\n",
    "from chimera_fgo.chimera_fgo import chimera_fgo\n",
    "\n",
    "%load_ext autoreload\n",
    "%autoreload 2\n",
    "\n",
    "np.set_printoptions(suppress=True, precision=3)"
   ]
  },
  {
   "cell_type": "code",
   "execution_count": null,
   "metadata": {},
   "outputs": [],
   "source": [
    "# ================================================= #\n",
    "#                    PARAMETERS                     #\n",
    "# ================================================= #\n",
    "params = {}\n",
    "params['MITIGATION'] = True\n",
    "params['ATTITUDE'] = False\n",
    "\n",
    "params['N_SHIFT'] = 10\n",
    "params['N_WINDOW'] = 100\n",
    "params['GPS_RATE'] = 10\n",
    "\n",
    "params['TRAJLEN'] = 2000   \n",
    "\n",
    "params['ATTACK_START'] = params['TRAJLEN'] // 2\n",
    "params['ALPHA'] = 0.001  # False alarm (FA) rate\n",
    "\n",
    "params['PR_SIGMA'] = 6.0  # [m]\n",
    "params['PR_SPOOFED_SIGMA'] = 1e5  # [m]\n",
    "\n",
    "# Lidar odometry covariance\n",
    "ODOM_R_SIGMA = 0.01  # so(3) tangent space units\n",
    "ODOM_T_SIGMA = 0.05  # [m]\n",
    "ODOM_SIGMA = np.ones(6)\n",
    "ODOM_SIGMA[:3] *= ODOM_R_SIGMA\n",
    "ODOM_SIGMA[3:] *= ODOM_T_SIGMA\n",
    "params['ODOM_SIGMA'] = ODOM_SIGMA\n",
    "\n",
    "# Attitude measurement standard deviations\n",
    "ATT_SIGMA_SCALE = 0.2\n",
    "ATT_SIGMA = ATT_SIGMA_SCALE * np.ones(3)  # so(3) tangent space units (~= rad for small values)\n",
    "params['ATT_SIGMA'] = ATT_SIGMA\n",
    "\n",
    "params['kitti_seq'] = '0018'\n",
    "params['MAX_BIAS'] = 100 "
   ]
  },
  {
   "cell_type": "code",
   "execution_count": null,
   "metadata": {},
   "outputs": [],
   "source": [
    "output = chimera_fgo(params)"
   ]
  },
  {
   "cell_type": "code",
   "execution_count": null,
   "metadata": {},
   "outputs": [],
   "source": [
    "fgo_positions = output['fgo_positions']\n",
    "\n",
    "# Plot\n",
    "fig = go.Figure()\n",
    "fig.add_trace(go.Scatter(x=fgo_positions[:, 0], y=fgo_positions[:, 1], mode='lines', name='FGO'))\n",
    "fig.show()"
   ]
  },
  {
   "cell_type": "code",
   "execution_count": null,
   "metadata": {},
   "outputs": [],
   "source": [
    "import tracemalloc\n",
    "\n",
    "def foo():\n",
    "    l = []\n",
    "    l.append(np.arange(10000))\n",
    "    \n",
    "\n",
    "def bar():\n",
    "    foo()\n",
    "\n",
    "for i in range(100):\n",
    "    tracemalloc.start()\n",
    "    bar()\n",
    "    print(tracemalloc.get_traced_memory())"
   ]
  },
  {
   "cell_type": "code",
   "execution_count": null,
   "metadata": {},
   "outputs": [],
   "source": []
  }
 ],
 "metadata": {
  "kernelspec": {
   "display_name": "chimera",
   "language": "python",
   "name": "python3"
  },
  "language_info": {
   "codemirror_mode": {
    "name": "ipython",
    "version": 3
   },
   "file_extension": ".py",
   "mimetype": "text/x-python",
   "name": "python",
   "nbconvert_exporter": "python",
   "pygments_lexer": "ipython3",
   "version": "3.9.16"
  },
  "orig_nbformat": 4,
  "vscode": {
   "interpreter": {
    "hash": "a5edd088d6b144d42777d3bfeb942dbfa3bc6a1fda937eadc36b79f380c5a6b9"
   }
  }
 },
 "nbformat": 4,
 "nbformat_minor": 2
}
