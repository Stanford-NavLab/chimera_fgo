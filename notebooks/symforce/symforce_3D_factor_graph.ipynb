{
 "cells": [
  {
   "cell_type": "code",
   "execution_count": null,
   "metadata": {},
   "outputs": [],
   "source": [
    "import symforce\n",
    "try:\n",
    "    symforce.set_epsilon_to_symbol()\n",
    "except symforce.AlreadyUsedEpsilon:\n",
    "    print(\"Already set symforce epsilon\")\n",
    "    pass "
   ]
  },
  {
   "cell_type": "code",
   "execution_count": null,
   "metadata": {},
   "outputs": [],
   "source": [
    "import symforce.symbolic as sf\n",
    "import numpy as np\n",
    "from symforce.values import Values\n",
    "from symforce import typing as T"
   ]
  },
  {
   "cell_type": "code",
   "execution_count": null,
   "metadata": {},
   "outputs": [],
   "source": [
    "# 3 satellites, 3 poses\n",
    "num_poses = 4\n",
    "num_satellites = 3"
   ]
  },
  {
   "cell_type": "code",
   "execution_count": null,
   "metadata": {},
   "outputs": [],
   "source": [
    "# Ground truth positions\n",
    "x_pos = np.array([[3, 1, 0], [7, 4, 0], [11, 3, 0], [15, 1, 0]])\n",
    "s_pos = np.array([[-2, 7, 0], [13, 9, 0], [7, -6, 0]])\n",
    "\n",
    "# Ground truth distances\n",
    "ranges = np.zeros((num_poses, num_satellites))\n",
    "for i in range(num_poses):\n",
    "    for j in range(num_satellites):\n",
    "        ranges[i,j] = np.linalg.norm(x_pos[i] - s_pos[j]) + np.random.normal(0, 0.1)"
   ]
  },
  {
   "cell_type": "code",
   "execution_count": null,
   "metadata": {},
   "outputs": [],
   "source": [
    "# Store in values\n",
    "initial_values = Values(\n",
    "    world_T_body=[sf.Pose3.identity()] * num_poses,\n",
    "    world_t_landmark=[sf.V3(s_pos[0]), sf.V3(s_pos[1]), sf.V3(s_pos[2])],\n",
    "    odometry=[sf.Pose3(R = sf.Rot3(), t = sf.V3(4, 3, 0)), \n",
    "               sf.Pose3(R = sf.Rot3(), t = sf.V3(4, -1, 0)),\n",
    "               sf.Pose3(R = sf.Rot3(), t = sf.V3(2, -2, 0))],\n",
    "    ranges=ranges.tolist(),\n",
    "    sigmas=sf.V6(1, 1, 1, 1, 1, 1),\n",
    "    epsilon=sf.numeric_epsilon,\n",
    ")"
   ]
  },
  {
   "cell_type": "code",
   "execution_count": null,
   "metadata": {},
   "outputs": [],
   "source": [
    "def range_residual(\n",
    "    pose: sf.Pose3, satellite: sf.V3, range: sf.Scalar, epsilon: sf.Scalar\n",
    ") -> sf.V1:\n",
    "    return sf.V1((pose.t - satellite).norm(epsilon=epsilon) - range)"
   ]
  },
  {
   "cell_type": "code",
   "execution_count": null,
   "metadata": {},
   "outputs": [],
   "source": [
    "def odometry_residual(\n",
    "    world_T_a: sf.Pose3,\n",
    "    world_T_b: sf.Pose3,\n",
    "    a_T_b: sf.Pose3,\n",
    "    diagonal_sigmas: sf.V6,\n",
    "    epsilon: sf.Scalar,\n",
    ") -> sf.V6:\n",
    "    \"\"\"\n",
    "    Residual on the relative pose between two timesteps of the robot.\n",
    "    Args:\n",
    "        world_T_a: First pose in the world frame\n",
    "        world_T_b: Second pose in the world frame\n",
    "        a_T_b: Relative pose measurement between the poses\n",
    "        diagonal_sigmas: Diagonal standard deviation of the tangent-space error\n",
    "        epsilon: Small number for singularity handling\n",
    "    \"\"\"\n",
    "    a_T_b_predicted = world_T_a.inverse() * world_T_b\n",
    "    tangent_error = a_T_b_predicted.local_coordinates(a_T_b, epsilon=epsilon)\n",
    "    return T.cast(sf.V6, sf.M.diag(diagonal_sigmas.to_flat_list()).inv() * sf.V6(tangent_error))"
   ]
  },
  {
   "cell_type": "code",
   "execution_count": null,
   "metadata": {},
   "outputs": [],
   "source": [
    "pose_a = sf.Pose3(R = sf.Rot3.identity(), t = sf.V3([0, 0, 0]))\n",
    "pose_b = sf.Pose3(R = sf.Rot3.identity(), t = sf.V3([1, 2, 3]))\n",
    "# TODO: check order of T and R\n",
    "pose_a_b = sf.Pose3(R = sf.Rot3.identity(), t = sf.V3([0, 0, 0]))\n",
    "diagonal_sigmas = sf.V6(1, 1, 1, 1, 1, 1)\n",
    "epsilon = sf.numeric_epsilon\n",
    "odometry_residual(pose_a, pose_b, pose_a_b, diagonal_sigmas, epsilon)"
   ]
  },
  {
   "cell_type": "code",
   "execution_count": null,
   "metadata": {},
   "outputs": [],
   "source": [
    "def bearing_residual(\n",
    "    pose: sf.Pose2, landmark: sf.V2, angle: sf.Scalar, epsilon: sf.Scalar\n",
    ") -> sf.V1:\n",
    "    t_body = pose.inverse() * landmark\n",
    "    predicted_angle = sf.atan2(t_body[1], t_body[0], epsilon=epsilon)\n",
    "    return sf.V1(sf.wrap_angle(predicted_angle - angle))"
   ]
  },
  {
   "cell_type": "code",
   "execution_count": null,
   "metadata": {},
   "outputs": [],
   "source": [
    "def odometry_residual(\n",
    "    pose_a: sf.Pose2, pose_b: sf.Pose2, dist: sf.Scalar, epsilon: sf.Scalar\n",
    ") -> sf.V1:\n",
    "    return sf.V1((pose_b.t - pose_a.t).norm(epsilon=epsilon) - dist)"
   ]
  },
  {
   "cell_type": "code",
   "execution_count": null,
   "metadata": {},
   "outputs": [],
   "source": [
    "from symforce.codegen import Codegen, CppConfig\n",
    "\n",
    "codegen = Codegen.function(odometry_residual, config=CppConfig())\n",
    "codegen_linearization = codegen.with_linearization(\n",
    "    which_args=[\"pose\"]\n",
    ")\n",
    "metadata = codegen_linearization.generate_function()\n",
    "print(open(metadata.generated_files[0]).read())"
   ]
  },
  {
   "cell_type": "code",
   "execution_count": null,
   "metadata": {},
   "outputs": [],
   "source": [
    "from symforce.opt.factor import Factor\n",
    "\n",
    "factors = []\n",
    "\n",
    "# Range factors\n",
    "for i in range(num_poses):\n",
    "    for j in range(num_satellites):\n",
    "        factors.append(Factor(\n",
    "            residual=range_residual,\n",
    "            keys=[f\"world_T_body[{i}]\", f\"world_t_landmark[{j}]\", f\"ranges[{i}][{j}]\", \"epsilon\"],\n",
    "        ))\n",
    "\n",
    "# Odometry factors\n",
    "for i in range(num_poses - 1):\n",
    "    factors.append(Factor(\n",
    "        residual=odometry_residual,\n",
    "        keys=[f\"world_T_body[{i}]\", f\"world_T_body[{i + 1}]\", f\"odometry[{i}]\", \"sigmas\", \"epsilon\"],\n",
    "    ))"
   ]
  },
  {
   "cell_type": "code",
   "execution_count": null,
   "metadata": {},
   "outputs": [],
   "source": [
    "from symforce.opt.optimizer import Optimizer\n",
    "\n",
    "optimizer = Optimizer(\n",
    "    factors=factors,\n",
    "    optimized_keys=[f\"world_T_body[{i}]\" for i in range(num_poses)],\n",
    "    # So that we save more information about each iteration, to visualize later:\n",
    "    debug_stats=True,\n",
    ")"
   ]
  },
  {
   "cell_type": "code",
   "execution_count": null,
   "metadata": {},
   "outputs": [],
   "source": [
    "result = optimizer.optimize(initial_values)"
   ]
  },
  {
   "cell_type": "code",
   "execution_count": null,
   "metadata": {},
   "outputs": [],
   "source": [
    "for i, pose in enumerate(result.optimized_values[\"world_T_body\"]):\n",
    "        print(f\"world_T_body {i}: t = {pose.position()}, R = {pose.rotation().to_tangent()}\")"
   ]
  },
  {
   "cell_type": "code",
   "execution_count": null,
   "metadata": {},
   "outputs": [],
   "source": []
  }
 ],
 "metadata": {
  "kernelspec": {
   "display_name": "chimera",
   "language": "python",
   "name": "python3"
  },
  "language_info": {
   "codemirror_mode": {
    "name": "ipython",
    "version": 3
   },
   "file_extension": ".py",
   "mimetype": "text/x-python",
   "name": "python",
   "nbconvert_exporter": "python",
   "pygments_lexer": "ipython3",
   "version": "3.9.15 (main, Nov 24 2022, 14:31:59) \n[GCC 11.2.0]"
  },
  "orig_nbformat": 4,
  "vscode": {
   "interpreter": {
    "hash": "a5edd088d6b144d42777d3bfeb942dbfa3bc6a1fda937eadc36b79f380c5a6b9"
   }
  }
 },
 "nbformat": 4,
 "nbformat_minor": 2
}
