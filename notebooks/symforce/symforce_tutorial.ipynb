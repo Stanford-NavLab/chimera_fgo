{
 "cells": [
  {
   "attachments": {},
   "cell_type": "markdown",
   "metadata": {},
   "source": [
    "## Factor graph example"
   ]
  },
  {
   "cell_type": "code",
   "execution_count": 9,
   "metadata": {},
   "outputs": [
    {
     "ename": "AlreadyUsedEpsilon",
     "evalue": "Cannot set return value of epsilon after it has already been called.",
     "output_type": "error",
     "traceback": [
      "\u001b[0;31m---------------------------------------------------------------------------\u001b[0m",
      "\u001b[0;31mAlreadyUsedEpsilon\u001b[0m                        Traceback (most recent call last)",
      "Cell \u001b[0;32mIn[9], line 2\u001b[0m\n\u001b[1;32m      1\u001b[0m \u001b[39mimport\u001b[39;00m \u001b[39msymforce\u001b[39;00m\n\u001b[0;32m----> 2\u001b[0m symforce\u001b[39m.\u001b[39;49mset_epsilon_to_symbol()\n\u001b[1;32m      3\u001b[0m \u001b[39mimport\u001b[39;00m \u001b[39msymforce\u001b[39;00m\u001b[39m.\u001b[39;00m\u001b[39msymbolic\u001b[39;00m \u001b[39mas\u001b[39;00m \u001b[39msf\u001b[39;00m\n\u001b[1;32m      4\u001b[0m \u001b[39mimport\u001b[39;00m \u001b[39mnumpy\u001b[39;00m \u001b[39mas\u001b[39;00m \u001b[39mnp\u001b[39;00m\n",
      "File \u001b[0;32m~/anaconda3/envs/chimera/lib/python3.9/site-packages/symforce/__init__.py:294\u001b[0m, in \u001b[0;36mset_epsilon_to_symbol\u001b[0;34m(name)\u001b[0m\n\u001b[1;32m    291\u001b[0m \u001b[39melse\u001b[39;00m:\n\u001b[1;32m    292\u001b[0m     \u001b[39mraise\u001b[39;00m InvalidSymbolicApiError(get_symbolic_api())\n\u001b[0;32m--> 294\u001b[0m _set_epsilon(sympy\u001b[39m.\u001b[39;49mSymbol(name))\n",
      "File \u001b[0;32m~/anaconda3/envs/chimera/lib/python3.9/site-packages/symforce/__init__.py:269\u001b[0m, in \u001b[0;36m_set_epsilon\u001b[0;34m(new_epsilon)\u001b[0m\n\u001b[1;32m    258\u001b[0m \u001b[39m\"\"\"\u001b[39;00m\n\u001b[1;32m    259\u001b[0m \u001b[39mSet the default epsilon for SymForce\u001b[39;00m\n\u001b[1;32m    260\u001b[0m \n\u001b[0;32m   (...)\u001b[0m\n\u001b[1;32m    266\u001b[0m \u001b[39m    new_epsilon: The new default epsilon to use\u001b[39;00m\n\u001b[1;32m    267\u001b[0m \u001b[39m\"\"\"\u001b[39;00m\n\u001b[1;32m    268\u001b[0m \u001b[39mif\u001b[39;00m _have_used_epsilon:\n\u001b[0;32m--> 269\u001b[0m     \u001b[39mraise\u001b[39;00m AlreadyUsedEpsilon(\n\u001b[1;32m    270\u001b[0m         \u001b[39m\"\u001b[39m\u001b[39mCannot set return value of epsilon after it has already been called.\u001b[39m\u001b[39m\"\u001b[39m\n\u001b[1;32m    271\u001b[0m     )\n\u001b[1;32m    273\u001b[0m \u001b[39mglobal\u001b[39;00m _epsilon  \u001b[39m# pylint: disable=global-statement\u001b[39;00m\n\u001b[1;32m    274\u001b[0m _epsilon \u001b[39m=\u001b[39m new_epsilon\n",
      "\u001b[0;31mAlreadyUsedEpsilon\u001b[0m: Cannot set return value of epsilon after it has already been called."
     ]
    }
   ],
   "source": [
    "import symforce\n",
    "symforce.set_epsilon_to_symbol()\n",
    "import symforce.symbolic as sf\n",
    "import numpy as np\n",
    "from symforce.values import Values\n",
    "from symforce import typing as T"
   ]
  },
  {
   "cell_type": "code",
   "execution_count": 2,
   "metadata": {},
   "outputs": [],
   "source": [
    "# 3 satellites, 3 poses\n",
    "num_poses = 3\n",
    "num_satellites = 3"
   ]
  },
  {
   "cell_type": "code",
   "execution_count": 3,
   "metadata": {},
   "outputs": [],
   "source": [
    "# Ground truth positions\n",
    "x_pos = np.array([[3, 1], [7, 4], [11, 3]])\n",
    "s_pos = np.array([[-2, 7], [13, 9], [7, -6]])\n",
    "\n",
    "# Ground truth distances\n",
    "ranges = np.zeros((num_satellites, num_poses))\n",
    "for i in range(num_satellites):\n",
    "    for j in range(num_poses):\n",
    "        ranges[i, j] = np.linalg.norm(x_pos[j, :] - s_pos[i, :])"
   ]
  },
  {
   "cell_type": "code",
   "execution_count": 4,
   "metadata": {},
   "outputs": [],
   "source": [
    "# Ground truth headings\n",
    "x1_heading = np.arctan2(4, 3)\n",
    "x2_heading = np.arctan2(4, -1)\n",
    "x3_heading = 0"
   ]
  },
  {
   "cell_type": "code",
   "execution_count": 5,
   "metadata": {},
   "outputs": [],
   "source": [
    "# Store in values\n",
    "initial_values = Values(\n",
    "    poses=[sf.Pose2.identity()] * num_poses,\n",
    "    satellites=[sf.V2(-2, 7), sf.V2(13, 9), sf.V2(7, -6)],\n",
    "    odometry=[sf.Pose2(R = sf.Rot2.from_angle(x2_heading-x1_heading), t = sf.V2(4, 3)), \n",
    "               sf.Pose2(R = sf.Rot2.from_angle(x3_heading-x2_heading), t = sf.V2(4, -1))],\n",
    "    ranges=ranges,\n",
    "    epsilon=sf.numeric_epsilon,\n",
    ")"
   ]
  },
  {
   "cell_type": "code",
   "execution_count": 11,
   "metadata": {},
   "outputs": [
    {
     "data": {
      "text/plain": [
       "<Rot3 <Q xyzw=[0, 0, 0, 1]>>"
      ]
     },
     "execution_count": 11,
     "metadata": {},
     "output_type": "execute_result"
    }
   ],
   "source": [
    "sf.Rot3()"
   ]
  },
  {
   "cell_type": "code",
   "execution_count": 13,
   "metadata": {},
   "outputs": [
    {
     "data": {
      "text/plain": [
       "<Pose3 R=<Rot3 <Q xyzw=[0, 0, 0, 1]>>, t=(4, 3, 2)>"
      ]
     },
     "execution_count": 13,
     "metadata": {},
     "output_type": "execute_result"
    }
   ],
   "source": [
    "sf.Pose3(R = sf.Rot3(), t = sf.V3(4, 3, 2))"
   ]
  },
  {
   "cell_type": "code",
   "execution_count": 10,
   "metadata": {},
   "outputs": [],
   "source": [
    "p1 = sf.Pose2(R = sf.Rot2.from_angle(2.0), t = sf.V2(4, 3))\n",
    "p2 = sf.Pose2(R = sf.Rot2.from_angle(1.0), t = sf.V2(2, 4))"
   ]
  },
  {
   "cell_type": "code",
   "execution_count": 11,
   "metadata": {},
   "outputs": [
    {
     "data": {
      "text/plain": [
       "<Pose2 R=<Rot2 <C real=0.54030230586814, imag=-0.841470984807897>>, t=(-2.68562217789625, 5.74497702162717)>"
      ]
     },
     "execution_count": 11,
     "metadata": {},
     "output_type": "execute_result"
    }
   ],
   "source": [
    "p2.compose(p1.inverse())"
   ]
  },
  {
   "cell_type": "code",
   "execution_count": 22,
   "metadata": {},
   "outputs": [
    {
     "data": {
      "text/plain": [
       "<Pose2 R=<Rot2 <C real=0.54030230586814, imag=0.841470984807897>>, t=(2, 4)>"
      ]
     },
     "execution_count": 22,
     "metadata": {},
     "output_type": "execute_result"
    }
   ],
   "source": [
    "p2"
   ]
  },
  {
   "cell_type": "code",
   "execution_count": 25,
   "metadata": {},
   "outputs": [
    {
     "data": {
      "text/plain": [
       "<Pose2 R=<Rot2 <C real=0.54030230586814, imag=0.841470984807897>>, t=(2, 4)>"
      ]
     },
     "metadata": {},
     "output_type": "display_data"
    }
   ],
   "source": [
    "display(T.cast(sf.V3, p2))"
   ]
  },
  {
   "cell_type": "code",
   "execution_count": 6,
   "metadata": {},
   "outputs": [],
   "source": [
    "def range_residual(\n",
    "    pose: sf.Pose2, satellite: sf.V2, range: sf.Scalar, epsilon: sf.Scalar\n",
    ") -> sf.V1:\n",
    "    return sf.V1((satellite - pose.t).norm(epsilon=epsilon) - range)"
   ]
  },
  {
   "cell_type": "code",
   "execution_count": 7,
   "metadata": {},
   "outputs": [],
   "source": [
    "def odometry_residual(\n",
    "    pose_a: sf.Pose2, pose_b: sf.Pose2, odom: sf.Pose2, epsilon: sf.Scalar\n",
    ") -> sf.V3:\n",
    "    pose_diff = pose_b.compose(pose_a.inverse())\n",
    "    return T.cast(sf.V3, pose_diff.compose(odom.inverse()))"
   ]
  },
  {
   "cell_type": "code",
   "execution_count": 8,
   "metadata": {},
   "outputs": [
    {
     "name": "stderr",
     "output_type": "stream",
     "text": [
      "codegen.__init__():123 WARNING -- \n",
      "    Generating code with epsilon set to 0 - This is dangerous!  You may get NaNs, Infs,\n",
      "    or numerically unstable results from calling generated functions near singularities.\n",
      "\n",
      "    In order to safely generate code, you should set epsilon to either a symbol\n",
      "    (recommended) or a small numerical value like `sf.numeric_epsilon`.  You should do\n",
      "    this before importing any other code from symforce, e.g. with\n",
      "\n",
      "        import symforce\n",
      "        symforce.set_epsilon_to_symbol()\n",
      "\n",
      "    or\n",
      "\n",
      "        import symforce\n",
      "        symforce.set_epsilon_to_number()\n",
      "\n",
      "    For more information on use of epsilon to prevent singularities, take a look at the\n",
      "    Epsilon Tutorial: https://symforce.org/tutorials/epsilon_tutorial.html\n",
      "\n",
      "codegen.__init__():123 WARNING -- \n",
      "    Generating code with epsilon set to 0 - This is dangerous!  You may get NaNs, Infs,\n",
      "    or numerically unstable results from calling generated functions near singularities.\n",
      "\n",
      "    In order to safely generate code, you should set epsilon to either a symbol\n",
      "    (recommended) or a small numerical value like `sf.numeric_epsilon`.  You should do\n",
      "    this before importing any other code from symforce, e.g. with\n",
      "\n",
      "        import symforce\n",
      "        symforce.set_epsilon_to_symbol()\n",
      "\n",
      "    or\n",
      "\n",
      "        import symforce\n",
      "        symforce.set_epsilon_to_number()\n",
      "\n",
      "    For more information on use of epsilon to prevent singularities, take a look at the\n",
      "    Epsilon Tutorial: https://symforce.org/tutorials/epsilon_tutorial.html\n",
      "\n",
      "codegen.__init__():123 WARNING -- \n",
      "    Generating code with epsilon set to 0 - This is dangerous!  You may get NaNs, Infs,\n",
      "    or numerically unstable results from calling generated functions near singularities.\n",
      "\n",
      "    In order to safely generate code, you should set epsilon to either a symbol\n",
      "    (recommended) or a small numerical value like `sf.numeric_epsilon`.  You should do\n",
      "    this before importing any other code from symforce, e.g. with\n",
      "\n",
      "        import symforce\n",
      "        symforce.set_epsilon_to_symbol()\n",
      "\n",
      "    or\n",
      "\n",
      "        import symforce\n",
      "        symforce.set_epsilon_to_number()\n",
      "\n",
      "    For more information on use of epsilon to prevent singularities, take a look at the\n",
      "    Epsilon Tutorial: https://symforce.org/tutorials/epsilon_tutorial.html\n",
      "\n",
      "codegen.__init__():123 WARNING -- \n",
      "    Generating code with epsilon set to 0 - This is dangerous!  You may get NaNs, Infs,\n",
      "    or numerically unstable results from calling generated functions near singularities.\n",
      "\n",
      "    In order to safely generate code, you should set epsilon to either a symbol\n",
      "    (recommended) or a small numerical value like `sf.numeric_epsilon`.  You should do\n",
      "    this before importing any other code from symforce, e.g. with\n",
      "\n",
      "        import symforce\n",
      "        symforce.set_epsilon_to_symbol()\n",
      "\n",
      "    or\n",
      "\n",
      "        import symforce\n",
      "        symforce.set_epsilon_to_number()\n",
      "\n",
      "    For more information on use of epsilon to prevent singularities, take a look at the\n",
      "    Epsilon Tutorial: https://symforce.org/tutorials/epsilon_tutorial.html\n",
      "\n",
      "codegen.__init__():123 WARNING -- \n",
      "    Generating code with epsilon set to 0 - This is dangerous!  You may get NaNs, Infs,\n",
      "    or numerically unstable results from calling generated functions near singularities.\n",
      "\n",
      "    In order to safely generate code, you should set epsilon to either a symbol\n",
      "    (recommended) or a small numerical value like `sf.numeric_epsilon`.  You should do\n",
      "    this before importing any other code from symforce, e.g. with\n",
      "\n",
      "        import symforce\n",
      "        symforce.set_epsilon_to_symbol()\n",
      "\n",
      "    or\n",
      "\n",
      "        import symforce\n",
      "        symforce.set_epsilon_to_number()\n",
      "\n",
      "    For more information on use of epsilon to prevent singularities, take a look at the\n",
      "    Epsilon Tutorial: https://symforce.org/tutorials/epsilon_tutorial.html\n",
      "\n",
      "codegen.__init__():123 WARNING -- \n",
      "    Generating code with epsilon set to 0 - This is dangerous!  You may get NaNs, Infs,\n",
      "    or numerically unstable results from calling generated functions near singularities.\n",
      "\n",
      "    In order to safely generate code, you should set epsilon to either a symbol\n",
      "    (recommended) or a small numerical value like `sf.numeric_epsilon`.  You should do\n",
      "    this before importing any other code from symforce, e.g. with\n",
      "\n",
      "        import symforce\n",
      "        symforce.set_epsilon_to_symbol()\n",
      "\n",
      "    or\n",
      "\n",
      "        import symforce\n",
      "        symforce.set_epsilon_to_number()\n",
      "\n",
      "    For more information on use of epsilon to prevent singularities, take a look at the\n",
      "    Epsilon Tutorial: https://symforce.org/tutorials/epsilon_tutorial.html\n",
      "\n",
      "codegen.__init__():123 WARNING -- \n",
      "    Generating code with epsilon set to 0 - This is dangerous!  You may get NaNs, Infs,\n",
      "    or numerically unstable results from calling generated functions near singularities.\n",
      "\n",
      "    In order to safely generate code, you should set epsilon to either a symbol\n",
      "    (recommended) or a small numerical value like `sf.numeric_epsilon`.  You should do\n",
      "    this before importing any other code from symforce, e.g. with\n",
      "\n",
      "        import symforce\n",
      "        symforce.set_epsilon_to_symbol()\n",
      "\n",
      "    or\n",
      "\n",
      "        import symforce\n",
      "        symforce.set_epsilon_to_number()\n",
      "\n",
      "    For more information on use of epsilon to prevent singularities, take a look at the\n",
      "    Epsilon Tutorial: https://symforce.org/tutorials/epsilon_tutorial.html\n",
      "\n",
      "codegen.__init__():123 WARNING -- \n",
      "    Generating code with epsilon set to 0 - This is dangerous!  You may get NaNs, Infs,\n",
      "    or numerically unstable results from calling generated functions near singularities.\n",
      "\n",
      "    In order to safely generate code, you should set epsilon to either a symbol\n",
      "    (recommended) or a small numerical value like `sf.numeric_epsilon`.  You should do\n",
      "    this before importing any other code from symforce, e.g. with\n",
      "\n",
      "        import symforce\n",
      "        symforce.set_epsilon_to_symbol()\n",
      "\n",
      "    or\n",
      "\n",
      "        import symforce\n",
      "        symforce.set_epsilon_to_number()\n",
      "\n",
      "    For more information on use of epsilon to prevent singularities, take a look at the\n",
      "    Epsilon Tutorial: https://symforce.org/tutorials/epsilon_tutorial.html\n",
      "\n",
      "codegen.__init__():123 WARNING -- \n",
      "    Generating code with epsilon set to 0 - This is dangerous!  You may get NaNs, Infs,\n",
      "    or numerically unstable results from calling generated functions near singularities.\n",
      "\n",
      "    In order to safely generate code, you should set epsilon to either a symbol\n",
      "    (recommended) or a small numerical value like `sf.numeric_epsilon`.  You should do\n",
      "    this before importing any other code from symforce, e.g. with\n",
      "\n",
      "        import symforce\n",
      "        symforce.set_epsilon_to_symbol()\n",
      "\n",
      "    or\n",
      "\n",
      "        import symforce\n",
      "        symforce.set_epsilon_to_number()\n",
      "\n",
      "    For more information on use of epsilon to prevent singularities, take a look at the\n",
      "    Epsilon Tutorial: https://symforce.org/tutorials/epsilon_tutorial.html\n",
      "\n",
      "codegen.__init__():123 WARNING -- \n",
      "    Generating code with epsilon set to 0 - This is dangerous!  You may get NaNs, Infs,\n",
      "    or numerically unstable results from calling generated functions near singularities.\n",
      "\n",
      "    In order to safely generate code, you should set epsilon to either a symbol\n",
      "    (recommended) or a small numerical value like `sf.numeric_epsilon`.  You should do\n",
      "    this before importing any other code from symforce, e.g. with\n",
      "\n",
      "        import symforce\n",
      "        symforce.set_epsilon_to_symbol()\n",
      "\n",
      "    or\n",
      "\n",
      "        import symforce\n",
      "        symforce.set_epsilon_to_number()\n",
      "\n",
      "    For more information on use of epsilon to prevent singularities, take a look at the\n",
      "    Epsilon Tutorial: https://symforce.org/tutorials/epsilon_tutorial.html\n",
      "\n",
      "codegen.__init__():123 WARNING -- \n",
      "    Generating code with epsilon set to 0 - This is dangerous!  You may get NaNs, Infs,\n",
      "    or numerically unstable results from calling generated functions near singularities.\n",
      "\n",
      "    In order to safely generate code, you should set epsilon to either a symbol\n",
      "    (recommended) or a small numerical value like `sf.numeric_epsilon`.  You should do\n",
      "    this before importing any other code from symforce, e.g. with\n",
      "\n",
      "        import symforce\n",
      "        symforce.set_epsilon_to_symbol()\n",
      "\n",
      "    or\n",
      "\n",
      "        import symforce\n",
      "        symforce.set_epsilon_to_number()\n",
      "\n",
      "    For more information on use of epsilon to prevent singularities, take a look at the\n",
      "    Epsilon Tutorial: https://symforce.org/tutorials/epsilon_tutorial.html\n",
      "\n"
     ]
    }
   ],
   "source": [
    "from symforce.opt.factor import Factor\n",
    "\n",
    "factors = []\n",
    "\n",
    "# Range factors\n",
    "for i in range(num_poses):\n",
    "    for j in range(num_satellites):\n",
    "        factors.append(Factor(\n",
    "            residual=range_residual,\n",
    "            keys=[f\"poses[{i}]\", f\"satellites[{j}]\", f\"ranges[{i}][{j}]\", \"epsilon\"],\n",
    "        ))\n",
    "\n",
    "# Odometry factors\n",
    "for i in range(num_poses - 1):\n",
    "    factors.append(Factor(\n",
    "        residual=odometry_residual,\n",
    "        keys=[f\"poses[{i}]\", f\"poses[{i + 1}]\", f\"odometry[{i}]\", \"epsilon\"],\n",
    "    ))"
   ]
  },
  {
   "cell_type": "code",
   "execution_count": 27,
   "metadata": {},
   "outputs": [
    {
     "ename": "ValueError",
     "evalue": "The output of a factor must be a column vector representing the residual (of shape Nx1).  For factor \"odometry_residual\", got an object of type <class 'symforce.geo.pose2.Pose2'> instead",
     "output_type": "error",
     "traceback": [
      "\u001b[0;31m---------------------------------------------------------------------------\u001b[0m",
      "\u001b[0;31mValueError\u001b[0m                                Traceback (most recent call last)",
      "Cell \u001b[0;32mIn[27], line 3\u001b[0m\n\u001b[1;32m      1\u001b[0m \u001b[39mfrom\u001b[39;00m \u001b[39msymforce\u001b[39;00m\u001b[39m.\u001b[39;00m\u001b[39mopt\u001b[39;00m\u001b[39m.\u001b[39;00m\u001b[39moptimizer\u001b[39;00m \u001b[39mimport\u001b[39;00m Optimizer\n\u001b[0;32m----> 3\u001b[0m optimizer \u001b[39m=\u001b[39m Optimizer(\n\u001b[1;32m      4\u001b[0m     factors\u001b[39m=\u001b[39;49mfactors,\n\u001b[1;32m      5\u001b[0m     optimized_keys\u001b[39m=\u001b[39;49m[\u001b[39mf\u001b[39;49m\u001b[39m\"\u001b[39;49m\u001b[39mposes[\u001b[39;49m\u001b[39m{\u001b[39;49;00mi\u001b[39m}\u001b[39;49;00m\u001b[39m]\u001b[39;49m\u001b[39m\"\u001b[39;49m \u001b[39mfor\u001b[39;49;00m i \u001b[39min\u001b[39;49;00m \u001b[39mrange\u001b[39;49m(num_poses)],\n\u001b[1;32m      6\u001b[0m     \u001b[39m# So that we save more information about each iteration, to visualize later:\u001b[39;49;00m\n\u001b[1;32m      7\u001b[0m     debug_stats\u001b[39m=\u001b[39;49m\u001b[39mTrue\u001b[39;49;00m,\n\u001b[1;32m      8\u001b[0m )\n",
      "File \u001b[0;32m~/anaconda3/envs/chimera/lib/python3.9/site-packages/symforce/opt/optimizer.py:165\u001b[0m, in \u001b[0;36mOptimizer.__init__\u001b[0;34m(self, factors, optimized_keys, params, debug_stats)\u001b[0m\n\u001b[1;32m    162\u001b[0m     \u001b[39m# We compute the linearization in the same order as `optimized_keys`\u001b[39;00m\n\u001b[1;32m    163\u001b[0m     \u001b[39m# so that e.g. columns of the generated jacobians are in the same order\u001b[39;00m\n\u001b[1;32m    164\u001b[0m     factor_opt_keys \u001b[39m=\u001b[39m [opt_key \u001b[39mfor\u001b[39;00m opt_key \u001b[39min\u001b[39;00m optimized_keys \u001b[39mif\u001b[39;00m opt_key \u001b[39min\u001b[39;00m factor\u001b[39m.\u001b[39mkeys]\n\u001b[0;32m--> 165\u001b[0m     numeric_factors\u001b[39m.\u001b[39mappend(factor\u001b[39m.\u001b[39;49mto_numeric_factor(factor_opt_keys))\n\u001b[1;32m    166\u001b[0m \u001b[39melse\u001b[39;00m:\n\u001b[1;32m    167\u001b[0m     \u001b[39m# Add unique keys to optimized keys\u001b[39;00m\n\u001b[1;32m    168\u001b[0m     \u001b[39mself\u001b[39m\u001b[39m.\u001b[39moptimized_keys\u001b[39m.\u001b[39mextend(\n\u001b[1;32m    169\u001b[0m         opt_key\n\u001b[1;32m    170\u001b[0m         \u001b[39mfor\u001b[39;00m opt_key \u001b[39min\u001b[39;00m factor\u001b[39m.\u001b[39moptimized_keys\n\u001b[1;32m    171\u001b[0m         \u001b[39mif\u001b[39;00m opt_key \u001b[39mnot\u001b[39;00m \u001b[39min\u001b[39;00m \u001b[39mself\u001b[39m\u001b[39m.\u001b[39moptimized_keys\n\u001b[1;32m    172\u001b[0m     )\n",
      "File \u001b[0;32m~/anaconda3/envs/chimera/lib/python3.9/site-packages/symforce/opt/factor.py:262\u001b[0m, in \u001b[0;36mFactor.to_numeric_factor\u001b[0;34m(self, optimized_keys, output_dir, namespace, sparse_linearization)\u001b[0m\n\u001b[1;32m    259\u001b[0m     namespace \u001b[39m=\u001b[39m \u001b[39mf\u001b[39m\u001b[39m\"\u001b[39m\u001b[39msym_\u001b[39m\u001b[39m{\u001b[39;00muuid\u001b[39m.\u001b[39muuid4()\u001b[39m.\u001b[39mhex\u001b[39m}\u001b[39;00m\u001b[39m\"\u001b[39m\n\u001b[1;32m    261\u001b[0m \u001b[39m# Compute the linearization of the residual and generate code\u001b[39;00m\n\u001b[0;32m--> 262\u001b[0m output_data \u001b[39m=\u001b[39m \u001b[39mself\u001b[39;49m\u001b[39m.\u001b[39;49mgenerate(optimized_keys, output_dir, namespace, sparse_linearization)\n\u001b[1;32m    264\u001b[0m \u001b[39m# Load the generated function\u001b[39;00m\n\u001b[1;32m    265\u001b[0m numeric_factor \u001b[39m=\u001b[39m NumericFactor\u001b[39m.\u001b[39mfrom_file_python(\n\u001b[1;32m    266\u001b[0m     keys\u001b[39m=\u001b[39m\u001b[39mself\u001b[39m\u001b[39m.\u001b[39mkeys,\n\u001b[1;32m    267\u001b[0m     optimized_keys\u001b[39m=\u001b[39moptimized_keys,\n\u001b[0;32m   (...)\u001b[0m\n\u001b[1;32m    270\u001b[0m     name\u001b[39m=\u001b[39moutput_data[\u001b[39m\"\u001b[39m\u001b[39mname\u001b[39m\u001b[39m\"\u001b[39m],\n\u001b[1;32m    271\u001b[0m )\n",
      "File \u001b[0;32m~/anaconda3/envs/chimera/lib/python3.9/site-packages/symforce/opt/factor.py:178\u001b[0m, in \u001b[0;36mFactor.generate\u001b[0;34m(self, optimized_keys, output_dir, namespace, sparse_linearization)\u001b[0m\n\u001b[1;32m    175\u001b[0m     namespace \u001b[39m=\u001b[39m \u001b[39mf\u001b[39m\u001b[39m\"\u001b[39m\u001b[39msym_\u001b[39m\u001b[39m{\u001b[39;00muuid\u001b[39m.\u001b[39muuid4()\u001b[39m.\u001b[39mhex\u001b[39m}\u001b[39;00m\u001b[39m\"\u001b[39m\n\u001b[1;32m    177\u001b[0m codegen_keys \u001b[39m=\u001b[39m \u001b[39mlist\u001b[39m(\u001b[39mself\u001b[39m\u001b[39m.\u001b[39mcodegen\u001b[39m.\u001b[39minputs\u001b[39m.\u001b[39mkeys())\n\u001b[0;32m--> 178\u001b[0m codegen_with_linearization \u001b[39m=\u001b[39m \u001b[39mself\u001b[39;49m\u001b[39m.\u001b[39;49mcodegen\u001b[39m.\u001b[39;49mwith_linearization(\n\u001b[1;32m    179\u001b[0m     which_args\u001b[39m=\u001b[39;49m[codegen_keys[\u001b[39mself\u001b[39;49m\u001b[39m.\u001b[39;49mkeys\u001b[39m.\u001b[39;49mindex(key)] \u001b[39mfor\u001b[39;49;00m key \u001b[39min\u001b[39;49;00m optimized_keys],\n\u001b[1;32m    180\u001b[0m     custom_jacobian\u001b[39m=\u001b[39;49m\u001b[39mself\u001b[39;49m\u001b[39m.\u001b[39;49mcustom_jacobian_func(optimized_keys)\n\u001b[1;32m    181\u001b[0m     \u001b[39mif\u001b[39;49;00m \u001b[39mself\u001b[39;49m\u001b[39m.\u001b[39;49mcustom_jacobian_func \u001b[39mis\u001b[39;49;00m \u001b[39mnot\u001b[39;49;00m \u001b[39mNone\u001b[39;49;00m\n\u001b[1;32m    182\u001b[0m     \u001b[39melse\u001b[39;49;00m \u001b[39mNone\u001b[39;49;00m,\n\u001b[1;32m    183\u001b[0m     sparse_linearization\u001b[39m=\u001b[39;49msparse_linearization,\n\u001b[1;32m    184\u001b[0m )\n\u001b[1;32m    185\u001b[0m \u001b[39m# Ignore false positive because we define `self.jacobian` in `_initialize()`\u001b[39;00m\n\u001b[1;32m    186\u001b[0m \u001b[39m# pylint: disable=attribute-defined-outside-init\u001b[39;00m\n\u001b[1;32m    187\u001b[0m \u001b[39mself\u001b[39m\u001b[39m.\u001b[39mgenerated_jacobians[\u001b[39mtuple\u001b[39m(optimized_keys)] \u001b[39m=\u001b[39m codegen_with_linearization\u001b[39m.\u001b[39moutputs[\n\u001b[1;32m    188\u001b[0m     \u001b[39m\"\u001b[39m\u001b[39mjacobian\u001b[39m\u001b[39m\"\u001b[39m\n\u001b[1;32m    189\u001b[0m ]\n",
      "File \u001b[0;32m~/anaconda3/envs/chimera/lib/python3.9/site-packages/symforce/codegen/codegen.py:717\u001b[0m, in \u001b[0;36mCodegen.with_linearization\u001b[0;34m(self, which_args, include_result, name, linearization_mode, sparse_linearization, custom_jacobian)\u001b[0m\n\u001b[1;32m    714\u001b[0m     \u001b[39mif\u001b[39;00m \u001b[39misinstance\u001b[39m(result, sf\u001b[39m.\u001b[39mMatrix):\n\u001b[1;32m    715\u001b[0m         \u001b[39mraise\u001b[39;00m \u001b[39mValueError\u001b[39;00m(common_msg \u001b[39m+\u001b[39m \u001b[39mf\u001b[39m\u001b[39m\"\u001b[39m\u001b[39mgot a matrix of shape \u001b[39m\u001b[39m{\u001b[39;00mresult\u001b[39m.\u001b[39mshape\u001b[39m}\u001b[39;00m\u001b[39m instead\u001b[39m\u001b[39m\"\u001b[39m)\n\u001b[0;32m--> 717\u001b[0m     \u001b[39mraise\u001b[39;00m \u001b[39mValueError\u001b[39;00m(common_msg \u001b[39m+\u001b[39m \u001b[39mf\u001b[39m\u001b[39m\"\u001b[39m\u001b[39mgot an object of type \u001b[39m\u001b[39m{\u001b[39;00m\u001b[39mtype\u001b[39m(result)\u001b[39m}\u001b[39;00m\u001b[39m instead\u001b[39m\u001b[39m\"\u001b[39m)\n\u001b[1;32m    719\u001b[0m hessian \u001b[39m=\u001b[39m jacobian\u001b[39m.\u001b[39mcompute_AtA(lower_only\u001b[39m=\u001b[39m\u001b[39mTrue\u001b[39;00m)\n\u001b[1;32m    720\u001b[0m outputs[\u001b[39m\"\u001b[39m\u001b[39mhessian\u001b[39m\u001b[39m\"\u001b[39m] \u001b[39m=\u001b[39m hessian\n",
      "\u001b[0;31mValueError\u001b[0m: The output of a factor must be a column vector representing the residual (of shape Nx1).  For factor \"odometry_residual\", got an object of type <class 'symforce.geo.pose2.Pose2'> instead"
     ]
    }
   ],
   "source": [
    "from symforce.opt.optimizer import Optimizer\n",
    "\n",
    "optimizer = Optimizer(\n",
    "    factors=factors,\n",
    "    optimized_keys=[f\"poses[{i}]\" for i in range(num_poses)],\n",
    "    # So that we save more information about each iteration, to visualize later:\n",
    "    debug_stats=True,\n",
    ")"
   ]
  },
  {
   "cell_type": "code",
   "execution_count": null,
   "metadata": {},
   "outputs": [],
   "source": []
  }
 ],
 "metadata": {
  "kernelspec": {
   "display_name": "chimera",
   "language": "python",
   "name": "python3"
  },
  "language_info": {
   "codemirror_mode": {
    "name": "ipython",
    "version": 3
   },
   "file_extension": ".py",
   "mimetype": "text/x-python",
   "name": "python",
   "nbconvert_exporter": "python",
   "pygments_lexer": "ipython3",
   "version": "3.9.15"
  },
  "orig_nbformat": 4,
  "vscode": {
   "interpreter": {
    "hash": "a5edd088d6b144d42777d3bfeb942dbfa3bc6a1fda937eadc36b79f380c5a6b9"
   }
  }
 },
 "nbformat": 4,
 "nbformat_minor": 2
}
