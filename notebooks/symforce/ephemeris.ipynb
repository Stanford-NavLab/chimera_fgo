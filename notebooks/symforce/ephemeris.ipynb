{
 "cells": [
  {
   "cell_type": "code",
   "execution_count": null,
   "metadata": {},
   "outputs": [],
   "source": [
    "import numpy as np\n",
    "import os\n",
    "import plotly.graph_objects as go\n",
    "from tqdm import tqdm\n",
    "import pandas as pd\n",
    "\n",
    "import chimera_fgo.util.general as general\n",
    "from chimera_fgo.util.io import read_lidar_bin, read_gt\n",
    "from chimera_fgo.util.kitti import process_kitti_gt, load_icp_results, load_sv_positions\n",
    "from chimera_fgo.util.geometry import euler_to_R\n",
    "\n",
    "import symforce\n",
    "try:\n",
    "    symforce.set_epsilon_to_symbol()\n",
    "except symforce.AlreadyUsedEpsilon:\n",
    "    print(\"Already set symforce epsilon\")\n",
    "    pass \n",
    "\n",
    "import symforce.symbolic as sf\n",
    "\n",
    "%load_ext autoreload\n",
    "%autoreload 2\n",
    "\n",
    "np.set_printoptions(suppress=True, precision=3)"
   ]
  },
  {
   "attachments": {},
   "cell_type": "markdown",
   "metadata": {},
   "source": [
    "### Load data"
   ]
  },
  {
   "cell_type": "code",
   "execution_count": null,
   "metadata": {},
   "outputs": [],
   "source": [
    "kitti_seq = '0034'\n",
    "start_idx = 0\n",
    "\n",
    "gtpath = os.path.join(os.getcwd(), '..', '..', 'data', 'kitti', kitti_seq, 'oxts', 'data')\n",
    "gt_enu, gt_Rs, gt_attitudes = process_kitti_gt(gtpath, start_idx=start_idx)\n",
    "\n",
    "data_path = os.path.join(os.getcwd(), '..', '..', 'data', 'kitti', kitti_seq, 'icp')\n",
    "lidar_Rs, lidar_ts, positions, lidar_covariances = load_icp_results(data_path, start_idx=start_idx)"
   ]
  },
  {
   "cell_type": "code",
   "execution_count": null,
   "metadata": {},
   "outputs": [],
   "source": [
    "# Load satellite positions\n",
    "sv_path = os.path.join(os.getcwd(), '..', '..', 'data', 'kitti', kitti_seq, 'svs')\n",
    "#svfile = os.path.join(sv_path, f'{kitti_seq}_saved_sats.csv')\n",
    "sv_positions = load_sv_positions(gtpath, sv_path, kitti_seq, start_idx=start_idx)"
   ]
  },
  {
   "cell_type": "code",
   "execution_count": null,
   "metadata": {},
   "outputs": [],
   "source": [
    "# For all traces (0018, 0027, 0028, 0034), the number of satellites in the first 2000 frames is constant\n",
    "N_SATS = len(sv_positions[0])"
   ]
  },
  {
   "cell_type": "code",
   "execution_count": null,
   "metadata": {},
   "outputs": [],
   "source": [
    "# Compute DOP\n",
    "los = sv_positions[0]\n",
    "los = los / np.linalg.norm(los, axis=1)[:,None]"
   ]
  },
  {
   "cell_type": "code",
   "execution_count": null,
   "metadata": {},
   "outputs": [],
   "source": [
    "A = np.hstack((los, np.ones((N_SATS, 1))))\n",
    "Q = np.linalg.inv(A.T @ A)\n",
    "PDOP = np.sqrt(Q[0,0] + Q[1,1] + Q[2,2])\n",
    "Q"
   ]
  },
  {
   "cell_type": "code",
   "execution_count": null,
   "metadata": {},
   "outputs": [],
   "source": [
    "6 * np.diag(Q)[:3]"
   ]
  },
  {
   "attachments": {},
   "cell_type": "markdown",
   "metadata": {},
   "source": [
    "### Parameters"
   ]
  },
  {
   "cell_type": "code",
   "execution_count": null,
   "metadata": {},
   "outputs": [],
   "source": [
    "TRAJLEN = 2000\n",
    "\n",
    "MAX_BIAS = 50  # [m]\n",
    "ATTACK_START = TRAJLEN // 2\n",
    "\n",
    "# Sliding window of size 100 which shifts by 10 each iteration\n",
    "N_SHIFT = 10\n",
    "N_WINDOW = 100\n",
    "\n",
    "GPS_RATE = 10  # ratio of odometry to GPS measurements\n",
    "\n",
    "PR_SIGMA = 6\n",
    "\n",
    "# Lidar odometry covariance\n",
    "ODOM_R_SIGMA = 0.01  # \n",
    "ODOM_T_SIGMA = 0.05  # [m]\n",
    "ODOM_SIGMA = np.ones(6)\n",
    "ODOM_SIGMA[:3] *= ODOM_R_SIGMA\n",
    "ODOM_SIGMA[3:] *= ODOM_T_SIGMA"
   ]
  },
  {
   "attachments": {},
   "cell_type": "markdown",
   "metadata": {},
   "source": [
    "### Problem Setup "
   ]
  },
  {
   "cell_type": "code",
   "execution_count": null,
   "metadata": {},
   "outputs": [],
   "source": [
    "# Lidar odometry\n",
    "lidar_odom = [None] * TRAJLEN\n",
    "for i in range(TRAJLEN - 1):\n",
    "    lidar_odom[i] = (lidar_Rs[i], lidar_ts[i])"
   ]
  },
  {
   "attachments": {},
   "cell_type": "markdown",
   "metadata": {},
   "source": [
    "### Spoofing"
   ]
  },
  {
   "cell_type": "code",
   "execution_count": null,
   "metadata": {},
   "outputs": [],
   "source": [
    "from scipy.stats import chi2\n",
    "\n",
    "# Compute threshold\n",
    "alpha = 0.001  # False alarm (FA) rate\n",
    "T = chi2.ppf(1-alpha, df=N_SATS*(N_WINDOW/GPS_RATE))\n",
    "print(\"Threshold = \", T)"
   ]
  },
  {
   "cell_type": "code",
   "execution_count": null,
   "metadata": {},
   "outputs": [],
   "source": [
    "1 - (1-alpha)**200"
   ]
  },
  {
   "cell_type": "code",
   "execution_count": null,
   "metadata": {},
   "outputs": [],
   "source": [
    "chi2.ppf(1-alpha, df=(N_SATS-3)*(N_WINDOW/GPS_RATE))"
   ]
  },
  {
   "cell_type": "code",
   "execution_count": null,
   "metadata": {},
   "outputs": [],
   "source": [
    "# Spoofed trajectory\n",
    "spoofed_pos = gt_enu[:TRAJLEN].copy()\n",
    "\n",
    "gps_spoofing_biases = np.zeros(TRAJLEN)  \n",
    "gps_spoofing_biases[ATTACK_START:] = np.linspace(0, MAX_BIAS, TRAJLEN-ATTACK_START)  # Ramping attack\n",
    "\n",
    "spoofed_pos[:,0] -= gps_spoofing_biases\n",
    "\n",
    "# Spoofed ranges\n",
    "PR_SIGMA = 6\n",
    "spoofed_ranges = np.zeros((TRAJLEN, N_SATS))\n",
    "for i in range(TRAJLEN):\n",
    "    svs = sv_positions[i]\n",
    "    for j in range(N_SATS):\n",
    "        spoofed_ranges[i,j] = np.linalg.norm(spoofed_pos[i] - svs[j]) + np.random.normal(0, PR_SIGMA)"
   ]
  },
  {
   "cell_type": "code",
   "execution_count": null,
   "metadata": {},
   "outputs": [],
   "source": [
    "from chimera_fgo.symforce.factor_graph import fgo_eph\n",
    "\n",
    "PR_SIGMA = 6\n",
    "\n",
    "graph_positions = np.zeros((TRAJLEN, 3))\n",
    "# graph_rotations = np.zeros((TRAJLEN, 3))\n",
    "graph_attitudes = np.zeros((TRAJLEN, 3))\n",
    "init_poses = [sf.Pose3.identity()] * N_WINDOW\n",
    "init_poses[0] = sf.Pose3(sf.Rot3.from_rotation_matrix(gt_Rs[0]), sf.V3(gt_enu[0]))\n",
    "e_ranges = np.zeros((N_WINDOW//GPS_RATE, N_SATS))\n",
    "qs = np.zeros(TRAJLEN//GPS_RATE)\n",
    "\n",
    "for k in (pbar := tqdm(range((TRAJLEN - N_WINDOW) // N_SHIFT))):\n",
    "\n",
    "    window = slice(N_SHIFT * k, N_SHIFT * k + N_WINDOW)\n",
    "    odom = lidar_odom[window]\n",
    "    ranges = spoofed_ranges[window]\n",
    "    #odom_sigmas = lidar_sigmas[window]\n",
    "\n",
    "    satpos_enu = np.array(sv_positions[window])\n",
    "    satpos = [[sf.V3(satpos_enu[i][j]) for j in range(N_SATS)] for i in range(N_WINDOW)]\n",
    "\n",
    "    result = fgo_eph(init_poses, satpos, ranges, odom, PR_SIGMA, ODOM_SIGMA, GPS_RATE, fix_first_pose=True, debug=False)\n",
    "\n",
    "    # Extract optimized positions\n",
    "    window_positions = np.zeros((N_WINDOW, 3))\n",
    "    window_attitudes = np.zeros((N_WINDOW, 3))\n",
    "    for i in range(N_WINDOW):\n",
    "        pose = result.optimized_values[\"poses\"][i]\n",
    "        window_positions[i] = pose.position().flatten()   \n",
    "        window_attitudes[i] = pose.rotation().to_yaw_pitch_roll().flatten()   \n",
    "\n",
    "    # Save trajectory\n",
    "    graph_positions[N_SHIFT*k:N_SHIFT*(k+1)] = window_positions[:N_SHIFT]\n",
    "    graph_attitudes[N_SHIFT*k:N_SHIFT*(k+1)] = window_attitudes[:N_SHIFT]\n",
    "\n",
    "    # Update initial poses\n",
    "    init_poses[:-N_SHIFT] = result.optimized_values[\"poses\"][N_SHIFT:]\n",
    "\n",
    "    # Use lidar odometry to initialize latest new poses\n",
    "    n_pose = result.optimized_values[\"poses\"][-1]\n",
    "    n_pose = sf.Pose3(sf.Rot3.from_rotation_matrix(n_pose.R.to_rotation_matrix()), sf.V3(n_pose.t))\n",
    "    for i in range(N_SHIFT):\n",
    "        lidar_T = sf.Pose3(sf.Rot3.from_rotation_matrix(lidar_Rs[N_SHIFT*k + N_WINDOW + i]), sf.V3(lidar_ts[N_SHIFT*k + N_WINDOW + i]))\n",
    "        n_pose = lidar_T * n_pose\n",
    "        init_poses[-N_SHIFT+i] = n_pose\n",
    "\n",
    "    # Compute test statistic\n",
    "    for i in range(N_WINDOW//GPS_RATE):\n",
    "        svs = sv_positions[N_SHIFT * k + i * GPS_RATE]\n",
    "        for j in range(N_SATS):\n",
    "            e_ranges[i,j] = np.linalg.norm(window_positions[::GPS_RATE][i] - svs[j])\n",
    "    q = np.sum((ranges[::GPS_RATE] - e_ranges)**2) / PR_SIGMA**2\n",
    "    pbar.set_description(f\"q = {q:.2f}\")\n",
    "    qs[k] = q\n",
    "\n",
    "    # Mitigation\n",
    "    if q > T:\n",
    "        print(\"Attack detected at \", N_SHIFT * k)\n",
    "        PR_SIGMA = 1e5\n",
    "\n",
    "# # End of trajectory, save all the positions from the current window\n",
    "# for i in range(N_WINDOW):\n",
    "#     idx = TRAJLEN - N_WINDOW + i\n",
    "#     graph_positions[idx] = result.optimized_values[\"poses\"][i].position().flatten()\n",
    "OPT_TRAJLEN = N_SHIFT*(k+1)"
   ]
  },
  {
   "cell_type": "code",
   "execution_count": null,
   "metadata": {},
   "outputs": [],
   "source": [
    "OPT_TRAJLEN = N_SHIFT*(k+1)\n",
    "graph_positions_plot = graph_positions[:OPT_TRAJLEN]\n",
    "gt_enu_plot = gt_enu[:OPT_TRAJLEN]\n",
    "qs_plot = qs[:OPT_TRAJLEN//N_SHIFT]"
   ]
  },
  {
   "cell_type": "code",
   "execution_count": null,
   "metadata": {},
   "outputs": [],
   "source": [
    "pose.rotation().to_yaw_pitch_roll().flatten()"
   ]
  },
  {
   "cell_type": "code",
   "execution_count": null,
   "metadata": {},
   "outputs": [],
   "source": [
    "pose.rotation().to_yaw_pitch_roll().flatten()[[2,1,0]]"
   ]
  },
  {
   "cell_type": "code",
   "execution_count": null,
   "metadata": {},
   "outputs": [],
   "source": [
    "graph_attitudes"
   ]
  },
  {
   "cell_type": "code",
   "execution_count": null,
   "metadata": {},
   "outputs": [],
   "source": [
    "from chimera_fgo.util.geometry import R_to_euler\n",
    "\n",
    "R_to_euler(gt_Rs[0])"
   ]
  },
  {
   "cell_type": "code",
   "execution_count": null,
   "metadata": {},
   "outputs": [],
   "source": [
    "gt_attitudes[0]"
   ]
  },
  {
   "cell_type": "code",
   "execution_count": null,
   "metadata": {},
   "outputs": [],
   "source": [
    "init_R = sf.Rot3.from_rotation_matrix(gt_Rs[0])\n",
    "type(init_R.to_yaw_pitch_roll()[0])"
   ]
  },
  {
   "cell_type": "code",
   "execution_count": null,
   "metadata": {},
   "outputs": [],
   "source": [
    "init_R.to_yaw_pitch_roll()"
   ]
  },
  {
   "cell_type": "code",
   "execution_count": null,
   "metadata": {},
   "outputs": [],
   "source": [
    "np.arctan2(0.861908124186026, 0.50644267722056)"
   ]
  },
  {
   "cell_type": "code",
   "execution_count": null,
   "metadata": {},
   "outputs": [],
   "source": [
    "-np.arcsin(0.0251037875986254)"
   ]
  },
  {
   "cell_type": "code",
   "execution_count": null,
   "metadata": {},
   "outputs": [],
   "source": [
    "np.arctan2(0.0405591713410341, 0.998861728903622)"
   ]
  },
  {
   "cell_type": "code",
   "execution_count": null,
   "metadata": {},
   "outputs": [],
   "source": [
    "import plotly.figure_factory as ff\n",
    "\n",
    "N = 100\n",
    "d = 2\n",
    "\n",
    "#thetas = gt_attitudes[:,2]\n",
    "thetas = graph_attitudes[:,2]\n",
    "\n",
    "fig = ff.create_quiver(x=gt_enu[0:N:d,0], y=gt_enu[0:N:d,1], u=np.cos(thetas[0:N:d]), v=np.sin(thetas[0:N:d]), scale=5.0)\n",
    "gt_traj = go.Scatter(x=gt_enu[0:N:d,0], y=gt_enu[0:N:d,1], hovertext=np.arange(N), name='Ground-truth')\n",
    "fig.add_trace(gt_traj)\n",
    "fig.update_layout(width=900, height=700, scene=dict(aspectmode='data'))\n",
    "fig.show()"
   ]
  },
  {
   "cell_type": "code",
   "execution_count": null,
   "metadata": {},
   "outputs": [],
   "source": [
    "# Plot test statistic and threshold\n",
    "fig = go.Figure()\n",
    "fig.add_trace(go.Scatter(x=np.arange(len(qs_plot)), y=qs_plot, name='Test statistic'))\n",
    "fig.add_trace(go.Scatter(x=np.arange(len(qs_plot)), y=T*np.ones(len(qs_plot)), name='Threshold', line=dict(color='red', dash='dash')))\n",
    "# Add vertical line at start of spoofing attack\n",
    "fig.add_shape(type=\"line\", x0=ATTACK_START/GPS_RATE, y0=-20, x1=ATTACK_START/GPS_RATE, y1=200, line=dict(color=\"black\", width=2, dash=\"dash\"))\n",
    "fig.update_layout(width=900, height=500, xaxis_title='Time [s]', yaxis_title='Test statistic')\n",
    "#fig.update_layout(legend=dict(x=0.75, y=0.98), font=dict(size=18))\n",
    "fig.show()"
   ]
  },
  {
   "cell_type": "code",
   "execution_count": null,
   "metadata": {},
   "outputs": [],
   "source": [
    "fgo_traj = go.Scatter(x=graph_positions_plot[:,0], y=graph_positions_plot[:,1], hovertext=np.arange(TRAJLEN), name='FGO trajectory')\n",
    "gt_traj = go.Scatter(x=gt_enu_plot[:,0], y=gt_enu_plot[:,1], hovertext=np.arange(OPT_TRAJLEN), name='Ground-truth')\n",
    "spoof_traj = go.Scatter(x=spoofed_pos[:OPT_TRAJLEN,0], y=spoofed_pos[:OPT_TRAJLEN,1], hovertext=np.arange(OPT_TRAJLEN), name='Spoofed')\n",
    "start = go.Scatter(x=[0], y=[0], name='Start', mode='markers', marker=dict(size=10, color='blue'), showlegend=False)\n",
    "fig = go.Figure(data=[gt_traj, fgo_traj, spoof_traj, start])\n",
    "fig.update_layout(width=700, height=700, xaxis_title='East [m]', yaxis_title='North [m]')\n",
    "# Move legend into plot\n",
    "fig.update_layout(legend=dict(x=0.05, y=0.98), font=dict(size=18))\n",
    "fig.update_yaxes(\n",
    "    scaleanchor = \"x\",\n",
    "    scaleratio = 1,\n",
    "  )\n",
    "fig.update_xaxes(autorange=True)\n",
    "fig.show()"
   ]
  },
  {
   "cell_type": "code",
   "execution_count": null,
   "metadata": {},
   "outputs": [],
   "source": [
    "# Plot x and y errors over time\n",
    "fig = go.Figure()\n",
    "fig.add_trace(go.Scatter(x=np.arange(OPT_TRAJLEN), y=graph_positions_plot[:,0] - gt_enu_plot[:,0], name='x error'))\n",
    "fig.add_trace(go.Scatter(x=np.arange(OPT_TRAJLEN), y=graph_positions_plot[:,1] - gt_enu_plot[:,1], name='y error'))\n",
    "fig.add_trace(go.Scatter(x=np.arange(OPT_TRAJLEN), y=graph_positions_plot[:,2] - gt_enu_plot[:,2], name='z error'))\n",
    "# Plot RMSE\n",
    "fig.add_trace(go.Scatter(x=np.arange(OPT_TRAJLEN), y=np.sqrt(np.mean((graph_positions_plot - gt_enu_plot)**2, axis=1)), name='RMSE'))\n",
    "#fig.add_shape(type=\"line\", x0=ATTACK_START, y0=-20, x1=ATTACK_START, y1=90, line=dict(color=\"black\", width=2, dash=\"dash\"))\n",
    "fig.update_layout(width=900, height=500, xaxis_title='Time [s]', yaxis_title='Error [m]')\n",
    "fig.update_layout(font=dict(size=15))\n",
    "fig.show()\n"
   ]
  },
  {
   "cell_type": "code",
   "execution_count": null,
   "metadata": {},
   "outputs": [],
   "source": [
    "from plotly.subplots import make_subplots\n",
    "\n",
    "# Plot x, y, z errors in subplots on top of each other\n",
    "fig = make_subplots(rows=3, cols=1, shared_xaxes=True, vertical_spacing=0.05)\n",
    "fig.add_trace(go.Scatter(x=np.arange(OPT_TRAJLEN), y=graph_positions_plot[:,0] - gt_enu_plot[:,0], name='x error'), row=1, col=1)\n",
    "fig.add_trace(go.Scatter(x=np.arange(OPT_TRAJLEN), y=graph_positions_plot[:,1] - gt_enu_plot[:,1], name='y error'), row=2, col=1)\n",
    "fig.add_trace(go.Scatter(x=np.arange(OPT_TRAJLEN), y=graph_positions_plot[:,2] - gt_enu_plot[:,2], name='z error'), row=3, col=1)\n",
    "fig.update_layout(width=1200, height=700)\n",
    "fig.update_layout(font=dict(size=15))\n",
    "fig.show()"
   ]
  },
  {
   "cell_type": "code",
   "execution_count": null,
   "metadata": {},
   "outputs": [],
   "source": [
    "# RMSE error\n",
    "rmse_xyz = np.sqrt(np.mean((graph_positions_plot - gt_enu_plot)**2, axis=0))\n",
    "print(\"RMSE (xyz): \", rmse_xyz)\n",
    "print(\"RMSE (overall): \", rmse_xyz.mean())"
   ]
  },
  {
   "cell_type": "code",
   "execution_count": null,
   "metadata": {},
   "outputs": [],
   "source": [
    "# Mean error\n",
    "mean_error = np.mean((graph_positions_plot - gt_enu_plot), axis=0)\n",
    "std_error = np.std((graph_positions_plot - gt_enu_plot), axis=0)\n",
    "print(\"Mean error (xyz): \", mean_error)\n",
    "print(\"Std error (xyz): \", std_error)"
   ]
  },
  {
   "cell_type": "code",
   "execution_count": null,
   "metadata": {},
   "outputs": [],
   "source": [
    "# Rotational error\n",
    "gt_attitudes_plot = gt_attitudes[:OPT_TRAJLEN]\n"
   ]
  }
 ],
 "metadata": {
  "kernelspec": {
   "display_name": "chimera",
   "language": "python",
   "name": "python3"
  },
  "language_info": {
   "codemirror_mode": {
    "name": "ipython",
    "version": 3
   },
   "file_extension": ".py",
   "mimetype": "text/x-python",
   "name": "python",
   "nbconvert_exporter": "python",
   "pygments_lexer": "ipython3",
   "version": "3.9.15"
  },
  "orig_nbformat": 4,
  "vscode": {
   "interpreter": {
    "hash": "a5edd088d6b144d42777d3bfeb942dbfa3bc6a1fda937eadc36b79f380c5a6b9"
   }
  }
 },
 "nbformat": 4,
 "nbformat_minor": 2
}
