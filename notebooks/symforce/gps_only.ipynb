{
 "cells": [
  {
   "attachments": {},
   "cell_type": "markdown",
   "metadata": {},
   "source": [
    "Test with GPS only "
   ]
  },
  {
   "cell_type": "code",
   "execution_count": 1,
   "metadata": {},
   "outputs": [],
   "source": [
    "import numpy as np\n",
    "import struct \n",
    "import os\n",
    "import plotly.graph_objects as go\n",
    "import time\n",
    "from tqdm import tqdm\n",
    "\n",
    "import symforce\n",
    "try:\n",
    "    symforce.set_epsilon_to_symbol()\n",
    "except symforce.AlreadyUsedEpsilon:\n",
    "    print(\"Already set symforce epsilon\")\n",
    "    pass \n",
    "\n",
    "import symforce.symbolic as sf\n",
    "\n",
    "import chimera_fgo.util.general as general\n",
    "from chimera_fgo.util.io import read_lidar_bin, read_gt\n",
    "from chimera_fgo.util.kitti import process_kitti_gt, load_sv_positions\n",
    "from chimera_fgo.util.geometry import euler_to_R\n",
    "\n",
    "from chimera_fgo.symforce.fgo_gps_only import fgo_gps_only\n",
    "\n",
    "%load_ext autoreload\n",
    "%autoreload 2\n",
    "\n",
    "np.set_printoptions(suppress=True, precision=3)"
   ]
  },
  {
   "attachments": {},
   "cell_type": "markdown",
   "metadata": {},
   "source": [
    "### Load data"
   ]
  },
  {
   "cell_type": "code",
   "execution_count": 2,
   "metadata": {},
   "outputs": [],
   "source": [
    "kitti_seq = '0034'\n",
    "start_idx = 0\n",
    "\n",
    "gtpath = os.path.join(os.getcwd(), '..', '..', 'data', 'kitti', kitti_seq, 'oxts', 'data')\n",
    "gt_enu, gt_Rs, gt_attitudes = process_kitti_gt(gtpath, start_idx=start_idx)"
   ]
  },
  {
   "cell_type": "code",
   "execution_count": 3,
   "metadata": {},
   "outputs": [],
   "source": [
    "# Load satellite positions\n",
    "sv_path = os.path.join(os.getcwd(), '..', '..', 'data', 'kitti', kitti_seq, 'svs')\n",
    "#svfile = os.path.join(sv_path, f'{kitti_seq}_saved_sats.csv')\n",
    "sv_positions = load_sv_positions(gtpath, sv_path, kitti_seq, start_idx=start_idx)"
   ]
  },
  {
   "attachments": {},
   "cell_type": "markdown",
   "metadata": {},
   "source": [
    "### Parameters"
   ]
  },
  {
   "cell_type": "code",
   "execution_count": 4,
   "metadata": {},
   "outputs": [],
   "source": [
    "TRAJLEN = 2000\n",
    "\n",
    "MAX_BIAS = 0  # [m]\n",
    "ATTACK_START = TRAJLEN // 2\n",
    "\n",
    "# Sliding window of size 100 which shifts by 10 each iteration\n",
    "N_SHIFT = 10\n",
    "N_WINDOW = 100\n",
    "\n",
    "GPS_RATE = 10  # ratio of odometry to GPS measurements\n",
    "\n",
    "PR_SIGMA = 6\n",
    "\n",
    "N_SATS = len(sv_positions[0])"
   ]
  },
  {
   "cell_type": "code",
   "execution_count": 5,
   "metadata": {},
   "outputs": [],
   "source": [
    "# Spoofed trajectory\n",
    "spoofed_pos = gt_enu[:TRAJLEN].copy()\n",
    "\n",
    "gps_spoofing_biases = np.zeros(TRAJLEN)  \n",
    "gps_spoofing_biases[ATTACK_START:] = np.linspace(0, MAX_BIAS, TRAJLEN-ATTACK_START)  # Ramping attack\n",
    "\n",
    "spoofed_pos[:,0] -= gps_spoofing_biases\n",
    "\n",
    "# Spoofed ranges\n",
    "PR_SIGMA = 6\n",
    "spoofed_ranges = np.zeros((TRAJLEN, N_SATS))\n",
    "for i in range(TRAJLEN):\n",
    "    svs = sv_positions[i]\n",
    "    for j in range(N_SATS):\n",
    "        spoofed_ranges[i,j] = np.linalg.norm(spoofed_pos[i] - svs[j]) + np.random.normal(0, PR_SIGMA)"
   ]
  },
  {
   "attachments": {},
   "cell_type": "markdown",
   "metadata": {},
   "source": [
    "Single window"
   ]
  },
  {
   "cell_type": "code",
   "execution_count": 9,
   "metadata": {},
   "outputs": [],
   "source": [
    "N_WINDOW = 1000\n",
    "init_poses = [sf.Pose3.identity()] * N_WINDOW\n",
    "window = slice(0, N_WINDOW)\n",
    "ranges = spoofed_ranges[window]\n",
    "satpos_enu = np.array(sv_positions[window])\n",
    "satpos = [[sf.V3(satpos_enu[i][j]) for j in range(N_SATS)] for i in range(N_WINDOW)]\n",
    "result = fgo_gps_only(init_poses, satpos, ranges, PR_SIGMA, GPS_RATE, fix_first_pose=False, debug=False)"
   ]
  },
  {
   "cell_type": "code",
   "execution_count": 10,
   "metadata": {},
   "outputs": [
    {
     "data": {
      "text/plain": [
       "array([[  -3.054,   -5.29 ,    3.404],\n",
       "       [   6.418,    4.242,    5.541],\n",
       "       [   8.506,   22.933,    1.745],\n",
       "       [  26.214,   33.272,    0.849],\n",
       "       [  33.649,   47.905,   -2.953],\n",
       "       [  40.34 ,   54.226,    2.401],\n",
       "       [  54.422,   56.669,    0.087],\n",
       "       [  59.422,   56.512,    3.542],\n",
       "       [  66.09 ,   59.562,    0.801],\n",
       "       [  68.787,   44.764,    2.074],\n",
       "       [  82.3  ,   47.339,    5.276],\n",
       "       [  90.848,   50.31 ,    6.432],\n",
       "       [ 105.022,   43.725,    4.476],\n",
       "       [ 110.946,   30.416,    5.911],\n",
       "       [ 107.683,   12.14 ,    4.475],\n",
       "       [ 126.058,   10.627,   10.659],\n",
       "       [ 135.815,    0.834,    9.656],\n",
       "       [ 143.076,  -10.923,    9.011],\n",
       "       [ 146.448,  -15.742,   10.675],\n",
       "       [ 153.372,  -28.203,   13.396],\n",
       "       [ 162.348,  -38.857,   12.781],\n",
       "       [ 158.488,  -48.49 ,   14.535],\n",
       "       [ 156.271,  -66.398,   20.571],\n",
       "       [ 158.908,  -72.282,   18.093],\n",
       "       [ 153.347,  -91.986,   20.77 ],\n",
       "       [ 145.434, -108.792,   21.447],\n",
       "       [ 142.776, -119.289,   17.966],\n",
       "       [ 146.528, -122.161,   22.787],\n",
       "       [ 153.593, -141.196,   15.857],\n",
       "       [ 153.202, -152.774,   23.755],\n",
       "       [ 169.205, -151.067,   25.472],\n",
       "       [ 174.987, -155.483,   23.207],\n",
       "       [ 195.296, -159.233,   21.   ],\n",
       "       [ 204.97 , -151.365,   28.07 ],\n",
       "       [ 218.096, -145.369,   31.846],\n",
       "       [ 230.564, -139.211,   33.572],\n",
       "       [ 246.932, -126.8  ,   29.999],\n",
       "       [ 260.891, -116.348,   29.603],\n",
       "       [ 270.728, -117.821,   34.498],\n",
       "       [ 280.258, -104.876,   35.407],\n",
       "       [ 283.029, -112.392,   31.6  ],\n",
       "       [ 300.968, -101.865,   31.771],\n",
       "       [ 306.902, -114.317,   32.853],\n",
       "       [ 320.223, -117.725,   32.869],\n",
       "       [ 331.553, -115.36 ,   37.292],\n",
       "       [ 339.588, -134.854,   38.709],\n",
       "       [ 329.227, -137.347,   41.14 ],\n",
       "       [ 324.769, -156.706,   42.604],\n",
       "       [ 325.04 , -166.401,   40.947],\n",
       "       [ 324.95 , -161.76 ,   42.819],\n",
       "       [ 316.798, -171.293,   41.21 ],\n",
       "       [ 320.351, -185.123,   44.477],\n",
       "       [ 326.791, -190.728,   43.345],\n",
       "       [ 332.413, -194.924,   48.081],\n",
       "       [ 341.188, -187.26 ,   45.074],\n",
       "       [ 349.172, -189.997,   48.747],\n",
       "       [ 356.097, -184.434,   43.611],\n",
       "       [ 362.646, -176.674,   43.911],\n",
       "       [ 369.799, -167.837,   46.532],\n",
       "       [ 381.357, -162.026,   47.866],\n",
       "       [ 387.487, -151.193,   46.573],\n",
       "       [ 388.011, -141.297,   46.227],\n",
       "       [ 396.489, -131.655,   46.572],\n",
       "       [ 402.499, -113.067,   46.047],\n",
       "       [ 402.654, -111.118,   53.866],\n",
       "       [ 411.814,  -88.337,   49.301],\n",
       "       [ 421.833,  -84.107,   46.738],\n",
       "       [ 428.42 ,  -73.427,   53.451],\n",
       "       [ 442.498,  -56.136,   54.101],\n",
       "       [ 450.004,  -51.672,   55.866],\n",
       "       [ 450.988,  -47.906,   54.182],\n",
       "       [ 462.093,  -28.88 ,   55.955],\n",
       "       [ 471.91 ,  -27.387,   53.927],\n",
       "       [ 474.026,  -10.057,   54.136],\n",
       "       [ 485.964,  -11.856,   55.6  ],\n",
       "       [ 495.827,  -12.974,   57.778],\n",
       "       [ 512.701,    9.275,   53.917],\n",
       "       [ 519.191,    2.682,   58.557],\n",
       "       [ 529.691,   16.223,   58.108],\n",
       "       [ 540.2  ,   16.81 ,   52.464],\n",
       "       [ 555.113,   29.529,   58.423],\n",
       "       [ 568.36 ,   33.73 ,   62.02 ],\n",
       "       [ 580.565,   42.996,   58.708],\n",
       "       [ 591.793,   46.324,   59.646],\n",
       "       [ 602.405,   47.616,   55.39 ],\n",
       "       [ 617.356,   52.931,   53.091],\n",
       "       [ 625.585,   57.012,   59.836],\n",
       "       [ 634.925,   59.309,   62.002],\n",
       "       [ 647.067,   58.172,   61.214],\n",
       "       [ 647.954,   65.322,   67.394],\n",
       "       [ 659.035,   63.683,   64.65 ],\n",
       "       [ 658.868,   62.399,   61.354],\n",
       "       [ 668.985,   70.21 ,   59.859],\n",
       "       [ 668.972,   76.048,   58.651],\n",
       "       [ 667.458,   89.04 ,   58.632],\n",
       "       [ 660.058,   86.501,   59.767],\n",
       "       [ 671.23 ,  108.62 ,   54.448],\n",
       "       [ 665.104,  109.874,   52.352],\n",
       "       [ 677.052,  121.95 ,   56.937],\n",
       "       [ 676.158,  130.988,   55.369]])"
      ]
     },
     "execution_count": 10,
     "metadata": {},
     "output_type": "execute_result"
    }
   ],
   "source": [
    "window_positions = np.zeros((N_WINDOW//GPS_RATE, 3))\n",
    "for i in range(N_WINDOW//GPS_RATE):\n",
    "    pose = result.optimized_values[\"poses\"][i*GPS_RATE]\n",
    "    window_positions[i] = pose.position().flatten()   \n",
    "window_positions"
   ]
  },
  {
   "cell_type": "code",
   "execution_count": 12,
   "metadata": {},
   "outputs": [
    {
     "data": {
      "text/plain": [
       "array([3.691, 4.55 , 2.816])"
      ]
     },
     "execution_count": 12,
     "metadata": {},
     "output_type": "execute_result"
    }
   ],
   "source": [
    "np.std(gt_enu[0:N_WINDOW:GPS_RATE] - window_positions, axis=0)"
   ]
  },
  {
   "attachments": {},
   "cell_type": "markdown",
   "metadata": {},
   "source": [
    "Sliding window"
   ]
  },
  {
   "cell_type": "code",
   "execution_count": null,
   "metadata": {},
   "outputs": [],
   "source": [
    "PR_SIGMA = 6\n",
    "\n",
    "graph_positions = np.zeros((TRAJLEN, 3))\n",
    "# graph_rotations = np.zeros((TRAJLEN, 3))\n",
    "graph_attitudes = np.zeros((TRAJLEN, 3))\n",
    "init_poses = [sf.Pose3.identity()] * N_WINDOW\n",
    "init_poses[0] = sf.Pose3(sf.Rot3.from_rotation_matrix(gt_Rs[0]), sf.V3(gt_enu[0]))\n",
    "e_ranges = np.zeros((N_WINDOW//GPS_RATE, N_SATS))\n",
    "qs = np.zeros(TRAJLEN//GPS_RATE)\n",
    "\n",
    "for k in (pbar := tqdm(range((TRAJLEN - N_WINDOW) // N_SHIFT))):\n",
    "\n",
    "    window = slice(N_SHIFT * k, N_SHIFT * k + N_WINDOW)\n",
    "    ranges = spoofed_ranges[window]\n",
    "    satpos_enu = np.array(sv_positions[window])\n",
    "    satpos = [[sf.V3(satpos_enu[i][j]) for j in range(N_SATS)] for i in range(N_WINDOW)]\n",
    "\n",
    "    result = fgo_gps_only(init_poses, satpos, ranges, PR_SIGMA, GPS_RATE, fix_first_pose=True, debug=False)\n",
    "\n",
    "    # Extract optimized positions\n",
    "    window_positions = np.zeros((N_WINDOW, 3))\n",
    "    window_attitudes = np.zeros((N_WINDOW, 3))\n",
    "    for i in range(N_WINDOW):\n",
    "        pose = result.optimized_values[\"poses\"][i]\n",
    "        window_positions[i] = pose.position().flatten()   \n",
    "        window_attitudes[i] = pose.rotation().to_yaw_pitch_roll().flatten()   \n",
    "\n",
    "    # Save trajectory\n",
    "    graph_positions[N_SHIFT*k:N_SHIFT*(k+1)] = window_positions[:N_SHIFT]\n",
    "    graph_attitudes[N_SHIFT*k:N_SHIFT*(k+1)] = window_attitudes[:N_SHIFT]\n",
    "\n",
    "    # Update initial poses\n",
    "    init_poses[:-N_SHIFT] = result.optimized_values[\"poses\"][N_SHIFT:]\n",
    "\n",
    "    # Use lidar odometry to initialize latest new poses\n",
    "    n_pose = result.optimized_values[\"poses\"][-1]\n",
    "    n_pose = sf.Pose3(sf.Rot3.from_rotation_matrix(n_pose.R.to_rotation_matrix()), sf.V3(n_pose.t))\n",
    "    for i in range(N_SHIFT):\n",
    "        lidar_T = sf.Pose3(sf.Rot3.from_rotation_matrix(lidar_Rs[N_SHIFT*k + N_WINDOW + i]), sf.V3(lidar_ts[N_SHIFT*k + N_WINDOW + i]))\n",
    "        n_pose = lidar_T * n_pose\n",
    "        init_poses[-N_SHIFT+i] = n_pose\n",
    "\n",
    "    # Compute test statistic\n",
    "    for i in range(N_WINDOW//GPS_RATE):\n",
    "        svs = sv_positions[N_SHIFT * k + i * GPS_RATE]\n",
    "        for j in range(N_SATS):\n",
    "            e_ranges[i,j] = np.linalg.norm(window_positions[::GPS_RATE][i] - svs[j])\n",
    "    q = np.sum((ranges[::GPS_RATE] - e_ranges)**2) / PR_SIGMA**2\n",
    "    pbar.set_description(f\"q = {q:.2f}\")\n",
    "    qs[k] = q\n",
    "\n",
    "    # Mitigation\n",
    "    if q > T:\n",
    "        print(\"Attack detected at \", N_SHIFT * k)\n",
    "        PR_SIGMA = 1e5\n",
    "\n",
    "# # End of trajectory, save all the positions from the current window\n",
    "# for i in range(N_WINDOW):\n",
    "#     idx = TRAJLEN - N_WINDOW + i\n",
    "#     graph_positions[idx] = result.optimized_values[\"poses\"][i].position().flatten()\n",
    "OPT_TRAJLEN = N_SHIFT*(k+1)"
   ]
  },
  {
   "cell_type": "code",
   "execution_count": null,
   "metadata": {},
   "outputs": [],
   "source": [
    "# For plotting section of q\n",
    "qs_orig = qs\n",
    "qs = qs_orig[:133].copy()"
   ]
  },
  {
   "cell_type": "code",
   "execution_count": null,
   "metadata": {},
   "outputs": [],
   "source": [
    "OPT_TRAJLEN = N_SHIFT*(k+1)\n",
    "graph_positions = graph_positions[:OPT_TRAJLEN]\n",
    "gt_enu = gt_enu[:OPT_TRAJLEN]\n",
    "qs = qs[:OPT_TRAJLEN//N_SHIFT]"
   ]
  },
  {
   "cell_type": "code",
   "execution_count": null,
   "metadata": {},
   "outputs": [],
   "source": [
    "# Plot test statistic and threshold\n",
    "fig = go.Figure()\n",
    "fig.add_trace(go.Scatter(x=np.arange(len(qs)), y=qs, name='Test statistic'))\n",
    "fig.add_trace(go.Scatter(x=np.arange(len(qs)), y=T*np.ones(len(qs)), name='Threshold', line=dict(color='red', dash='dash')))\n",
    "# Add vertical line at start of spoofing attack\n",
    "fig.add_shape(type=\"line\", x0=ATTACK_START/GPS_RATE, y0=-20, x1=ATTACK_START/GPS_RATE, y1=200, line=dict(color=\"black\", width=2, dash=\"dash\"))\n",
    "fig.update_layout(width=900, height=500, xaxis_title='Time [s]', yaxis_title='Test statistic')\n",
    "#fig.update_layout(legend=dict(x=0.75, y=0.98), font=dict(size=18))\n",
    "fig.show()"
   ]
  },
  {
   "cell_type": "code",
   "execution_count": null,
   "metadata": {},
   "outputs": [],
   "source": [
    "fgo_traj = go.Scatter(x=graph_positions[:,0], y=graph_positions[:,1], hovertext=np.arange(TRAJLEN), name='FGO trajectory')\n",
    "gt_traj = go.Scatter(x=gt_enu[:TRAJLEN,0], y=gt_enu[:TRAJLEN,1], hovertext=np.arange(TRAJLEN), name='Ground-truth')\n",
    "spoof_traj = go.Scatter(x=spoofed_pos[:OPT_TRAJLEN,0], y=spoofed_pos[:OPT_TRAJLEN,1], hovertext=np.arange(OPT_TRAJLEN), name='Spoofed')\n",
    "start = go.Scatter(x=[0], y=[0], name='Start', mode='markers', marker=dict(size=10, color='blue'), showlegend=False)\n",
    "fig = go.Figure(data=[gt_traj, fgo_traj, spoof_traj, start])\n",
    "fig.update_layout(width=700, height=700, xaxis_title='East [m]', yaxis_title='North [m]')\n",
    "# Move legend into plot\n",
    "# fig.update_layout(legend=dict(x=0.75, y=0.98), font=dict(size=18))\n",
    "fig.update_yaxes(\n",
    "    scaleanchor = \"x\",\n",
    "    scaleratio = 1,\n",
    "  )\n",
    "fig.update_xaxes(autorange=True)\n",
    "fig.show()"
   ]
  },
  {
   "cell_type": "code",
   "execution_count": null,
   "metadata": {},
   "outputs": [],
   "source": [
    "# Plot x and y errors over time\n",
    "fig = go.Figure()\n",
    "fig.add_trace(go.Scatter(x=np.arange(TRAJLEN), y=graph_positions[:TRAJLEN,0] - gt_enu[:TRAJLEN,0], name='x error'))\n",
    "fig.add_trace(go.Scatter(x=np.arange(TRAJLEN), y=graph_positions[:TRAJLEN,1] - gt_enu[:TRAJLEN,1], name='y error'))\n",
    "fig.add_trace(go.Scatter(x=np.arange(TRAJLEN), y=graph_positions[:TRAJLEN,2] - gt_enu[:TRAJLEN,2], name='z error'))\n",
    "# Plot RMSE\n",
    "fig.add_trace(go.Scatter(x=np.arange(TRAJLEN), y=np.sqrt(np.mean((graph_positions - gt_enu[:TRAJLEN])**2, axis=1)), name='RMSE'))\n",
    "fig.update_layout(width=900, height=500, xaxis_title='Time [s]', yaxis_title='Error [m]')\n",
    "fig.update_layout(legend=dict(x=0.75, y=0.98), font=dict(size=18))\n",
    "fig.show()\n"
   ]
  },
  {
   "cell_type": "code",
   "execution_count": null,
   "metadata": {},
   "outputs": [],
   "source": [
    "# RMSE error\n",
    "rmse_xyz = np.sqrt(np.mean((graph_positions[:1800] - gt_enu[:1800])**2, axis=0))\n",
    "print(\"RMSE (xyz): \", rmse_xyz)\n",
    "print(\"RMSE (overall): \", rmse_xyz.mean())"
   ]
  },
  {
   "cell_type": "code",
   "execution_count": null,
   "metadata": {},
   "outputs": [],
   "source": [
    "# mean error\n",
    "np.mean((graph_positions[:1800] - gt_enu[:1800]), axis=0)"
   ]
  },
  {
   "cell_type": "code",
   "execution_count": null,
   "metadata": {},
   "outputs": [],
   "source": []
  }
 ],
 "metadata": {
  "kernelspec": {
   "display_name": "chimera",
   "language": "python",
   "name": "python3"
  },
  "language_info": {
   "codemirror_mode": {
    "name": "ipython",
    "version": 3
   },
   "file_extension": ".py",
   "mimetype": "text/x-python",
   "name": "python",
   "nbconvert_exporter": "python",
   "pygments_lexer": "ipython3",
   "version": "3.9.16"
  },
  "orig_nbformat": 4,
  "vscode": {
   "interpreter": {
    "hash": "a5edd088d6b144d42777d3bfeb942dbfa3bc6a1fda937eadc36b79f380c5a6b9"
   }
  }
 },
 "nbformat": 4,
 "nbformat_minor": 2
}
