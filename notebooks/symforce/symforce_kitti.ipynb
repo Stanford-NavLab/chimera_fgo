{
 "cells": [
  {
   "cell_type": "code",
   "execution_count": null,
   "metadata": {},
   "outputs": [],
   "source": [
    "import numpy as np\n",
    "import struct \n",
    "import os\n",
    "import plotly.graph_objects as go\n",
    "import time\n",
    "\n",
    "import lgchimera.general as general\n",
    "from lgchimera.io import read_lidar_bin, read_gt\n",
    "from lgchimera.kitti_util import process_kitti_gt, load_icp_results\n",
    "from lgchimera.geom_util import euler_to_R\n",
    "\n",
    "import symforce\n",
    "try:\n",
    "    symforce.set_epsilon_to_symbol()\n",
    "except symforce.AlreadyUsedEpsilon:\n",
    "    print(\"Already set symforce epsilon\")\n",
    "    pass \n",
    "\n",
    "import symforce.symbolic as sf\n",
    "\n",
    "%load_ext autoreload\n",
    "%autoreload 2\n",
    "\n",
    "np.set_printoptions(suppress=True, precision=3)"
   ]
  },
  {
   "attachments": {},
   "cell_type": "markdown",
   "metadata": {},
   "source": [
    "### Load KITTI data"
   ]
  },
  {
   "cell_type": "code",
   "execution_count": null,
   "metadata": {},
   "outputs": [],
   "source": [
    "kitti_seq = '0027'\n",
    "start_idx = 0\n",
    "\n",
    "gtpath = os.path.join(os.getcwd(), '..', '..', 'data', 'kitti', kitti_seq, 'oxts', 'data')\n",
    "gt_enu, gt_Rs, gt_attitudes = process_kitti_gt(gtpath, start_idx=start_idx)\n",
    "\n",
    "TRAJLEN = len(gt_enu)"
   ]
  },
  {
   "cell_type": "code",
   "execution_count": null,
   "metadata": {},
   "outputs": [],
   "source": [
    "TRAJLEN"
   ]
  },
  {
   "attachments": {},
   "cell_type": "markdown",
   "metadata": {},
   "source": [
    "### ICP data"
   ]
  },
  {
   "cell_type": "code",
   "execution_count": null,
   "metadata": {},
   "outputs": [],
   "source": [
    "data_path = os.path.join(os.getcwd(), '..', '..', 'data', 'kitti', kitti_seq, 'results', 'p2pl_icp')\n",
    "lidar_Rs, lidar_ts, positions, lidar_covariances = load_icp_results(data_path, start_idx=start_idx)"
   ]
  },
  {
   "cell_type": "code",
   "execution_count": null,
   "metadata": {},
   "outputs": [],
   "source": [
    "np.mean(gt_enu - positions, axis=0)"
   ]
  },
  {
   "attachments": {},
   "cell_type": "markdown",
   "metadata": {},
   "source": [
    "### Problem Setup "
   ]
  },
  {
   "cell_type": "code",
   "execution_count": null,
   "metadata": {},
   "outputs": [],
   "source": [
    "# DEBUG: use toy positions\n",
    "# gt_enu = np.zeros((N_POSES,3))\n",
    "# gt_enu[:,0] = np.arange(N_POSES)\n",
    "\n",
    "# gt_Rs = N_POSES * [np.eye(3)]"
   ]
  },
  {
   "cell_type": "code",
   "execution_count": null,
   "metadata": {},
   "outputs": [],
   "source": [
    "# # Ground-truth odometry\n",
    "# # odom[i] transforms i to i+1\n",
    "# gt_odom = [None] * (N_POSES - 1)\n",
    "# for i in range(N_POSES - 1):\n",
    "#     R = gt_Rs[i+1] @ gt_Rs[i].T\n",
    "#     t = gt_enu[i+1] - R @ gt_enu[i]\n",
    "#     gt_odom[i] = (R, t)"
   ]
  },
  {
   "cell_type": "code",
   "execution_count": null,
   "metadata": {},
   "outputs": [],
   "source": [
    "# Satellite positions\n",
    "# Uniformly arranged in a circle of radius R at constant altitude\n",
    "R = 1e4\n",
    "SAT_ALT = 1e4\n",
    "N_SATS = 10\n",
    "satpos_enu = np.zeros((N_SATS, 3))\n",
    "satpos_enu[:,0] = np.cos(np.linspace(0, 2*np.pi, N_SATS, endpoint=False)) * R\n",
    "satpos_enu[:,1] = np.sin(np.linspace(0, 2*np.pi, N_SATS, endpoint=False)) * R\n",
    "satpos_enu[:,2] = SAT_ALT\n",
    "\n",
    "# sats_trace = go.Scatter(x=satpos_enu[:,0], y=satpos_enu[:,1])\n",
    "# fig = go.Figure(data=[sats_trace])\n",
    "# fig.update_layout(width=1000, height=1000, xaxis_title='East [m]', yaxis_title='North [m]')\n",
    "# fig.show()"
   ]
  },
  {
   "attachments": {},
   "cell_type": "markdown",
   "metadata": {},
   "source": [
    "### Construct factor graph"
   ]
  },
  {
   "cell_type": "code",
   "execution_count": null,
   "metadata": {},
   "outputs": [],
   "source": [
    "# Lidar odometry\n",
    "lidar_odom = [None] * TRAJLEN\n",
    "for i in range(TRAJLEN - 1):\n",
    "    lidar_odom[i] = (lidar_Rs[i], lidar_ts[i])"
   ]
  },
  {
   "cell_type": "code",
   "execution_count": null,
   "metadata": {},
   "outputs": [],
   "source": [
    "# Ranges\n",
    "PR_SIGMA = 6\n",
    "m_ranges = np.zeros((TRAJLEN, N_SATS))\n",
    "for i in range(TRAJLEN):\n",
    "    for j in range(N_SATS):\n",
    "        m_ranges[i,j] = np.linalg.norm(gt_enu[i] - satpos_enu[j]) + np.random.normal(0, PR_SIGMA)"
   ]
  },
  {
   "cell_type": "code",
   "execution_count": null,
   "metadata": {},
   "outputs": [],
   "source": [
    "# Lidar odometry covariance\n",
    "ODOM_R_SIGMA = 0.01  # \n",
    "ODOM_T_SIGMA = 0.05  # [m]\n",
    "#ODOM_SIGMA = np.array([0.05, 0.05, 0.05, 0.2, 0.2, 0.2])\n",
    "ODOM_SIGMA = np.ones(6)\n",
    "ODOM_SIGMA[:3] *= ODOM_R_SIGMA\n",
    "ODOM_SIGMA[3:] *= ODOM_T_SIGMA"
   ]
  },
  {
   "attachments": {},
   "cell_type": "markdown",
   "metadata": {},
   "source": [
    "### Sliding window"
   ]
  },
  {
   "cell_type": "code",
   "execution_count": null,
   "metadata": {},
   "outputs": [],
   "source": [
    "from lgchimera.symforce.factor_graph import fgo\n",
    "\n",
    "# Sliding window of size 100 which shifts by 10 each iteration\n",
    "N_SHIFT = 10\n",
    "N_WINDOW = 100\n",
    "TRAJLEN = 1000\n",
    "\n",
    "GPS_RATE = 10  # ratio of odometry to GPS measurements\n",
    "\n",
    "graph_positions = np.zeros((TRAJLEN, 3))\n",
    "init_poses = [sf.Pose3.identity()] * N_WINDOW\n",
    "init_poses[0] = sf.Pose3(sf.Rot3.from_rotation_matrix(gt_Rs[0]), sf.V3(gt_enu[0]))\n",
    "e_ranges = np.zeros((N_WINDOW//GPS_RATE, N_SATS))\n",
    "qs = np.zeros(TRAJLEN//GPS_RATE)\n",
    "\n",
    "for k in range((TRAJLEN - N_WINDOW) // N_SHIFT):\n",
    "    print(N_SHIFT * k, '/', TRAJLEN)\n",
    "    window = slice(N_SHIFT * k, N_SHIFT * k + N_WINDOW)\n",
    "    odom = lidar_odom[window]\n",
    "    ranges = m_ranges[window]\n",
    "\n",
    "    result = fgo(init_poses, satpos_enu, ranges, odom, ODOM_SIGMA, PR_SIGMA, GPS_RATE, fix_first_pose=True, debug=False)\n",
    "\n",
    "    # Extract optimized positions\n",
    "    window_positions = np.zeros((N_WINDOW, 3))\n",
    "    for i in range(N_WINDOW):\n",
    "        pose = result.optimized_values[\"poses\"][i]\n",
    "        window_positions[i] = pose.position().flatten()   \n",
    "\n",
    "    # Save trajectory\n",
    "    graph_positions[N_SHIFT*k:N_SHIFT*(k+1)] = window_positions[:N_SHIFT]\n",
    "\n",
    "    # Update initial poses\n",
    "    init_poses[:-N_SHIFT] = result.optimized_values[\"poses\"][N_SHIFT:]\n",
    "    #init_poses[0] = result.optimized_values[\"poses\"][N_SHIFT]\n",
    "\n",
    "    # Use lidar odometry to initialize latest new poses\n",
    "    n_pose = result.optimized_values[\"poses\"][-1]\n",
    "    n_pose = sf.Pose3(sf.Rot3.from_rotation_matrix(n_pose.R.to_rotation_matrix()), sf.V3(n_pose.t))\n",
    "    for i in range(N_SHIFT):\n",
    "        lidar_T = sf.Pose3(sf.Rot3.from_rotation_matrix(lidar_Rs[N_SHIFT*k + N_WINDOW + i]), sf.V3(lidar_ts[N_SHIFT*k + N_WINDOW + i]))\n",
    "        n_pose = lidar_T * n_pose\n",
    "        init_poses[-N_SHIFT+i] = n_pose\n",
    "\n",
    "    # Compute test statistic\n",
    "    for i in range(N_WINDOW//GPS_RATE):\n",
    "        for j in range(N_SATS):\n",
    "            e_ranges[i,j] = np.linalg.norm(window_positions[::GPS_RATE][i] - satpos_enu[j])\n",
    "    q = np.sum((ranges[::GPS_RATE] - e_ranges)**2) / PR_SIGMA**2\n",
    "    print(\"q = \", q)\n",
    "    qs[k] = q\n",
    "\n",
    "# End of trajectory, save all the positions from the current window\n",
    "for i in range(N_WINDOW):\n",
    "    idx = TRAJLEN - N_WINDOW + i\n",
    "    graph_positions[idx] = result.optimized_values[\"poses\"][i].position().flatten()"
   ]
  },
  {
   "cell_type": "code",
   "execution_count": null,
   "metadata": {},
   "outputs": [],
   "source": [
    "# RMSE error\n",
    "rmse_xyz = np.sqrt(np.mean((graph_positions - gt_enu[:TRAJLEN])**2, axis=0))\n",
    "print(\"RMSE (xyz): \", rmse_xyz)\n",
    "print(\"RMSE (overall): \", rmse_xyz.mean())"
   ]
  },
  {
   "cell_type": "code",
   "execution_count": null,
   "metadata": {},
   "outputs": [],
   "source": [
    "fgo_traj = go.Scatter(x=graph_positions[:,0], y=graph_positions[:,1], hovertext=np.arange(TRAJLEN), name='FGO trajectory')\n",
    "gt_traj = go.Scatter(x=gt_enu[:TRAJLEN,0], y=gt_enu[:TRAJLEN,1], hovertext=np.arange(TRAJLEN), name='Ground-truth')\n",
    "start = go.Scatter(x=[0], y=[0], name='Start', mode='markers', marker=dict(size=10, color='blue'), showlegend=False)\n",
    "fig = go.Figure(data=[gt_traj, fgo_traj, start])\n",
    "fig.update_layout(width=700, height=700, xaxis_title='East [m]', yaxis_title='North [m]')\n",
    "# Move legend into plot\n",
    "fig.update_layout(legend=dict(x=0.75, y=0.98), font=dict(size=18))\n",
    "fig.update_yaxes(\n",
    "    scaleanchor = \"x\",\n",
    "    scaleratio = 1,\n",
    "  )\n",
    "fig.update_xaxes(autorange=True)\n",
    "fig.show()"
   ]
  },
  {
   "cell_type": "code",
   "execution_count": null,
   "metadata": {},
   "outputs": [],
   "source": [
    "a = np.array([False, False, True, False, True])\n",
    "np.argmin(a)"
   ]
  },
  {
   "attachments": {},
   "cell_type": "markdown",
   "metadata": {},
   "source": [
    "### Spoofing"
   ]
  },
  {
   "cell_type": "code",
   "execution_count": null,
   "metadata": {},
   "outputs": [],
   "source": [
    "from scipy.stats import chi2\n",
    "\n",
    "# Compute threshold\n",
    "alpha = 0.001  # False alarm (FA) rate\n",
    "T = chi2.ppf(1-alpha, df=N_SATS*(N_WINDOW/GPS_RATE))\n",
    "print(\"Threshold = \", T)"
   ]
  },
  {
   "cell_type": "code",
   "execution_count": null,
   "metadata": {},
   "outputs": [],
   "source": [
    "# Spoofed trajectory\n",
    "spoofed_pos = gt_enu[:TRAJLEN].copy()\n",
    "\n",
    "MAX_BIAS = 50  # [m]\n",
    "gps_spoofing_biases = np.zeros(TRAJLEN)  \n",
    "ATTACK_START = TRAJLEN // 2\n",
    "gps_spoofing_biases[ATTACK_START:] = np.linspace(0, MAX_BIAS, TRAJLEN-ATTACK_START)  # Ramping attack\n",
    "\n",
    "spoofed_pos[:,0] += gps_spoofing_biases"
   ]
  },
  {
   "cell_type": "code",
   "execution_count": null,
   "metadata": {},
   "outputs": [],
   "source": [
    "# Spoofed ranges\n",
    "PR_SIGMA = 6\n",
    "spoofed_ranges = np.zeros((TRAJLEN, N_SATS))\n",
    "for i in range(TRAJLEN):\n",
    "    for j in range(N_SATS):\n",
    "        spoofed_ranges[i,j] = np.linalg.norm(spoofed_pos[i] - satpos_enu[j]) + np.random.normal(0, PR_SIGMA)"
   ]
  },
  {
   "cell_type": "code",
   "execution_count": null,
   "metadata": {},
   "outputs": [],
   "source": [
    "from lgchimera.symforce.factor_graph import fgo\n",
    "\n",
    "# Sliding window of size 100 which shifts by 10 each iteration\n",
    "N_SHIFT = 10\n",
    "N_WINDOW = 100\n",
    "\n",
    "GPS_RATE = 10  # ratio of odometry to GPS measurements\n",
    "\n",
    "graph_positions = np.zeros((TRAJLEN, 3))\n",
    "init_poses = [sf.Pose3.identity()] * N_WINDOW\n",
    "init_poses[0] = sf.Pose3(sf.Rot3.from_rotation_matrix(gt_Rs[0]), sf.V3(gt_enu[0]))\n",
    "e_ranges = np.zeros((N_WINDOW//GPS_RATE, N_SATS))\n",
    "qs = np.zeros(TRAJLEN//GPS_RATE)\n",
    "\n",
    "for k in range((TRAJLEN - N_WINDOW) // N_SHIFT):\n",
    "    print(N_SHIFT * k, '/', TRAJLEN)\n",
    "    window = slice(N_SHIFT * k, N_SHIFT * k + N_WINDOW)\n",
    "    odom = lidar_odom[window]\n",
    "    ranges = spoofed_ranges[window]\n",
    "\n",
    "    result = fgo(init_poses, satpos_enu, ranges, odom, PR_SIGMA, ODOM_SIGMA, GPS_RATE, fix_first_pose=True, debug=False)\n",
    "\n",
    "    # Extract optimized positions\n",
    "    window_positions = np.zeros((N_WINDOW, 3))\n",
    "    for i in range(N_WINDOW):\n",
    "        pose = result.optimized_values[\"poses\"][i]\n",
    "        window_positions[i] = pose.position().flatten()   \n",
    "\n",
    "    # Save trajectory\n",
    "    graph_positions[N_SHIFT*k:N_SHIFT*(k+1)] = window_positions[:N_SHIFT]\n",
    "\n",
    "    # Update initial poses\n",
    "    init_poses[:-N_SHIFT] = result.optimized_values[\"poses\"][N_SHIFT:]\n",
    "\n",
    "    # Use lidar odometry to initialize latest new poses\n",
    "    n_pose = result.optimized_values[\"poses\"][-1]\n",
    "    n_pose = sf.Pose3(sf.Rot3.from_rotation_matrix(n_pose.R.to_rotation_matrix()), sf.V3(n_pose.t))\n",
    "    for i in range(N_SHIFT):\n",
    "        lidar_T = sf.Pose3(sf.Rot3.from_rotation_matrix(lidar_Rs[N_SHIFT*k + N_WINDOW + i]), sf.V3(lidar_ts[N_SHIFT*k + N_WINDOW + i]))\n",
    "        n_pose = lidar_T * n_pose\n",
    "        init_poses[-N_SHIFT+i] = n_pose\n",
    "\n",
    "    # Compute test statistic\n",
    "    for i in range(N_WINDOW//GPS_RATE):\n",
    "        for j in range(N_SATS):\n",
    "            e_ranges[i,j] = np.linalg.norm(window_positions[::GPS_RATE][i] - satpos_enu[j])\n",
    "    q = np.sum((ranges[::GPS_RATE] - e_ranges)**2) / PR_SIGMA**2\n",
    "    print(\"q = \", q)\n",
    "    qs[k] = q\n",
    "\n",
    "# End of trajectory, save all the positions from the current window\n",
    "for i in range(N_WINDOW):\n",
    "    idx = TRAJLEN - N_WINDOW + i\n",
    "    graph_positions[idx] = result.optimized_values[\"poses\"][i].position().flatten()"
   ]
  },
  {
   "cell_type": "code",
   "execution_count": null,
   "metadata": {},
   "outputs": [],
   "source": [
    "# For plotting section of q\n",
    "qs_orig = qs\n",
    "qs = qs_orig[:90].copy()"
   ]
  },
  {
   "cell_type": "code",
   "execution_count": null,
   "metadata": {},
   "outputs": [],
   "source": [
    "# Plot test statistic and threshold\n",
    "fig = go.Figure()\n",
    "fig.add_trace(go.Scatter(x=np.arange(len(qs)), y=qs, name='Test statistic'))\n",
    "fig.add_trace(go.Scatter(x=np.arange(len(qs)), y=T*np.ones(len(qs)), name='Threshold', line=dict(color='red', dash='dash')))\n",
    "# Add vertical line at start of spoofing attack\n",
    "fig.add_shape(type=\"line\", x0=ATTACK_START/GPS_RATE, y0=-20, x1=ATTACK_START/GPS_RATE, y1=250, line=dict(color=\"black\", width=2, dash=\"dash\"))\n",
    "fig.update_layout(width=900, height=500, xaxis_title='Time [s]', yaxis_title='Test statistic')\n",
    "#fig.update_layout(legend=dict(x=0.75, y=0.98), font=dict(size=18))\n",
    "fig.show()"
   ]
  },
  {
   "cell_type": "code",
   "execution_count": null,
   "metadata": {},
   "outputs": [],
   "source": [
    "fgo_traj = go.Scatter(x=graph_positions[:,0], y=graph_positions[:,1], hovertext=np.arange(TRAJLEN), name='FGO trajectory')\n",
    "gt_traj = go.Scatter(x=gt_enu[:TRAJLEN,0], y=gt_enu[:TRAJLEN,1], hovertext=np.arange(TRAJLEN), name='Ground-truth')\n",
    "spoof_traj = go.Scatter(x=spoofed_pos[:TRAJLEN,0], y=spoofed_pos[:TRAJLEN,1], hovertext=np.arange(TRAJLEN), name='Spoofed')\n",
    "start = go.Scatter(x=[0], y=[0], name='Start', mode='markers', marker=dict(size=10, color='blue'), showlegend=False)\n",
    "fig = go.Figure(data=[gt_traj, fgo_traj, spoof_traj, start])\n",
    "fig.update_layout(width=700, height=700, xaxis_title='East [m]', yaxis_title='North [m]')\n",
    "# Move legend into plot\n",
    "fig.update_layout(legend=dict(x=0.75, y=0.98), font=dict(size=18))\n",
    "fig.update_yaxes(\n",
    "    scaleanchor = \"x\",\n",
    "    scaleratio = 1,\n",
    "  )\n",
    "fig.update_xaxes(autorange=True)\n",
    "fig.show()"
   ]
  },
  {
   "attachments": {},
   "cell_type": "markdown",
   "metadata": {},
   "source": [
    "### Attitude measurements"
   ]
  },
  {
   "cell_type": "code",
   "execution_count": null,
   "metadata": {},
   "outputs": [],
   "source": [
    "ATT_SIGMA = 1e-3 * sf.V3.ones(3,1)"
   ]
  },
  {
   "cell_type": "code",
   "execution_count": null,
   "metadata": {},
   "outputs": [],
   "source": [
    "TRAJLEN = 2000"
   ]
  },
  {
   "cell_type": "code",
   "execution_count": null,
   "metadata": {},
   "outputs": [],
   "source": [
    "np.random.seed(0)\n",
    "\n",
    "# Spoofed trajectory\n",
    "spoofed_pos = gt_enu[:TRAJLEN].copy()\n",
    "\n",
    "MAX_BIAS = 0  # [m]\n",
    "gps_spoofing_biases = np.zeros(TRAJLEN)  \n",
    "ATTACK_START = TRAJLEN // 2\n",
    "gps_spoofing_biases[ATTACK_START:] = np.linspace(0, MAX_BIAS, TRAJLEN-ATTACK_START)  # Ramping attack\n",
    "\n",
    "spoofed_pos[:,0] += gps_spoofing_biases\n",
    "\n",
    "# Spoofed ranges\n",
    "PR_SIGMA = 6\n",
    "spoofed_ranges = np.zeros((TRAJLEN, N_SATS))\n",
    "for i in range(TRAJLEN):\n",
    "    for j in range(N_SATS):\n",
    "        spoofed_ranges[i,j] = np.linalg.norm(spoofed_pos[i] - satpos_enu[j]) + np.random.normal(0, PR_SIGMA)"
   ]
  },
  {
   "cell_type": "code",
   "execution_count": null,
   "metadata": {},
   "outputs": [],
   "source": [
    "from lgchimera.symforce.factor_graph import fgo\n",
    "\n",
    "# Sliding window of size 100 which shifts by 10 each iteration\n",
    "N_SHIFT = 10\n",
    "N_WINDOW = 100\n",
    "\n",
    "GPS_RATE = 10  # ratio of odometry to GPS measurements\n",
    "\n",
    "graph_positions = np.zeros((TRAJLEN, 3))\n",
    "init_poses = [sf.Pose3.identity()] * N_WINDOW\n",
    "init_poses[0] = sf.Pose3(sf.Rot3.from_rotation_matrix(gt_Rs[0]), sf.V3(gt_enu[0]))\n",
    "e_ranges = np.zeros((N_WINDOW//GPS_RATE, N_SATS))\n",
    "qs = np.zeros(TRAJLEN//GPS_RATE)\n",
    "\n",
    "for k in range((TRAJLEN - N_WINDOW) // N_SHIFT):\n",
    "    print(N_SHIFT * k, '/', TRAJLEN)\n",
    "    window = slice(N_SHIFT * k, N_SHIFT * k + N_WINDOW)\n",
    "    odom = lidar_odom[window]\n",
    "    ranges = spoofed_ranges[window]\n",
    "    attitudes = gt_Rs[window]\n",
    "\n",
    "    result = fgo(init_poses, satpos_enu, ranges, odom, attitudes, PR_SIGMA, ODOM_SIGMA, ATT_SIGMA, GPS_RATE, fix_first_pose=True, debug=False)\n",
    "\n",
    "    # Extract optimized positions\n",
    "    window_positions = np.zeros((N_WINDOW, 3))\n",
    "    for i in range(N_WINDOW):\n",
    "        pose = result.optimized_values[\"poses\"][i]\n",
    "        window_positions[i] = pose.position().flatten()   \n",
    "\n",
    "    # Save trajectory\n",
    "    graph_positions[N_SHIFT*k:N_SHIFT*(k+1)] = window_positions[:N_SHIFT]\n",
    "\n",
    "    # Update initial poses\n",
    "    init_poses[:-N_SHIFT] = result.optimized_values[\"poses\"][N_SHIFT:]\n",
    "    #init_poses[0] = result.optimized_values[\"poses\"][N_SHIFT]\n",
    "\n",
    "    # Use lidar odometry to initialize latest new poses\n",
    "    n_pose = result.optimized_values[\"poses\"][-1]\n",
    "    n_pose = sf.Pose3(sf.Rot3.from_rotation_matrix(n_pose.R.to_rotation_matrix()), sf.V3(n_pose.t))\n",
    "    for i in range(N_SHIFT):\n",
    "        lidar_T = sf.Pose3(sf.Rot3.from_rotation_matrix(lidar_Rs[N_SHIFT*k + N_WINDOW + i]), sf.V3(lidar_ts[N_SHIFT*k + N_WINDOW + i]))\n",
    "        n_pose = lidar_T * n_pose\n",
    "        init_poses[-N_SHIFT+i] = n_pose\n",
    "\n",
    "    # Compute test statistic\n",
    "    for i in range(N_WINDOW//GPS_RATE):\n",
    "        for j in range(N_SATS):\n",
    "            e_ranges[i,j] = np.linalg.norm(window_positions[::GPS_RATE][i] - satpos_enu[j])\n",
    "    q = np.sum((ranges[::GPS_RATE] - e_ranges)**2) / PR_SIGMA**2\n",
    "    print(\"q = \", q)\n",
    "    qs[k] = q\n",
    "\n",
    "# End of trajectory, save all the positions from the current window\n",
    "for i in range(N_WINDOW):\n",
    "    idx = TRAJLEN - N_WINDOW + i\n",
    "    graph_positions[idx] = result.optimized_values[\"poses\"][i].position().flatten()"
   ]
  },
  {
   "cell_type": "code",
   "execution_count": null,
   "metadata": {},
   "outputs": [],
   "source": [
    "k"
   ]
  },
  {
   "cell_type": "code",
   "execution_count": null,
   "metadata": {},
   "outputs": [],
   "source": [
    "graph_positions"
   ]
  },
  {
   "cell_type": "code",
   "execution_count": null,
   "metadata": {},
   "outputs": [],
   "source": [
    "# For plotting section of q\n",
    "qs_orig = qs\n",
    "qs = qs_orig[:90].copy()"
   ]
  },
  {
   "cell_type": "code",
   "execution_count": null,
   "metadata": {},
   "outputs": [],
   "source": [
    "# Plot test statistic and threshold\n",
    "fig = go.Figure()\n",
    "fig.add_trace(go.Scatter(x=np.arange(len(qs)), y=qs, name='Test statistic'))\n",
    "fig.add_trace(go.Scatter(x=np.arange(len(qs)), y=T*np.ones(len(qs)), name='Threshold', line=dict(color='red', dash='dash')))\n",
    "# Add vertical line at start of spoofing attack\n",
    "fig.add_shape(type=\"line\", x0=ATTACK_START/GPS_RATE, y0=-20, x1=ATTACK_START/GPS_RATE, y1=250, line=dict(color=\"black\", width=2, dash=\"dash\"))\n",
    "fig.update_layout(width=900, height=500, xaxis_title='Time [s]', yaxis_title='Test statistic')\n",
    "#fig.update_layout(legend=dict(x=0.75, y=0.98), font=dict(size=18))\n",
    "fig.show()"
   ]
  },
  {
   "cell_type": "code",
   "execution_count": null,
   "metadata": {},
   "outputs": [],
   "source": [
    "qs > T"
   ]
  },
  {
   "cell_type": "code",
   "execution_count": null,
   "metadata": {},
   "outputs": [],
   "source": [
    "fgo_traj = go.Scatter(x=graph_positions[:,0], y=graph_positions[:,1], hovertext=np.arange(TRAJLEN), name='FGO trajectory')\n",
    "gt_traj = go.Scatter(x=gt_enu[:TRAJLEN,0], y=gt_enu[:TRAJLEN,1], hovertext=np.arange(TRAJLEN), name='Ground-truth')\n",
    "spoof_traj = go.Scatter(x=spoofed_pos[:TRAJLEN,0], y=spoofed_pos[:TRAJLEN,1], hovertext=np.arange(TRAJLEN), name='Spoofed')\n",
    "start = go.Scatter(x=[0], y=[0], name='Start', mode='markers', marker=dict(size=10, color='blue'), showlegend=False)\n",
    "fig = go.Figure(data=[gt_traj, fgo_traj, start])\n",
    "fig.update_layout(width=700, height=700, xaxis_title='East [m]', yaxis_title='North [m]')\n",
    "# Move legend into plot\n",
    "fig.update_layout(legend=dict(x=0.75, y=0.98), font=dict(size=18))\n",
    "fig.update_yaxes(\n",
    "    scaleanchor = \"x\",\n",
    "    scaleratio = 1,\n",
    "  )\n",
    "fig.update_xaxes(autorange=True)\n",
    "fig.show()"
   ]
  },
  {
   "cell_type": "code",
   "execution_count": null,
   "metadata": {},
   "outputs": [],
   "source": [
    "# Plot x and y errors over time\n",
    "fig = go.Figure()\n",
    "fig.add_trace(go.Scatter(x=np.arange(TRAJLEN), y=graph_positions[:TRAJLEN,0] - gt_enu[:TRAJLEN,0], name='x error'))\n",
    "fig.add_trace(go.Scatter(x=np.arange(TRAJLEN), y=graph_positions[:TRAJLEN,1] - gt_enu[:TRAJLEN,1], name='y error'))\n",
    "fig.add_trace(go.Scatter(x=np.arange(TRAJLEN), y=graph_positions[:TRAJLEN,2] - gt_enu[:TRAJLEN,2], name='z error'))\n",
    "# Plot RMSE\n",
    "fig.add_trace(go.Scatter(x=np.arange(TRAJLEN), y=np.sqrt(np.mean((graph_positions - gt_enu[:TRAJLEN])**2, axis=1)), name='RMSE'))\n",
    "fig.update_layout(width=900, height=500, xaxis_title='Time [s]', yaxis_title='Error [m]')\n",
    "fig.update_layout(legend=dict(x=0.75, y=0.98), font=dict(size=18))\n",
    "fig.show()\n"
   ]
  },
  {
   "cell_type": "code",
   "execution_count": null,
   "metadata": {},
   "outputs": [],
   "source": [
    "# RMSE error\n",
    "rmse_xyz = np.sqrt(np.mean((graph_positions[:1800] - gt_enu[:1800])**2, axis=0))\n",
    "print(\"RMSE (xyz): \", rmse_xyz)\n",
    "print(\"RMSE (overall): \", rmse_xyz.mean())"
   ]
  },
  {
   "cell_type": "code",
   "execution_count": null,
   "metadata": {},
   "outputs": [],
   "source": [
    "# mean error\n",
    "np.mean((graph_positions[:1800] - gt_enu[:1800]), axis=0)"
   ]
  },
  {
   "cell_type": "code",
   "execution_count": null,
   "metadata": {},
   "outputs": [],
   "source": []
  }
 ],
 "metadata": {
  "kernelspec": {
   "display_name": "chimera",
   "language": "python",
   "name": "python3"
  },
  "language_info": {
   "codemirror_mode": {
    "name": "ipython",
    "version": 3
   },
   "file_extension": ".py",
   "mimetype": "text/x-python",
   "name": "python",
   "nbconvert_exporter": "python",
   "pygments_lexer": "ipython3",
   "version": "3.9.15 (main, Nov 24 2022, 14:31:59) \n[GCC 11.2.0]"
  },
  "orig_nbformat": 4,
  "vscode": {
   "interpreter": {
    "hash": "a5edd088d6b144d42777d3bfeb942dbfa3bc6a1fda937eadc36b79f380c5a6b9"
   }
  }
 },
 "nbformat": 4,
 "nbformat_minor": 2
}
