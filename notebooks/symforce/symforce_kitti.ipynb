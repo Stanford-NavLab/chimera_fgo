{
 "cells": [
  {
   "cell_type": "code",
   "execution_count": null,
   "metadata": {},
   "outputs": [],
   "source": [
    "import numpy as np\n",
    "import struct \n",
    "import os\n",
    "import plotly.graph_objects as go\n",
    "import time\n",
    "\n",
    "import lgchimera.general as general\n",
    "from lgchimera.io import read_lidar_bin, read_gt\n",
    "from lgchimera.kitti_util import process_kitti_gt, load_icp_results\n",
    "from lgchimera.geom_util import euler_to_R\n",
    "\n",
    "import symforce\n",
    "try:\n",
    "    symforce.set_epsilon_to_symbol()\n",
    "except symforce.AlreadyUsedEpsilon:\n",
    "    print(\"Already set symforce epsilon\")\n",
    "    pass \n",
    "\n",
    "import symforce.symbolic as sf\n",
    "\n",
    "%load_ext autoreload\n",
    "%autoreload 2\n",
    "\n",
    "np.set_printoptions(suppress=True, precision=3)"
   ]
  },
  {
   "attachments": {},
   "cell_type": "markdown",
   "metadata": {},
   "source": [
    "### Load KITTI data"
   ]
  },
  {
   "cell_type": "code",
   "execution_count": null,
   "metadata": {},
   "outputs": [],
   "source": [
    "kitti_seq = '0027'\n",
    "start_idx = 0\n",
    "\n",
    "gtpath = os.path.join(os.getcwd(), '..', '..', 'data', 'kitti', kitti_seq, 'oxts', 'data')\n",
    "gt_enu, gt_Rs, gt_attitudes = process_kitti_gt(gtpath, start_idx=start_idx)\n",
    "\n",
    "N_POSES = 100"
   ]
  },
  {
   "attachments": {},
   "cell_type": "markdown",
   "metadata": {},
   "source": [
    "### ICP data"
   ]
  },
  {
   "cell_type": "code",
   "execution_count": null,
   "metadata": {},
   "outputs": [],
   "source": [
    "data_path = os.path.join(os.getcwd(), '..', '..', 'data', 'kitti', kitti_seq, 'results', 'p2pl_icp')\n",
    "lidar_Rs, lidar_ts, positions, lidar_covariances = load_icp_results(data_path, start_idx=start_idx)"
   ]
  },
  {
   "attachments": {},
   "cell_type": "markdown",
   "metadata": {},
   "source": [
    "### Problem Setup "
   ]
  },
  {
   "cell_type": "code",
   "execution_count": null,
   "metadata": {},
   "outputs": [],
   "source": [
    "# DEBUG: use toy positions\n",
    "# gt_enu = np.zeros((N_POSES,3))\n",
    "# gt_enu[:,0] = np.arange(N_POSES)\n",
    "\n",
    "# gt_Rs = N_POSES * [np.eye(3)]"
   ]
  },
  {
   "cell_type": "code",
   "execution_count": null,
   "metadata": {},
   "outputs": [],
   "source": [
    "# # Ground-truth odometry\n",
    "# # odom[i] transforms i to i+1\n",
    "# gt_odom = [None] * (N_POSES - 1)\n",
    "# for i in range(N_POSES - 1):\n",
    "#     R = gt_Rs[i+1] @ gt_Rs[i].T\n",
    "#     t = gt_enu[i+1] - R @ gt_enu[i]\n",
    "#     gt_odom[i] = (R, t)"
   ]
  },
  {
   "cell_type": "code",
   "execution_count": null,
   "metadata": {},
   "outputs": [],
   "source": [
    "# Lidar odometry\n",
    "lidar_odom = [None] * (N_POSES - 1)\n",
    "for i in range(N_POSES - 1):\n",
    "    lidar_odom[i] = (lidar_Rs[i], lidar_ts[i])"
   ]
  },
  {
   "cell_type": "code",
   "execution_count": null,
   "metadata": {},
   "outputs": [],
   "source": [
    "# Initial lidar odometry poses\n",
    "init_poses = [None] * N_POSES"
   ]
  },
  {
   "cell_type": "code",
   "execution_count": null,
   "metadata": {},
   "outputs": [],
   "source": [
    "# Satellite positions\n",
    "# Uniformly arranged in a circle of radius R at constant altitude\n",
    "R = 1e4\n",
    "SAT_ALT = 1e4\n",
    "N_SATS = 10\n",
    "satpos_enu = np.zeros((N_SATS, 3))\n",
    "satpos_enu[:,0] = np.cos(np.linspace(0, 2*np.pi, N_SATS, endpoint=False)) * R\n",
    "satpos_enu[:,1] = np.sin(np.linspace(0, 2*np.pi, N_SATS, endpoint=False)) * R\n",
    "satpos_enu[:,2] = SAT_ALT\n",
    "\n",
    "# sats_trace = go.Scatter(x=satpos_enu[:,0], y=satpos_enu[:,1])\n",
    "# fig = go.Figure(data=[sats_trace])\n",
    "# fig.update_layout(width=1000, height=1000, xaxis_title='East [m]', yaxis_title='North [m]')\n",
    "# fig.show()"
   ]
  },
  {
   "cell_type": "code",
   "execution_count": null,
   "metadata": {},
   "outputs": [],
   "source": [
    "# Ranges\n",
    "PR_SIGMA = 10\n",
    "m_ranges = np.zeros((N_POSES, N_SATS))\n",
    "for i in range(N_POSES):\n",
    "    for j in range(N_SATS):\n",
    "        m_ranges[i,j] = np.linalg.norm(gt_enu[i] - satpos_enu[j]) + np.random.normal(0, PR_SIGMA)"
   ]
  },
  {
   "cell_type": "code",
   "execution_count": null,
   "metadata": {},
   "outputs": [],
   "source": [
    "# Odometry\n",
    "m_odometry = lidar_odom"
   ]
  },
  {
   "cell_type": "code",
   "execution_count": null,
   "metadata": {},
   "outputs": [],
   "source": [
    "# Sigmas\n",
    "odom_diag_sigma = np.array([0.05, 0.05, 0.05, 0.2, 0.2, 0.2])\n",
    "range_sigma = PR_SIGMA"
   ]
  },
  {
   "attachments": {},
   "cell_type": "markdown",
   "metadata": {},
   "source": [
    "### Construct factor graph"
   ]
  },
  {
   "cell_type": "code",
   "execution_count": null,
   "metadata": {},
   "outputs": [],
   "source": [
    "from lgchimera.symforce.factor_graph import build_values, build_factors\n",
    "\n",
    "values = build_values(N_POSES, satpos_enu, m_ranges, m_odometry, \n",
    "                        range_sigma, odom_diag_sigma)\n",
    "\n",
    "factors = build_factors(N_POSES, N_SATS)"
   ]
  },
  {
   "attachments": {},
   "cell_type": "markdown",
   "metadata": {},
   "source": [
    "### Optimization"
   ]
  },
  {
   "cell_type": "code",
   "execution_count": null,
   "metadata": {},
   "outputs": [],
   "source": [
    "from symforce.opt.optimizer import Optimizer\n",
    "\n",
    "# Select the keys to optimize - the rest will be held constant\n",
    "optimized_keys = [f\"poses[{i}]\" for i in range(N_POSES)]\n",
    "\n",
    "# Create the optimizer\n",
    "optimizer = Optimizer(\n",
    "    factors=factors,\n",
    "    optimized_keys=optimized_keys,\n",
    "    # Return problem stats for every iteration\n",
    "    debug_stats=True,\n",
    "    # Customize optimizer behavior\n",
    "    params=Optimizer.Params(verbose=True, initial_lambda=1e4, lambda_down_factor=0.5),\n",
    ")\n",
    "\n",
    "# Solve and return the result\n",
    "result = optimizer.optimize(values)"
   ]
  },
  {
   "cell_type": "code",
   "execution_count": null,
   "metadata": {},
   "outputs": [],
   "source": [
    "print(f\"Num iterations: {len(result.iteration_stats) - 1}\")\n",
    "print(f\"Final error: {result.error():.6f}\")"
   ]
  },
  {
   "cell_type": "code",
   "execution_count": null,
   "metadata": {},
   "outputs": [],
   "source": [
    "graph_positions = np.zeros((N_POSES, 3))\n",
    "for i, pose in enumerate(result.optimized_values[\"poses\"]):\n",
    "    graph_positions[i] = pose.position().flatten()\n",
    "    #print(f\"poses {i}: t = {pose.position()}, R = {pose.rotation().to_tangent()}\")"
   ]
  },
  {
   "cell_type": "code",
   "execution_count": null,
   "metadata": {},
   "outputs": [],
   "source": [
    "gt_enu"
   ]
  },
  {
   "cell_type": "code",
   "execution_count": null,
   "metadata": {},
   "outputs": [],
   "source": [
    "fgo_traj = go.Scatter(x=graph_positions[:,0], y=graph_positions[:,1], hovertext=np.arange(N_POSES), name='FGO trajectory')\n",
    "gt_traj = go.Scatter(x=gt_enu[:N_POSES,0], y=gt_enu[:N_POSES,1], hovertext=np.arange(N_POSES), name='Ground-truth')\n",
    "start = go.Scatter(x=[0], y=[0], name='Start', mode='markers', marker=dict(size=10, color='blue'), showlegend=False)\n",
    "fig = go.Figure(data=[gt_traj, fgo_traj, start])\n",
    "fig.update_layout(width=1000, height=1000, xaxis_title='East [m]', yaxis_title='North [m]')\n",
    "# Move legend into plot\n",
    "fig.update_layout(legend=dict(x=0.75, y=0.98), font=dict(size=18))\n",
    "fig.update_yaxes(\n",
    "    scaleanchor = \"x\",\n",
    "    scaleratio = 1,\n",
    "  )\n",
    "fig.update_xaxes(autorange=True)\n",
    "fig.show()"
   ]
  },
  {
   "cell_type": "code",
   "execution_count": null,
   "metadata": {},
   "outputs": [],
   "source": []
  }
 ],
 "metadata": {
  "kernelspec": {
   "display_name": "chimera",
   "language": "python",
   "name": "python3"
  },
  "language_info": {
   "codemirror_mode": {
    "name": "ipython",
    "version": 3
   },
   "file_extension": ".py",
   "mimetype": "text/x-python",
   "name": "python",
   "nbconvert_exporter": "python",
   "pygments_lexer": "ipython3",
   "version": "3.9.15"
  },
  "orig_nbformat": 4,
  "vscode": {
   "interpreter": {
    "hash": "a5edd088d6b144d42777d3bfeb942dbfa3bc6a1fda937eadc36b79f380c5a6b9"
   }
  }
 },
 "nbformat": 4,
 "nbformat_minor": 2
}
