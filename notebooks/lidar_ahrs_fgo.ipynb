{
 "cells": [
  {
   "cell_type": "code",
   "execution_count": null,
   "metadata": {},
   "outputs": [],
   "source": [
    "import numpy as np\n",
    "import struct \n",
    "import os\n",
    "import plotly.graph_objects as go\n",
    "import time\n",
    "\n",
    "import lgchimera.general as general\n",
    "from lgchimera.io import read_lidar_bin, read_gt\n",
    "from lgchimera.kitti_util import process_kitti_gt, load_icp_results\n",
    "from lgchimera.geom_util import euler_to_R\n",
    "from lgchimera.pose_graph import PoseGraph\n",
    "\n",
    "%load_ext autoreload\n",
    "%autoreload 2\n",
    "\n",
    "np.set_printoptions(suppress=True, precision=3)"
   ]
  },
  {
   "attachments": {},
   "cell_type": "markdown",
   "metadata": {},
   "source": [
    "Load ground truth"
   ]
  },
  {
   "cell_type": "code",
   "execution_count": null,
   "metadata": {},
   "outputs": [],
   "source": [
    "kitti_seq = '0027'\n",
    "start_idx = 0\n",
    "\n",
    "gtpath = os.path.join(os.getcwd(), '..', 'data', 'kitti', kitti_seq, 'oxts', 'data')\n",
    "gt_enu, gt_Rs, gt_attitudes = process_kitti_gt(gtpath, start_idx=start_idx)"
   ]
  },
  {
   "attachments": {},
   "cell_type": "markdown",
   "metadata": {},
   "source": [
    "Load ICP results"
   ]
  },
  {
   "cell_type": "code",
   "execution_count": null,
   "metadata": {},
   "outputs": [],
   "source": [
    "data_path = os.path.join(os.getcwd(), '..', 'data', 'kitti', kitti_seq, 'results', 'p2pl_icp')\n",
    "lidar_Rs, lidar_ts, positions, lidar_covariances = load_icp_results(data_path, start_idx=start_idx)"
   ]
  },
  {
   "attachments": {},
   "cell_type": "markdown",
   "metadata": {},
   "source": [
    "FGO"
   ]
  },
  {
   "cell_type": "code",
   "execution_count": null,
   "metadata": {},
   "outputs": [],
   "source": [
    "ATT_SIGMA = 1e-3 # [radians] \n",
    "ATT_INFO = np.eye(6)\n",
    "ATT_INFO[:3,:3] *= 1e-6\n",
    "ATT_INFO[3:,3:] *= 1e3\n",
    "#ATT_INFO = (1/ATT_SIGMA**2) * np.eye(6)\n",
    "#ATT_INFO *= 0.001\n",
    "#ATT_INFO = np.zeros((6,6))\n",
    "\n",
    "# Lidar information: fixed vs adaptive\n",
    "LIDAR_INFO_FIXED = True\n",
    "LIDAR_INFO = np.eye(6)\n",
    "#LIDAR_INFO[:3,:3] *= 10 \n",
    "\n",
    "ATT_RATE = 10  # Ratio of lidar to attitude measurements"
   ]
  },
  {
   "cell_type": "code",
   "execution_count": null,
   "metadata": {},
   "outputs": [],
   "source": [
    "np.random.seed(0)\n",
    "\n",
    "g = PoseGraph()\n",
    "N_nodes = len(gt_enu)\n",
    "window_size = 100\n",
    "\n",
    "# Add initial node\n",
    "R_abs = gt_Rs[0].copy()\n",
    "t_abs = gt_enu[0].copy()\n",
    "g.add_node(1, (R_abs, t_abs))\n",
    "\n",
    "# Simulate attitude measurement\n",
    "att_meas = gt_attitudes[0] #+ np.random.normal(0, ATT_SIGMA, 3) \n",
    "# Add attitude factor and edge\n",
    "g.add_factor(1, (euler_to_R(att_meas), gt_enu[0]), information=ATT_INFO)\n",
    "\n",
    "graph_positions = []\n",
    "att_measurements = []\n",
    "\n",
    "# For each new frame\n",
    "for i in range(1,N_nodes):\n",
    "    start_time = time.time()\n",
    "\n",
    "    att_meas = gt_attitudes[i]\n",
    "    R_att = euler_to_R(att_meas)\n",
    "\n",
    "    # Get LiDAR odometry\n",
    "    R_hat = np.array(lidar_Rs[i-1])\n",
    "    t_hat = np.array(lidar_ts[i-1])\n",
    "\n",
    "    # Initialize new node with LiDAR odometry estimate\n",
    "    #R_abs = R_hat @ R_abs\n",
    "    R_abs = R_att\n",
    "    t_abs += R_abs @ t_hat\n",
    "    g.add_node(i+1, (R_abs, t_abs))\n",
    "\n",
    "    # Add LiDAR odometry edge\n",
    "    if LIDAR_INFO_FIXED:\n",
    "        lidar_information = LIDAR_INFO\n",
    "    else:\n",
    "        lidar_information = np.linalg.inv(lidar_covariances[i-1])\n",
    "    g.add_edge([i, i+1], (R_hat, t_hat), information=lidar_information)\n",
    "\n",
    "    if i % ATT_RATE == 0:\n",
    "        # Simulate GPS measurement\n",
    "         #+ np.random.normal(0, ATT_SIGMA, 3) \n",
    "        att_measurements.append(att_meas)\n",
    "\n",
    "        # Add GPS factor and edge\n",
    "        g.add_factor(i+1, (R_att, t_abs), information=ATT_INFO)\n",
    "\n",
    "        # Trim to window size\n",
    "        graph_size = max([v.id for v in g.graph._vertices])\n",
    "        if graph_size > window_size:\n",
    "            # Save pose before trimming\n",
    "            graph_positions.append(g.get_positions()[:ATT_RATE])\n",
    "            g.trim_window(n=ATT_RATE)\n",
    "        \n",
    "        # Optimize\n",
    "        g.optimize()\n",
    "\n",
    "        # Update latest pose\n",
    "        R_abs, t_abs = g.get_poses()[-1]\n",
    "\n",
    "        # Time each iteration\n",
    "        print(i, \"/\", N_nodes, \": t=\", time.time() - start_time, \"s\")\n",
    "\n",
    "graph_positions = np.array(graph_positions).reshape(-1,3)\n",
    "att_measurements = np.array(att_measurements)"
   ]
  },
  {
   "cell_type": "code",
   "execution_count": null,
   "metadata": {},
   "outputs": [],
   "source": [
    "fgo_traj = go.Scatter(x=graph_positions[:,0], y=graph_positions[:,1], hovertext=np.arange(N_nodes), name='FGO trajectory')\n",
    "lidar_traj = go.Scatter(x=positions[:,0], y=positions[:,1], hovertext=np.arange(N_nodes), name='Lidar trajectory')\n",
    "gt_traj = go.Scatter(x=gt_enu[:N_nodes-window_size,0], y=gt_enu[:N_nodes-window_size,1], hovertext=np.arange(N_nodes), name='Ground-truth')\n",
    "start = go.Scatter(x=[0], y=[0], name='Start', mode='markers', marker=dict(size=10, color='blue'), showlegend=False)\n",
    "fig = go.Figure(data=[gt_traj, fgo_traj, lidar_traj, start])\n",
    "fig.update_layout(width=1000, height=1000, xaxis_title='East [m]', yaxis_title='North [m]')\n",
    "# Move legend into plot\n",
    "fig.update_layout(legend=dict(x=0.75, y=0.98), font=dict(size=18))\n",
    "fig.update_yaxes(\n",
    "    scaleanchor = \"x\",\n",
    "    scaleratio = 1,\n",
    "  )\n",
    "fig.update_xaxes(autorange=True)\n",
    "fig.show()"
   ]
  },
  {
   "cell_type": "code",
   "execution_count": null,
   "metadata": {},
   "outputs": [],
   "source": []
  }
 ],
 "metadata": {
  "kernelspec": {
   "display_name": "chimera",
   "language": "python",
   "name": "python3"
  },
  "language_info": {
   "codemirror_mode": {
    "name": "ipython",
    "version": 3
   },
   "file_extension": ".py",
   "mimetype": "text/x-python",
   "name": "python",
   "nbconvert_exporter": "python",
   "pygments_lexer": "ipython3",
   "version": "3.9.15"
  },
  "orig_nbformat": 4,
  "vscode": {
   "interpreter": {
    "hash": "a5edd088d6b144d42777d3bfeb942dbfa3bc6a1fda937eadc36b79f380c5a6b9"
   }
  }
 },
 "nbformat": 4,
 "nbformat_minor": 2
}
