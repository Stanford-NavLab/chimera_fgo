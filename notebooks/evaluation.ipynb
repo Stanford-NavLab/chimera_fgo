{
 "cells": [
  {
   "cell_type": "code",
   "execution_count": null,
   "metadata": {},
   "outputs": [],
   "source": [
    "import numpy as np\n",
    "import os\n",
    "import plotly.graph_objects as go\n",
    "\n",
    "from chimera_fgo.util.kitti import process_kitti_gt, load_icp_results\n",
    "from chimera_fgo.util.plot import plot_trajectories\n",
    "\n",
    "%load_ext autoreload\n",
    "%autoreload 2"
   ]
  },
  {
   "attachments": {},
   "cell_type": "markdown",
   "metadata": {},
   "source": [
    "### Single run"
   ]
  },
  {
   "cell_type": "code",
   "execution_count": null,
   "metadata": {},
   "outputs": [],
   "source": [
    "kitti_seq = '0018'\n",
    "start_idx = 1550 if kitti_seq == '0028' else 0\n",
    "\n",
    "# Load results\n",
    "run_name = 'att_fgo_0m_0.2asig_20runs_2023-01-25-0313'\n",
    "results_path = os.path.join(os.getcwd(), '..', 'results', kitti_seq, run_name)\n",
    "results_files = os.listdir(results_path)\n",
    "\n",
    "# Load ground truth\n",
    "gtpath = os.path.join(os.getcwd(), '..', 'data', 'kitti', kitti_seq, 'oxts', 'data')\n",
    "gt_enu, gt_Rs, gt_attitudes = process_kitti_gt(gtpath, start_idx=start_idx)\n",
    "\n",
    "# Lidar data\n",
    "data_path = os.path.join(os.getcwd(), '..', 'data', 'kitti', kitti_seq, 'icp')\n",
    "lidar_Rs, lidar_ts, lidar_positions, lidar_covariances = load_icp_results(data_path, start_idx=start_idx)"
   ]
  },
  {
   "cell_type": "code",
   "execution_count": null,
   "metadata": {},
   "outputs": [],
   "source": [
    "# Single run\n",
    "results = np.load(os.path.join(results_path, results_files[0]))\n",
    "graph_positions = results['positions']\n",
    "gt_enu = gt_enu[:graph_positions.shape[0]]\n",
    "\n",
    "# RMSE\n",
    "rmse = np.sqrt(np.mean((graph_positions - gt_enu)**2))\n",
    "print(\"RMSE:\", rmse)"
   ]
  },
  {
   "attachments": {},
   "cell_type": "markdown",
   "metadata": {},
   "source": [
    "### Window size comparison"
   ]
  },
  {
   "cell_type": "code",
   "execution_count": null,
   "metadata": {},
   "outputs": [],
   "source": [
    "kitti_seq = '0027'\n",
    "start_idx = 0\n",
    "gtpath = os.path.join(os.getcwd(), '..', 'data', 'kitti', kitti_seq, 'oxts', 'data')\n",
    "gt_enu, gt_Rs, gt_attitudes = process_kitti_gt(gtpath, start_idx=start_idx)\n",
    "# runs = ['fgo_100m_5runs_20w_2023-01-19-2312', \n",
    "#         'fgo_100m_5runs_50w_2023-01-19-2314',\n",
    "#         'fgo_100m_5runs_100w_2023-01-19-2321',\n",
    "#         'fgo_100m_5runs_200w_2023-01-19-2340']\n",
    "runs = ['fgo_200m_5runs_100w', \n",
    "        'fgo_200m_5runs_200w',\n",
    "        'fgo_200m_5runs_300w']\n",
    "\n",
    "mean_errs = []\n",
    "max_errs = []\n",
    "avg_iter_times = []\n",
    "\n",
    "for run in runs:\n",
    "    fgo_results_path = os.path.join(os.getcwd(), '..', 'results', kitti_seq, '2023-01-26', run)\n",
    "    fgo_results_files = os.listdir(fgo_results_path)\n",
    "    run_mean_errs = []\n",
    "    run_max_errs = []\n",
    "    run_avg_iter_times = []\n",
    "    for k in range(len(fgo_results_files)):\n",
    "        fgo_results = np.load(os.path.join(fgo_results_path, fgo_results_files[k]))\n",
    "        fgo_positions = fgo_results['fgo_positions']\n",
    "        N = len(fgo_positions)\n",
    "        err = np.linalg.norm(fgo_positions - gt_enu[:N], axis=1)\n",
    "        run_mean_errs.append(np.mean(err))\n",
    "        run_max_errs.append(np.max(err))\n",
    "        if not np.isnan(fgo_results['avg_iter_time']):\n",
    "            run_avg_iter_times.append(fgo_results['avg_iter_time'])\n",
    "    mean_errs.append(np.mean(run_mean_errs))\n",
    "    max_errs.append(np.mean(run_max_errs))\n",
    "    avg_iter_times.append(np.mean(run_avg_iter_times))"
   ]
  },
  {
   "cell_type": "code",
   "execution_count": null,
   "metadata": {},
   "outputs": [],
   "source": [
    "print(\"Window sizes: \", [100, 200, 300, 400, 500])\n",
    "print(\"Mean error: \", mean_errs)\n",
    "print(\"Max error: \", max_errs)\n",
    "print(\"Avg iter time: \", avg_iter_times)"
   ]
  },
  {
   "attachments": {},
   "cell_type": "markdown",
   "metadata": {},
   "source": [
    "### Error statistics"
   ]
  },
  {
   "cell_type": "code",
   "execution_count": null,
   "metadata": {},
   "outputs": [],
   "source": [
    "np.set_printoptions(suppress=True, precision=3)"
   ]
  },
  {
   "cell_type": "code",
   "execution_count": null,
   "metadata": {},
   "outputs": [],
   "source": [
    "# Nominal\n",
    "\n",
    "false_alarms = 0\n",
    "total_trials = 0\n",
    "trajectory_false_alarms = 0\n",
    "\n",
    "ss_start = 0  # Start of steady state\n",
    "xyz_errors = []\n",
    "\n",
    "for fname in results_files:\n",
    "    results = np.load(os.path.join(results_path, fname))\n",
    "\n",
    "    graph_positions = results['positions']\n",
    "    gt_enu = gt_enu[:graph_positions.shape[0]]\n",
    "\n",
    "    xyz_errors.append(gt_enu[ss_start:] - graph_positions[ss_start:])\n",
    "\n",
    "    # False alarm\n",
    "    qs = results['qs']\n",
    "    threshold = results['threshold']\n",
    "    false_alarms += np.sum(qs > threshold)\n",
    "    total_trials += len(qs)\n",
    "    if any(qs > threshold):\n",
    "        trajectory_false_alarms += 1\n",
    "\n",
    "\n",
    "print(f'Per trial false alarm rate: {false_alarms} of {total_trials}')\n",
    "print(f'Per trajectory false alarm rate: {trajectory_false_alarms} of {len(results_files)}')"
   ]
  },
  {
   "cell_type": "code",
   "execution_count": null,
   "metadata": {},
   "outputs": [],
   "source": [
    "xyz_errors = np.vstack(xyz_errors)"
   ]
  },
  {
   "cell_type": "code",
   "execution_count": null,
   "metadata": {},
   "outputs": [],
   "source": [
    "print(\"mean: \", np.mean(xyz_errors, axis=0))\n",
    "print(\"std: \", np.std(xyz_errors, axis=0))"
   ]
  },
  {
   "attachments": {},
   "cell_type": "markdown",
   "metadata": {},
   "source": [
    "Per trace error statistics"
   ]
  },
  {
   "cell_type": "code",
   "execution_count": null,
   "metadata": {},
   "outputs": [],
   "source": [
    "kitti_seq = '0034'\n",
    "run_name = 'fgo_100m_5runs_2023-01-19-0707'\n",
    "\n",
    "results_path = os.path.join(os.getcwd(), '..', 'results', kitti_seq, run_name)\n",
    "results_files = os.listdir(results_path)\n",
    "\n",
    "start_idx = 1550 if kitti_seq == '0028' else 0\n",
    "gtpath = os.path.join(os.getcwd(), '..', 'data', 'kitti', kitti_seq, 'oxts', 'data')\n",
    "gt_enu, gt_Rs, gt_attitudes = process_kitti_gt(gtpath, start_idx=start_idx)\n",
    "\n",
    "xyz_errors = []\n",
    "\n",
    "for fname in results_files:\n",
    "    results = np.load(os.path.join(results_path, fname))\n",
    "\n",
    "    graph_positions = results['positions']\n",
    "    gt_enu = gt_enu[:graph_positions.shape[0]]\n",
    "\n",
    "    xyz_errors.append(gt_enu - graph_positions)\n",
    "\n",
    "xyz_errors = np.vstack(xyz_errors)\n",
    "\n",
    "# print(\"rmse: \", np.sqrt(np.mean(xyz_errors**2)))\n",
    "# print(\"std: \", np.std(xyz_errors))\n",
    "# print(\"max: \", np.max(xyz_errors))\n",
    "\n",
    "norm_errors = np.linalg.norm(xyz_errors, axis=1)\n",
    "print(\"mean: \", np.mean(norm_errors))\n",
    "print(\"std: \", np.std(norm_errors))\n",
    "print(\"max: \", np.max(norm_errors))"
   ]
  },
  {
   "cell_type": "code",
   "execution_count": null,
   "metadata": {},
   "outputs": [],
   "source": []
  }
 ],
 "metadata": {
  "kernelspec": {
   "display_name": "chimera",
   "language": "python",
   "name": "python3"
  },
  "language_info": {
   "codemirror_mode": {
    "name": "ipython",
    "version": 3
   },
   "file_extension": ".py",
   "mimetype": "text/x-python",
   "name": "python",
   "nbconvert_exporter": "python",
   "pygments_lexer": "ipython3",
   "version": "3.9.16"
  },
  "orig_nbformat": 4,
  "vscode": {
   "interpreter": {
    "hash": "a5edd088d6b144d42777d3bfeb942dbfa3bc6a1fda937eadc36b79f380c5a6b9"
   }
  }
 },
 "nbformat": 4,
 "nbformat_minor": 2
}
