{
 "cells": [
  {
   "cell_type": "code",
   "execution_count": null,
   "metadata": {},
   "outputs": [],
   "source": [
    "import numpy as np\n",
    "import os\n",
    "import plotly.graph_objects as go\n",
    "\n",
    "from chimera_fgo.util.kitti import process_kitti_gt\n",
    "\n",
    "%load_ext autoreload\n",
    "%autoreload 2"
   ]
  },
  {
   "cell_type": "code",
   "execution_count": null,
   "metadata": {},
   "outputs": [],
   "source": [
    "kitti_seq = '0018'\n",
    "spoofed = True\n",
    "MAX_BIAS = 50\n",
    "\n",
    "if kitti_seq == '0028':\n",
    "    start_idx = 1550\n",
    "else:\n",
    "    start_idx = 0"
   ]
  },
  {
   "cell_type": "code",
   "execution_count": null,
   "metadata": {},
   "outputs": [],
   "source": [
    "# Load results\n",
    "results_path = os.path.join(os.getcwd(), '..', 'data', 'kitti', kitti_seq, 'results', 'spoofed' if spoofed else 'nominal')\n",
    "results_files = os.listdir(results_path)"
   ]
  },
  {
   "cell_type": "code",
   "execution_count": null,
   "metadata": {},
   "outputs": [],
   "source": [
    "# Load ground truth\n",
    "gtpath = os.path.join(os.getcwd(), '..', 'data', 'kitti', kitti_seq, 'oxts', 'data')\n",
    "gt_enu, gt_Rs, gt_attitudes = process_kitti_gt(gtpath, start_idx=start_idx)"
   ]
  },
  {
   "cell_type": "code",
   "execution_count": null,
   "metadata": {},
   "outputs": [],
   "source": [
    "fname = results_files[0]\n",
    "fname.split('.')[0][-4:]"
   ]
  },
  {
   "cell_type": "code",
   "execution_count": null,
   "metadata": {},
   "outputs": [],
   "source": [
    "def plot_trajectories(gt_enu, graph_positions, spoofed_positions=None, detect_idx=None):\n",
    "    ATTACK_START = 1000\n",
    "\n",
    "    fgo_traj = go.Scatter(x=graph_positions[:,0], y=graph_positions[:,1], name='FGO')\n",
    "    gt_traj = go.Scatter(x=gt_enu[:,0], y=gt_enu[:,1], name='Ground-truth', line=dict(color='black'))\n",
    "    start = go.Scatter(x=[0], y=[0], name='Start', mode='markers', marker=dict(size=10, color='blue'), showlegend=True)\n",
    "    plot_data = [fgo_traj, gt_traj, start]\n",
    "\n",
    "    if spoofed_positions is not None:\n",
    "        spoof_traj = go.Scatter(x=spoofed_positions[:,0], y=spoofed_positions[:,1], \n",
    "            name='Spoofed', line=dict(color='red', dash='dash')) \n",
    "        spoof_start = go.Scatter(x=[spoofed_positions[1000,0]], y=[spoofed_positions[1000,1]], \n",
    "            name='Spoofing start', mode='markers', marker=dict(size=10, color='red'), showlegend=True)\n",
    "        plot_data += [spoof_traj, spoof_start]\n",
    "\n",
    "    if detect_idx is not None:\n",
    "        detect = go.Scatter(x=[graph_positions[detect_idx,0]], y=[graph_positions[detect_idx,1]], \n",
    "            name='Detection', mode='markers', hovertext=str(detect_idx), marker=dict(size=10, color='green'), showlegend=True)\n",
    "        plot_data += [detect]\n",
    "    \n",
    "    fig = go.Figure(data=plot_data)\n",
    "    fig.update_layout(width=700, height=700, xaxis_title='East [m]', yaxis_title='North [m]')\n",
    "    #fig.update_layout(legend=dict(x=0.05, y=0.98), font=dict(size=18))\n",
    "    fig.update_yaxes(\n",
    "        scaleanchor = \"x\",\n",
    "        scaleratio = 1,\n",
    "    )\n",
    "    fig.update_xaxes(autorange=True)\n",
    "    fig.show()"
   ]
  },
  {
   "cell_type": "code",
   "execution_count": null,
   "metadata": {},
   "outputs": [],
   "source": [
    "#threshold = 137.20835412917324\n",
    "N_SHIFT = 10\n",
    "\n",
    "for fname in results_files:\n",
    "    if fname.split('.')[0][-4:] == '-50m':\n",
    "        results = np.load(os.path.join(results_path, fname))\n",
    "        graph_positions = results['positions']\n",
    "        gt_enu = gt_enu[:graph_positions.shape[0]]\n",
    "        if spoofed:\n",
    "            spoofed_positions = results['spoofed']\n",
    "        else: \n",
    "            spoofed_positions = None\n",
    "\n",
    "        qs = results['qs']\n",
    "        threshold = results['threshold']\n",
    "        if any(qs > threshold):\n",
    "            detect_idx = N_SHIFT * np.argmax(qs > threshold)\n",
    "        else:\n",
    "            detect_idx = None\n",
    "\n",
    "        plot_trajectories(gt_enu, graph_positions, spoofed_positions, detect_idx)"
   ]
  },
  {
   "cell_type": "code",
   "execution_count": null,
   "metadata": {},
   "outputs": [],
   "source": [
    "from plotly.subplots import make_subplots\n",
    "\n",
    "def plot_errors(fig, gt_enu, graph_positions):\n",
    "    traj_len = len(gt_enu)\n",
    "    \n",
    "    fig.add_trace(go.Scatter(x=np.arange(traj_len), y=graph_positions[:,0] - gt_enu[:,0], name='x error'), row=1, col=1)\n",
    "    fig.add_trace(go.Scatter(x=np.arange(traj_len), y=graph_positions[:,1] - gt_enu[:,1], name='y error'), row=2, col=1)\n",
    "    fig.add_trace(go.Scatter(x=np.arange(traj_len), y=graph_positions[:,2] - gt_enu[:,2], name='z error'), row=3, col=1)"
   ]
  },
  {
   "cell_type": "code",
   "execution_count": null,
   "metadata": {},
   "outputs": [],
   "source": [
    "fig = make_subplots(rows=3, cols=1, shared_xaxes=True, vertical_spacing=0.05)\n",
    "\n",
    "for fname in results_files:\n",
    "    if fname.split('.')[0][-4:] == '_50m':\n",
    "        results = np.load(os.path.join(results_path, fname))\n",
    "        graph_positions = results['positions']\n",
    "        gt_enu = gt_enu[:graph_positions.shape[0]]\n",
    "        plot_errors(fig, gt_enu, graph_positions)\n",
    "\n",
    "fig.update_layout(width=1200, height=700)\n",
    "fig.update_layout(font=dict(size=15))\n",
    "fig.show()"
   ]
  },
  {
   "attachments": {},
   "cell_type": "markdown",
   "metadata": {},
   "source": [
    "Error values"
   ]
  },
  {
   "cell_type": "code",
   "execution_count": null,
   "metadata": {},
   "outputs": [],
   "source": []
  }
 ],
 "metadata": {
  "kernelspec": {
   "display_name": "chimera",
   "language": "python",
   "name": "python3"
  },
  "language_info": {
   "codemirror_mode": {
    "name": "ipython",
    "version": 3
   },
   "file_extension": ".py",
   "mimetype": "text/x-python",
   "name": "python",
   "nbconvert_exporter": "python",
   "pygments_lexer": "ipython3",
   "version": "3.9.15"
  },
  "orig_nbformat": 4,
  "vscode": {
   "interpreter": {
    "hash": "a5edd088d6b144d42777d3bfeb942dbfa3bc6a1fda937eadc36b79f380c5a6b9"
   }
  }
 },
 "nbformat": 4,
 "nbformat_minor": 2
}
