{
 "cells": [
  {
   "cell_type": "code",
   "execution_count": null,
   "metadata": {},
   "outputs": [],
   "source": [
    "import numpy as np\n",
    "import os\n",
    "import plotly.graph_objects as go\n",
    "\n",
    "from chimera_fgo.util.kitti import process_kitti_gt\n",
    "\n",
    "%load_ext autoreload\n",
    "%autoreload 2"
   ]
  },
  {
   "cell_type": "code",
   "execution_count": null,
   "metadata": {},
   "outputs": [],
   "source": [
    "kitti_seq = '0027'\n",
    "spoofed = 'spoofed'\n",
    "MAX_BIAS = 50\n",
    "\n",
    "if kitti_seq == '0028':\n",
    "    start_idx = 1550\n",
    "else:\n",
    "    start_idx = 0"
   ]
  },
  {
   "cell_type": "code",
   "execution_count": null,
   "metadata": {},
   "outputs": [],
   "source": [
    "# Load results\n",
    "results_path = os.path.join(os.getcwd(), '..', 'data', 'kitti', kitti_seq, 'results', spoofed)\n",
    "results = np.load(os.path.join(results_path, '2023-01-17_2252_fgo_50m.npz'))\n",
    "\n",
    "# Load ground truth\n",
    "gtpath = os.path.join(os.getcwd(), '..', 'data', 'kitti', kitti_seq, 'oxts', 'data')\n",
    "gt_enu, gt_Rs, gt_attitudes = process_kitti_gt(gtpath, start_idx=start_idx)\n",
    "\n",
    "graph_positions_plot = results['positions']\n",
    "spoofed_positions_plot = results['spoofed']\n",
    "qs_plot = results['qs']\n",
    "gt_enu_plot = gt_enu[:graph_positions_plot.shape[0]]"
   ]
  },
  {
   "attachments": {},
   "cell_type": "markdown",
   "metadata": {},
   "source": [
    "Trajectory Plots"
   ]
  },
  {
   "cell_type": "code",
   "execution_count": null,
   "metadata": {},
   "outputs": [],
   "source": [
    "fgo_traj = go.Scatter(x=graph_positions_plot[:,0], y=graph_positions_plot[:,1], name='FGO')\n",
    "gt_traj = go.Scatter(x=gt_enu_plot[:,0], y=gt_enu_plot[:,1], name='Ground-truth', line=dict(color='black'))\n",
    "spoof_traj = go.Scatter(x=spoofed_positions_plot[:,0], y=spoofed_positions_plot[:,1], name='Spoofed', line=dict(color='red', dash='dash')) \n",
    "start = go.Scatter(x=[0], y=[0], name='Start', mode='markers', marker=dict(size=10, color='blue'), showlegend=False)\n",
    "fig = go.Figure(data=[fgo_traj, gt_traj, spoof_traj, start])\n",
    "fig.update_layout(width=700, height=700, xaxis_title='East [m]', yaxis_title='North [m]')\n",
    "# Move legend into plot\n",
    "fig.update_layout(legend=dict(x=0.05, y=0.98), font=dict(size=18))\n",
    "fig.update_yaxes(\n",
    "    scaleanchor = \"x\",\n",
    "    scaleratio = 1,\n",
    "  )\n",
    "fig.update_xaxes(autorange=True)\n",
    "fig.show()"
   ]
  },
  {
   "cell_type": "code",
   "execution_count": null,
   "metadata": {},
   "outputs": [],
   "source": [
    "T = 150\n",
    "\n",
    "# Plot test statistic and threshold\n",
    "fig = go.Figure()\n",
    "fig.add_trace(go.Scatter(x=np.arange(len(qs_plot)), y=qs_plot, name='Test statistic'))\n",
    "fig.add_trace(go.Scatter(x=np.arange(len(qs_plot)), y=T*np.ones(len(qs_plot)), name='Threshold', line=dict(color='red', dash='dash')))\n",
    "# Add vertical line at start of spoofing attack\n",
    "#fig.add_shape(type=\"line\", x0=ATTACK_START/GPS_RATE, y0=-20, x1=ATTACK_START/GPS_RATE, y1=200, line=dict(color=\"black\", width=2, dash=\"dash\"))\n",
    "fig.update_layout(width=900, height=500, xaxis_title='Time [s]', yaxis_title='Test statistic')\n",
    "#fig.update_layout(legend=dict(x=0.75, y=0.98), font=dict(size=18))\n",
    "fig.show()"
   ]
  },
  {
   "attachments": {},
   "cell_type": "markdown",
   "metadata": {},
   "source": [
    "Error Plots"
   ]
  },
  {
   "attachments": {},
   "cell_type": "markdown",
   "metadata": {},
   "source": [
    "Error values"
   ]
  },
  {
   "cell_type": "code",
   "execution_count": null,
   "metadata": {},
   "outputs": [],
   "source": []
  }
 ],
 "metadata": {
  "kernelspec": {
   "display_name": "chimera",
   "language": "python",
   "name": "python3"
  },
  "language_info": {
   "codemirror_mode": {
    "name": "ipython",
    "version": 3
   },
   "file_extension": ".py",
   "mimetype": "text/x-python",
   "name": "python",
   "nbconvert_exporter": "python",
   "pygments_lexer": "ipython3",
   "version": "3.9.16"
  },
  "orig_nbformat": 4,
  "vscode": {
   "interpreter": {
    "hash": "a5edd088d6b144d42777d3bfeb942dbfa3bc6a1fda937eadc36b79f380c5a6b9"
   }
  }
 },
 "nbformat": 4,
 "nbformat_minor": 2
}
