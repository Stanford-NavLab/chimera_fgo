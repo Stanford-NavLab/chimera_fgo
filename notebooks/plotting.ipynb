{
 "cells": [
  {
   "cell_type": "code",
   "execution_count": null,
   "metadata": {},
   "outputs": [],
   "source": [
    "import numpy as np\n",
    "import os\n",
    "import plotly.graph_objects as go\n",
    "\n",
    "from chimera_fgo.util.kitti import process_kitti_gt, load_icp_results\n",
    "from chimera_fgo.util.plot import plot_trajectories\n",
    "\n",
    "%load_ext autoreload\n",
    "%autoreload 2"
   ]
  },
  {
   "cell_type": "code",
   "execution_count": null,
   "metadata": {},
   "outputs": [],
   "source": [
    "kitti_seq = '0028'\n",
    "MAX_BIAS = 1\n",
    "start_idx = 1550 if kitti_seq == '0028' else 0"
   ]
  },
  {
   "cell_type": "code",
   "execution_count": null,
   "metadata": {},
   "outputs": [],
   "source": [
    "# Load ground truth\n",
    "gtpath = os.path.join(os.getcwd(), '..', 'data', 'kitti', kitti_seq, 'oxts', 'data')\n",
    "gt_enu, gt_Rs, gt_attitudes = process_kitti_gt(gtpath, start_idx=start_idx)"
   ]
  },
  {
   "attachments": {},
   "cell_type": "markdown",
   "metadata": {},
   "source": [
    "Plot spoofed trajectories"
   ]
  },
  {
   "cell_type": "code",
   "execution_count": null,
   "metadata": {},
   "outputs": [],
   "source": [
    "TRAJLEN = 1900\n",
    "gps_spoofing_biases = np.zeros(TRAJLEN)  \n",
    "attack_start_idx = 1000\n",
    "gps_spoofing_biases[attack_start_idx:] = MAX_BIAS * np.linspace(0, 1, TRAJLEN-attack_start_idx)  # Ramping attack\n",
    "\n",
    "spoof_pos_1 = gt_enu[:TRAJLEN].copy()\n",
    "spoof_pos_1[:,0] += -20 * gps_spoofing_biases\n",
    "spoof_pos_2 = gt_enu[:TRAJLEN].copy()\n",
    "spoof_pos_2[:,0] += -50 * gps_spoofing_biases\n",
    "spoof_pos_3 = gt_enu[:TRAJLEN].copy()\n",
    "spoof_pos_3[:,0] += -100 * gps_spoofing_biases\n",
    "\n",
    "gt_traj = go.Scatter(x=gt_enu[:TRAJLEN,0], y=gt_enu[:TRAJLEN,1], hovertext=np.arange(TRAJLEN), name='Ground-truth', line=dict(color='black'))\n",
    "spoof_traj_1 = go.Scatter(x=spoof_pos_1[:,0], y=spoof_pos_1[:,1], hovertext=np.arange(TRAJLEN), name='0.2 m/s spoofed', line=dict(color='red', dash='dot'))\n",
    "spoof_traj_2 = go.Scatter(x=spoof_pos_2[:,0], y=spoof_pos_2[:,1], hovertext=np.arange(TRAJLEN), name='0.5 m/s spoofed', line=dict(color='red', dash='dash'))\n",
    "spoof_traj_3 = go.Scatter(x=spoof_pos_3[:,0], y=spoof_pos_3[:,1], hovertext=np.arange(TRAJLEN), name='1.0 m/s spoofed', line=dict(color='red', dash='dashdot'))\n",
    "\n",
    "start = go.Scatter(x=[0], y=[0], name='Start', mode='markers', marker=dict(size=10, color='black'), showlegend=False)\n",
    "spoof_start = go.Scatter(x=[gt_enu[attack_start_idx,0]], y=[gt_enu[attack_start_idx,1]], \n",
    "            name='Spoofing start', mode='markers', marker=dict(size=10, color='red'), showlegend=True)\n",
    "fig = go.Figure(data=[gt_traj, spoof_traj_1, spoof_traj_2, spoof_traj_3, start, spoof_start])\n",
    "fig.update_layout(width=1000, height=1000, xaxis_title='East [m]', yaxis_title='North [m]')\n",
    "# Move legend into plot\n",
    "fig.update_layout(legend=dict(x=0.75, y=0.98), font=dict(size=18))\n",
    "fig.update_yaxes(\n",
    "    scaleanchor = \"x\",\n",
    "    scaleratio = 1,\n",
    "  )\n",
    "fig.update_xaxes(autorange=True)\n",
    "fig.show()"
   ]
  },
  {
   "attachments": {},
   "cell_type": "markdown",
   "metadata": {},
   "source": [
    "Plot Lidar odometry, blind FGO, and FGO"
   ]
  },
  {
   "cell_type": "code",
   "execution_count": null,
   "metadata": {},
   "outputs": [],
   "source": [
    "# Lidar odometry\n",
    "data_path = os.path.join(os.getcwd(), '..', 'data', 'kitti', kitti_seq, 'icp')\n",
    "lidar_Rs, lidar_ts, lidar_positions, lidar_covariances = load_icp_results(data_path, start_idx=start_idx)"
   ]
  },
  {
   "cell_type": "code",
   "execution_count": null,
   "metadata": {},
   "outputs": [],
   "source": [
    "# Load results\n",
    "run_name = 'fgo_100m_5runs_2023-01-19-0507'\n",
    "results_path = os.path.join(os.getcwd(), '..', 'results', kitti_seq, run_name)\n",
    "results_files = os.listdir(results_path)\n",
    "fgo_results = np.load(os.path.join(results_path, results_files[0]))\n",
    "fgo_positions = fgo_results['positions']\n",
    "\n",
    "run_name = 'fgo_100m_5runs_blind_2023-01-19-0528'\n",
    "results_path = os.path.join(os.getcwd(), '..', 'results', kitti_seq, run_name)\n",
    "results_files = os.listdir(results_path)\n",
    "fgo_blind_results = np.load(os.path.join(results_path, results_files[0]))\n",
    "fgo_blind_positions = fgo_blind_results['positions']\n",
    "\n",
    "spoofed_positions = fgo_results['spoofed']"
   ]
  },
  {
   "cell_type": "code",
   "execution_count": null,
   "metadata": {},
   "outputs": [],
   "source": [
    "# Plot\n",
    "ATTACK_START = 1000\n",
    "N = 1900\n",
    "fgo_traj = go.Scatter(x=fgo_positions[:,0], y=fgo_positions[:,1], name='FGO', line=dict(color='blue'))\n",
    "fgo_blind_traj = go.Scatter(x=fgo_blind_positions[:,0], y=fgo_blind_positions[:,1], name='FGO blind', line=dict(color='orange'))\n",
    "gt_traj = go.Scatter(x=gt_enu[:N,0], y=gt_enu[:N,1], name='Ground-truth', line=dict(color='black'))\n",
    "lidar_traj = go.Scatter(x=lidar_positions[:N,0], y=lidar_positions[:N,1], name='Lidar odometry', line=dict(color='green'))\n",
    "start = go.Scatter(x=[0], y=[0], name='Start', mode='markers', marker=dict(size=10, color='blue'), showlegend=False)\n",
    "plot_data = [fgo_traj, fgo_blind_traj, lidar_traj, gt_traj, start]\n",
    "\n",
    "spoof_traj = go.Scatter(x=spoofed_positions[:,0], y=spoofed_positions[:,1], \n",
    "    name='Spoofed', line=dict(color='red', dash='dash')) \n",
    "spoof_start = go.Scatter(x=[spoofed_positions[ATTACK_START,0]], y=[spoofed_positions[ATTACK_START,1]], \n",
    "    name='Spoofing start', mode='markers', marker=dict(size=10, color='red'), showlegend=False)\n",
    "plot_data += [spoof_traj, spoof_start]\n",
    "\n",
    "\n",
    "# detect = go.Scatter(x=[graph_positions[detect_idx,0]], y=[graph_positions[detect_idx,1]], \n",
    "#     name='Detection', mode='markers', hovertext=str(detect_idx), marker=dict(size=10, color='green'), showlegend=True)\n",
    "# plot_data += [detect]\n",
    "\n",
    "fig = go.Figure(data=plot_data)\n",
    "fig.update_layout(width=1000, height=1000, xaxis_title='East [m]', yaxis_title='North [m]')\n",
    "# Move legend into plot\n",
    "fig.update_layout(legend=dict(x=0.02, y=0.98), font=dict(size=18))\n",
    "fig.update_yaxes(\n",
    "    scaleanchor = \"x\",\n",
    "    scaleratio = 1,\n",
    "  )\n",
    "fig.update_xaxes(autorange=True)\n",
    "fig.show()"
   ]
  },
  {
   "attachments": {},
   "cell_type": "markdown",
   "metadata": {},
   "source": [
    "Plot test statistic"
   ]
  },
  {
   "cell_type": "code",
   "execution_count": null,
   "metadata": {},
   "outputs": [],
   "source": [
    "run_name = 'fgo_100m_5runs_blind_2023-01-19-0727'\n",
    "results_path = os.path.join(os.getcwd(), '..', 'results', kitti_seq, run_name)\n",
    "results_files = os.listdir(results_path)\n",
    "fgo_blind_results = np.load(os.path.join(results_path, results_files[0]))"
   ]
  },
  {
   "cell_type": "code",
   "execution_count": null,
   "metadata": {},
   "outputs": [],
   "source": [
    "#qs_plot = fgo_results['qs']\n",
    "qs_plot = fgo_blind_results['qs']\n",
    "T = fgo_results['threshold']\n",
    "GPS_RATE = 10\n",
    "detect_idx = np.argmax(qs_plot > T)\n",
    "\n",
    "# Plot test statistic and threshold\n",
    "fig = go.Figure()\n",
    "fig.add_trace(go.Scatter(x=np.arange(len(qs_plot)), y=qs_plot, name='Test statistic'))\n",
    "fig.add_trace(go.Scatter(x=np.arange(len(qs_plot)), y=T*np.ones(len(qs_plot)), name='Threshold', line=dict(color='black', dash='dash')))\n",
    "# Add vertical line at start of spoofing attack\n",
    "fig.add_trace(go.Scatter(x=[100, 100], y=[min(qs_plot), max(qs_plot)], mode='lines', name='Start of attack', line=dict(color='red', dash='dash')))\n",
    "# fig.add_shape(type=\"line\", x0=ATTACK_START/GPS_RATE, y0=-20, x1=ATTACK_START/GPS_RATE, y1=200, name='Start of attack', \n",
    "#               line=dict(color=\"red\", width=2, dash=\"dash\"), showlegend=True)\n",
    "fig.add_trace(go.Scatter(x=[detect_idx], y=[qs_plot[detect_idx]], name='Detection', mode='markers', marker=dict(size=10, color='red'), showlegend=True))\n",
    "fig.update_layout(width=900, height=500, xaxis_title='Time [s]', yaxis_title='Test statistic')\n",
    "fig.update_layout(legend=dict(x=0.05, y=0.98), font=dict(size=18))\n",
    "fig.show()"
   ]
  },
  {
   "attachments": {},
   "cell_type": "markdown",
   "metadata": {},
   "source": [
    "Plot error over time"
   ]
  },
  {
   "cell_type": "code",
   "execution_count": null,
   "metadata": {},
   "outputs": [],
   "source": [
    "kitti_seq = '0027'\n",
    "fgo_run = 'fgo_100m_5runs_2023-01-19-0313'\n",
    "fgo_blind_run = 'fgo_100m_5runs_blind_2023-01-19-0331'"
   ]
  },
  {
   "cell_type": "code",
   "execution_count": null,
   "metadata": {},
   "outputs": [],
   "source": [
    "fgo_results_path = os.path.join(os.getcwd(), '..', 'results', kitti_seq, fgo_run)\n",
    "fgo_results_files = os.listdir(fgo_results_path)\n",
    "\n",
    "fgo_blind_results_path = os.path.join(os.getcwd(), '..', 'results', kitti_seq, fgo_blind_run)\n",
    "fgo_blind_results_files = os.listdir(fgo_blind_results_path)\n",
    "\n",
    "start_idx = 1550 if kitti_seq == '0028' else 0\n",
    "gtpath = os.path.join(os.getcwd(), '..', 'data', 'kitti', kitti_seq, 'oxts', 'data')\n",
    "gt_enu, gt_Rs, gt_attitudes = process_kitti_gt(gtpath, start_idx=start_idx)\n",
    "data_path = os.path.join(os.getcwd(), '..', 'data', 'kitti', kitti_seq, 'icp')\n",
    "lidar_Rs, lidar_ts, lidar_positions, lidar_covariances = load_icp_results(data_path, start_idx=start_idx)\n",
    "\n",
    "n_runs = len(fgo_blind_results_files)\n",
    "fgo_blind_err_avg = np.zeros(1900)\n",
    "fgo_err_avg = np.zeros(1900)\n",
    "\n",
    "for i in range(n_runs):\n",
    "    fgo_results = np.load(os.path.join(fgo_results_path, fgo_results_files[i]))\n",
    "    fgo_blind_results = np.load(os.path.join(fgo_blind_results_path, fgo_blind_results_files[i]))\n",
    "    fgo_positions = fgo_results['positions']\n",
    "    fgo_blind_positions = fgo_blind_results['positions']\n",
    "    \n",
    "    fgo_blind_err_avg += np.linalg.norm(fgo_blind_positions - gt_enu[:N], axis=1)\n",
    "    fgo_err_avg += np.linalg.norm(fgo_positions - gt_enu[:N], axis=1)\n",
    "\n",
    "\n",
    "lidar_err = np.linalg.norm(lidar_positions[:N] - gt_enu[:N], axis=1)\n",
    "fgo_blind_err_avg /= n_runs\n",
    "fgo_err_avg /= n_runs\n",
    "\n",
    "fig = go.Figure()\n",
    "fig.add_trace(go.Scatter(x=np.arange(len(lidar_err)), y=lidar_err, name='Lidar odometry'))\n",
    "fig.add_trace(go.Scatter(x=np.arange(len(fgo_blind_err_avg)), y=fgo_blind_err_avg, name='FGO blind'))\n",
    "fig.add_trace(go.Scatter(x=np.arange(len(fgo_err_avg)), y=fgo_err_avg, name='FGO'))\n",
    "fig.update_layout(width=900, height=500, xaxis_title='Time [s]', yaxis_title='L2 norm error [m]')\n",
    "fig.update_layout(legend=dict(x=0.05, y=0.98), font=dict(size=18), title=f'{kitti_seq} - 100m - 5 runs')"
   ]
  },
  {
   "attachments": {},
   "cell_type": "markdown",
   "metadata": {},
   "source": [
    "Monte carlo trajectory plots"
   ]
  },
  {
   "cell_type": "code",
   "execution_count": null,
   "metadata": {},
   "outputs": [],
   "source": [
    "kitti_seq = '0028'\n",
    "run_name = 'fgo_100m_5runs_2023-01-19-0507'"
   ]
  },
  {
   "cell_type": "code",
   "execution_count": null,
   "metadata": {},
   "outputs": [],
   "source": [
    "results_path = os.path.join(os.getcwd(), '..', 'results', kitti_seq, run_name)\n",
    "results_files = os.listdir(results_path)\n",
    "\n",
    "start_idx = 1550 if kitti_seq == '0028' else 0\n",
    "gtpath = os.path.join(os.getcwd(), '..', 'data', 'kitti', kitti_seq, 'oxts', 'data')\n",
    "gt_enu, gt_Rs, gt_attitudes = process_kitti_gt(gtpath, start_idx=start_idx)\n",
    "\n",
    "N_SHIFT = 10\n",
    "\n",
    "for fname in results_files:\n",
    "    results = np.load(os.path.join(results_path, fname))\n",
    "    graph_positions = results['positions']\n",
    "    gt_enu = gt_enu[:graph_positions.shape[0]]\n",
    "    if MAX_BIAS != 0:\n",
    "        spoofed_positions = results['spoofed']\n",
    "    else: \n",
    "        spoofed_positions = None\n",
    "\n",
    "    qs = results['qs']\n",
    "    threshold = results['threshold']\n",
    "    if any(qs > threshold):\n",
    "        detect_idx = N_SHIFT * np.argmax(qs > threshold)\n",
    "    else:\n",
    "        detect_idx = None\n",
    "\n",
    "    plot_trajectories(gt_enu, graph_positions, spoofed_positions, detect_idx)"
   ]
  },
  {
   "attachments": {},
   "cell_type": "markdown",
   "metadata": {},
   "source": [
    "Monte carlo errors"
   ]
  },
  {
   "cell_type": "code",
   "execution_count": null,
   "metadata": {},
   "outputs": [],
   "source": [
    "from plotly.subplots import make_subplots\n",
    "\n",
    "def plot_errors(fig, gt_enu, graph_positions):\n",
    "    traj_len = len(gt_enu)\n",
    "    \n",
    "    fig.add_trace(go.Scatter(x=np.arange(traj_len), y=graph_positions[:,0] - gt_enu[:,0], name='x error'), row=1, col=1)\n",
    "    fig.add_trace(go.Scatter(x=np.arange(traj_len), y=graph_positions[:,1] - gt_enu[:,1], name='y error'), row=2, col=1)\n",
    "    fig.add_trace(go.Scatter(x=np.arange(traj_len), y=graph_positions[:,2] - gt_enu[:,2], name='z error'), row=3, col=1)"
   ]
  },
  {
   "cell_type": "code",
   "execution_count": null,
   "metadata": {},
   "outputs": [],
   "source": [
    "# Error envelope\n",
    "fig = make_subplots(rows=3, cols=1, shared_xaxes=True, vertical_spacing=0.05)\n",
    "\n",
    "for fname in results_files:\n",
    "    results = np.load(os.path.join(results_path, fname))\n",
    "    graph_positions = results['positions']\n",
    "    gt_enu = gt_enu[:graph_positions.shape[0]]\n",
    "    plot_errors(fig, gt_enu, graph_positions)\n",
    "\n",
    "fig.update_layout(width=1200, height=700)\n",
    "fig.update_layout(font=dict(size=15))\n",
    "fig.show()"
   ]
  },
  {
   "attachments": {},
   "cell_type": "markdown",
   "metadata": {},
   "source": [
    "Error statistics"
   ]
  },
  {
   "cell_type": "code",
   "execution_count": null,
   "metadata": {},
   "outputs": [],
   "source": [
    "np.set_printoptions(suppress=True, precision=3)"
   ]
  },
  {
   "cell_type": "code",
   "execution_count": null,
   "metadata": {},
   "outputs": [],
   "source": [
    "# Nominal\n",
    "\n",
    "false_alarms = 0\n",
    "total_trials = 0\n",
    "trajectory_false_alarms = 0\n",
    "\n",
    "ss_start = 0  # Start of steady state\n",
    "xyz_errors = []\n",
    "\n",
    "for fname in results_files:\n",
    "    results = np.load(os.path.join(results_path, fname))\n",
    "\n",
    "    graph_positions = results['positions']\n",
    "    gt_enu = gt_enu[:graph_positions.shape[0]]\n",
    "\n",
    "    xyz_errors.append(gt_enu[ss_start:] - graph_positions[ss_start:])\n",
    "\n",
    "    # False alarm\n",
    "    qs = results['qs']\n",
    "    threshold = results['threshold']\n",
    "    false_alarms += np.sum(qs > threshold)\n",
    "    total_trials += len(qs)\n",
    "    if any(qs > threshold):\n",
    "        trajectory_false_alarms += 1\n",
    "\n",
    "\n",
    "print(f'Per trial false alarm rate: {false_alarms} of {total_trials}')\n",
    "print(f'Per trajectory false alarm rate: {trajectory_false_alarms} of {len(results_files)}')"
   ]
  },
  {
   "cell_type": "code",
   "execution_count": null,
   "metadata": {},
   "outputs": [],
   "source": [
    "xyz_errors = np.vstack(xyz_errors)"
   ]
  },
  {
   "cell_type": "code",
   "execution_count": null,
   "metadata": {},
   "outputs": [],
   "source": [
    "print(\"mean: \", np.mean(xyz_errors, axis=0))\n",
    "print(\"std: \", np.std(xyz_errors, axis=0))"
   ]
  },
  {
   "cell_type": "code",
   "execution_count": null,
   "metadata": {},
   "outputs": [],
   "source": []
  }
 ],
 "metadata": {
  "kernelspec": {
   "display_name": "chimera",
   "language": "python",
   "name": "python3"
  },
  "language_info": {
   "codemirror_mode": {
    "name": "ipython",
    "version": 3
   },
   "file_extension": ".py",
   "mimetype": "text/x-python",
   "name": "python",
   "nbconvert_exporter": "python",
   "pygments_lexer": "ipython3",
   "version": "3.9.16"
  },
  "orig_nbformat": 4,
  "vscode": {
   "interpreter": {
    "hash": "a5edd088d6b144d42777d3bfeb942dbfa3bc6a1fda937eadc36b79f380c5a6b9"
   }
  }
 },
 "nbformat": 4,
 "nbformat_minor": 2
}
