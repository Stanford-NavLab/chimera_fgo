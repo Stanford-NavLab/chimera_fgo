{
 "cells": [
  {
   "cell_type": "code",
   "execution_count": null,
   "metadata": {},
   "outputs": [],
   "source": [
    "import numpy as np\n",
    "import os\n",
    "import plotly.graph_objects as go\n",
    "\n",
    "from chimera_fgo.util.kitti import process_kitti_gt, load_icp_results\n",
    "from chimera_fgo.util.plot import plot_trajectories, plot_trajectories_3D, plot_MC\n",
    "\n",
    "%load_ext autoreload\n",
    "%autoreload 2"
   ]
  },
  {
   "cell_type": "code",
   "execution_count": null,
   "metadata": {},
   "outputs": [],
   "source": [
    "kitti_seq = '0027'\n",
    "MAX_BIAS = 1\n",
    "start_idx = 1550 if kitti_seq == '0028' else 0"
   ]
  },
  {
   "cell_type": "code",
   "execution_count": null,
   "metadata": {},
   "outputs": [],
   "source": [
    "# Load ground truth\n",
    "gtpath = os.path.join(os.getcwd(), '..', 'data', 'kitti', kitti_seq, 'oxts', 'data')\n",
    "gt_enu, gt_Rs, gt_attitudes = process_kitti_gt(gtpath, start_idx=start_idx)"
   ]
  },
  {
   "attachments": {},
   "cell_type": "markdown",
   "metadata": {},
   "source": [
    "### Plot Lidar odometry, blind FGO, and FGO"
   ]
  },
  {
   "cell_type": "code",
   "execution_count": null,
   "metadata": {},
   "outputs": [],
   "source": [
    "kitti_seq = '0027'\n",
    "run_name = 'fgo_200m_20runs_100w'"
   ]
  },
  {
   "cell_type": "code",
   "execution_count": null,
   "metadata": {},
   "outputs": [],
   "source": [
    "start_idx = 1550 if kitti_seq == '0028' else 0\n",
    "gtpath = os.path.join(os.getcwd(), '..', 'data', 'kitti', kitti_seq, 'oxts', 'data')\n",
    "gt_enu, gt_Rs, gt_attitudes = process_kitti_gt(gtpath, start_idx=start_idx)\n",
    "\n",
    "data_path = os.path.join(os.getcwd(), '..', 'data', 'kitti', kitti_seq, 'icp')\n",
    "lidar_Rs, lidar_ts, lidar_positions, lidar_covariances = load_icp_results(data_path, start_idx=start_idx)\n",
    "\n",
    "# Plot ground truth and lidar in 3D\n",
    "fig = plot_trajectories_3D(gt_enu[1600:3600], lidar_positions=lidar_positions[1600:3600])\n",
    "fig.show()"
   ]
  },
  {
   "cell_type": "code",
   "execution_count": null,
   "metadata": {},
   "outputs": [],
   "source": [
    "fig.write_html('0027_full_3D.html')"
   ]
  },
  {
   "cell_type": "code",
   "execution_count": null,
   "metadata": {},
   "outputs": [],
   "source": [
    "#results_path = os.path.join(os.getcwd(), '..', 'results', kitti_seq, 'old', run_name)\n",
    "results_path = os.path.join(os.getcwd(), '..', 'results', kitti_seq, '2023-01-27', run_name)\n",
    "results_files = os.listdir(results_path)\n",
    "\n",
    "start_idx = 1550 if kitti_seq == '0028' else 0\n",
    "gtpath = os.path.join(os.getcwd(), '..', 'data', 'kitti', kitti_seq, 'oxts', 'data')\n",
    "gt_enu, gt_Rs, gt_attitudes = process_kitti_gt(gtpath, start_idx=start_idx)\n",
    "\n",
    "data_path = os.path.join(os.getcwd(), '..', 'data', 'kitti', kitti_seq, 'icp')\n",
    "lidar_Rs, lidar_ts, lidar_positions, lidar_covariances = load_icp_results(data_path, start_idx=start_idx)\n",
    "\n",
    "N_SHIFT = 10\n",
    "\n",
    "results = np.load(os.path.join(results_path, results_files[0]))\n",
    "graph_positions = results['fgo_positions']\n",
    "gt_enu = gt_enu[:graph_positions.shape[0]]\n",
    "spoofed_positions = results['spoofed_positions']\n",
    "\n",
    "qs = results['qs']\n",
    "threshold = results['threshold']\n",
    "if any(qs > threshold):\n",
    "    detect_idx = N_SHIFT * np.argmax(qs > threshold)\n",
    "else:\n",
    "    detect_idx = None\n",
    "\n",
    "fig = plot_trajectories_3D(gt_enu, graph_positions, lidar_positions[:graph_positions.shape[0]], spoofed_positions, detect_idx)\n",
    "# fig.update_layout(width=1000, height=1000, xaxis_title='East [m]', yaxis_title='North [m]')\n",
    "# fig.update_layout(legend=dict(x=0.75, y=0.98), font=dict(size=24))\n",
    "fig.show()"
   ]
  },
  {
   "cell_type": "code",
   "execution_count": null,
   "metadata": {},
   "outputs": [],
   "source": [
    "fig.write_html('0028_3D.html')"
   ]
  },
  {
   "attachments": {},
   "cell_type": "markdown",
   "metadata": {},
   "source": [
    "### Monte carlo trajectory plots"
   ]
  },
  {
   "cell_type": "code",
   "execution_count": null,
   "metadata": {},
   "outputs": [],
   "source": [
    "kitti_seq = '0018'\n",
    "run_name = 'fgo_0m_15runs_100w'"
   ]
  },
  {
   "cell_type": "code",
   "execution_count": null,
   "metadata": {},
   "outputs": [],
   "source": [
    "#results_path = os.path.join(os.getcwd(), '..', 'results', kitti_seq, 'old', run_name)\n",
    "results_path = os.path.join(os.getcwd(), '..', 'results', kitti_seq, '2023-02-01', run_name)\n",
    "results_files = os.listdir(results_path)\n",
    "\n",
    "start_idx = 1550 if kitti_seq == '0028' else 0\n",
    "gtpath = os.path.join(os.getcwd(), '..', 'data', 'kitti', kitti_seq, 'oxts', 'data')\n",
    "gt_enu, gt_Rs, gt_attitudes = process_kitti_gt(gtpath, start_idx=start_idx)\n",
    "\n",
    "data_path = os.path.join(os.getcwd(), '..', 'data', 'kitti', kitti_seq, 'icp')\n",
    "lidar_Rs, lidar_ts, lidar_positions, lidar_covariances = load_icp_results(data_path, start_idx=start_idx)\n",
    "\n",
    "N_SHIFT = 10\n",
    "\n",
    "for fname in results_files:\n",
    "    results = np.load(os.path.join(results_path, fname))\n",
    "    graph_positions = results['fgo_positions']\n",
    "    gt_enu = gt_enu[:graph_positions.shape[0]]\n",
    "    spoofed_positions = results['spoofed_positions']\n",
    "\n",
    "    qs = results['qs']\n",
    "    threshold = results['threshold']\n",
    "    if any(qs > threshold):\n",
    "        detect_idx = N_SHIFT * np.argmax(qs > threshold)\n",
    "    else:\n",
    "        detect_idx = None\n",
    "\n",
    "    fig = plot_trajectories(gt_enu, graph_positions, lidar_positions[:graph_positions.shape[0]], spoofed_positions, detect_idx)\n",
    "    fig.show()"
   ]
  },
  {
   "cell_type": "code",
   "execution_count": null,
   "metadata": {},
   "outputs": [],
   "source": [
    "fig.write_html('test.html')"
   ]
  },
  {
   "attachments": {},
   "cell_type": "markdown",
   "metadata": {},
   "source": [
    "Monte carlo errors"
   ]
  },
  {
   "cell_type": "code",
   "execution_count": null,
   "metadata": {},
   "outputs": [],
   "source": [
    "from plotly.subplots import make_subplots\n",
    "\n",
    "def plot_errors(fig, gt_enu, graph_positions):\n",
    "    traj_len = len(gt_enu)\n",
    "    \n",
    "    fig.add_trace(go.Scatter(x=np.arange(traj_len), y=graph_positions[:,0] - gt_enu[:,0], name='x error'), row=1, col=1)\n",
    "    fig.add_trace(go.Scatter(x=np.arange(traj_len), y=graph_positions[:,1] - gt_enu[:,1], name='y error'), row=2, col=1)\n",
    "    fig.add_trace(go.Scatter(x=np.arange(traj_len), y=graph_positions[:,2] - gt_enu[:,2], name='z error'), row=3, col=1)"
   ]
  },
  {
   "cell_type": "code",
   "execution_count": null,
   "metadata": {},
   "outputs": [],
   "source": [
    "# Error envelope\n",
    "fig = make_subplots(rows=3, cols=1, shared_xaxes=True, vertical_spacing=0.05)\n",
    "\n",
    "for fname in results_files:\n",
    "    results = np.load(os.path.join(results_path, fname))\n",
    "    graph_positions = results['positions']\n",
    "    gt_enu = gt_enu[:graph_positions.shape[0]]\n",
    "    plot_errors(fig, gt_enu, graph_positions)\n",
    "\n",
    "fig.update_layout(width=1200, height=700)\n",
    "fig.update_layout(font=dict(size=15))\n",
    "fig.show()"
   ]
  },
  {
   "attachments": {},
   "cell_type": "markdown",
   "metadata": {},
   "source": [
    "Error statistics"
   ]
  },
  {
   "cell_type": "code",
   "execution_count": null,
   "metadata": {},
   "outputs": [],
   "source": [
    "np.set_printoptions(suppress=True, precision=3)"
   ]
  },
  {
   "cell_type": "code",
   "execution_count": null,
   "metadata": {},
   "outputs": [],
   "source": [
    "# Nominal\n",
    "\n",
    "false_alarms = 0\n",
    "total_trials = 0\n",
    "trajectory_false_alarms = 0\n",
    "\n",
    "ss_start = 0  # Start of steady state\n",
    "xyz_errors = []\n",
    "\n",
    "for fname in results_files:\n",
    "    results = np.load(os.path.join(results_path, fname))\n",
    "\n",
    "    graph_positions = results['positions']\n",
    "    gt_enu = gt_enu[:graph_positions.shape[0]]\n",
    "\n",
    "    xyz_errors.append(gt_enu[ss_start:] - graph_positions[ss_start:])\n",
    "\n",
    "    # False alarm\n",
    "    qs = results['qs']\n",
    "    threshold = results['threshold']\n",
    "    false_alarms += np.sum(qs > threshold)\n",
    "    total_trials += len(qs)\n",
    "    if any(qs > threshold):\n",
    "        trajectory_false_alarms += 1\n",
    "\n",
    "\n",
    "print(f'Per trial false alarm rate: {false_alarms} of {total_trials}')\n",
    "print(f'Per trajectory false alarm rate: {trajectory_false_alarms} of {len(results_files)}')"
   ]
  },
  {
   "cell_type": "code",
   "execution_count": null,
   "metadata": {},
   "outputs": [],
   "source": [
    "xyz_errors = np.vstack(xyz_errors)"
   ]
  },
  {
   "cell_type": "code",
   "execution_count": null,
   "metadata": {},
   "outputs": [],
   "source": [
    "print(\"mean: \", np.mean(xyz_errors, axis=0))\n",
    "print(\"std: \", np.std(xyz_errors, axis=0))"
   ]
  },
  {
   "cell_type": "code",
   "execution_count": null,
   "metadata": {},
   "outputs": [],
   "source": []
  }
 ],
 "metadata": {
  "kernelspec": {
   "display_name": "chimera",
   "language": "python",
   "name": "python3"
  },
  "language_info": {
   "codemirror_mode": {
    "name": "ipython",
    "version": 3
   },
   "file_extension": ".py",
   "mimetype": "text/x-python",
   "name": "python",
   "nbconvert_exporter": "python",
   "pygments_lexer": "ipython3",
   "version": "3.9.16 (main, Jan 11 2023, 16:05:54) \n[GCC 11.2.0]"
  },
  "orig_nbformat": 4,
  "vscode": {
   "interpreter": {
    "hash": "a5edd088d6b144d42777d3bfeb942dbfa3bc6a1fda937eadc36b79f380c5a6b9"
   }
  }
 },
 "nbformat": 4,
 "nbformat_minor": 2
}
