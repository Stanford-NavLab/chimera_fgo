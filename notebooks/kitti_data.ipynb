{
 "cells": [
  {
   "cell_type": "code",
   "execution_count": null,
   "metadata": {},
   "outputs": [],
   "source": [
    "import numpy as np\n",
    "import struct \n",
    "import os\n",
    "import plotly.graph_objects as go\n",
    "import time\n",
    "from scipy.spatial.transform import Rotation as R\n",
    "\n",
    "import chimera_fgo.util.general as general\n",
    "from chimera_fgo.util.io import read_lidar_bin, read_gt\n",
    "from chimera_fgo.util.kitti import process_kitti_gt, load_icp_results\n",
    "\n",
    "%load_ext autoreload\n",
    "%autoreload 2"
   ]
  },
  {
   "cell_type": "code",
   "execution_count": null,
   "metadata": {},
   "outputs": [],
   "source": [
    "kitti_seq = '0034'\n",
    "start_idx = 0\n",
    "\n",
    "gtpath = os.path.join(os.getcwd(), '..', 'data', 'kitti', kitti_seq, 'oxts', 'data')\n",
    "gt_enu, gt_Rs, gt_attitudes = process_kitti_gt(gtpath, start_idx=start_idx)\n",
    "\n",
    "data_path = os.path.join(os.getcwd(), '..', 'data', 'kitti', kitti_seq, 'icp')\n",
    "lidar_Rs, lidar_ts, positions, lidar_covariances = load_icp_results(data_path, start_idx=start_idx)"
   ]
  },
  {
   "attachments": {},
   "cell_type": "markdown",
   "metadata": {},
   "source": [
    "Evaluate lidar odometry covariance using ground-truth"
   ]
  },
  {
   "cell_type": "code",
   "execution_count": null,
   "metadata": {},
   "outputs": [],
   "source": [
    "N_POSES = len(gt_enu)\n",
    "\n",
    "# Ground-truth odometry\n",
    "# odom[i] transforms i to i+1\n",
    "gt_odom = [None] * (N_POSES - 1)\n",
    "for i in range(N_POSES - 1):\n",
    "    R = gt_Rs[i+1] @ gt_Rs[i].T\n",
    "    t = gt_enu[i+1] - R @ gt_enu[i]\n",
    "    gt_odom[i] = (R, t)"
   ]
  },
  {
   "cell_type": "code",
   "execution_count": null,
   "metadata": {},
   "outputs": [],
   "source": [
    "import symforce.symbolic as sf\n",
    "\n",
    "def transform_error(R1, t1, R2, t2):\n",
    "    T1 = sf.Pose3(R = sf.Rot3.from_rotation_matrix(R1), t = sf.V3(t1))\n",
    "    T2 = sf.Pose3(R = sf.Rot3.from_rotation_matrix(R2), t = sf.V3(t2))\n",
    "    \n",
    "    return T1.local_coordinates(T2, epsilon=sf.numeric_epsilon)"
   ]
  },
  {
   "cell_type": "code",
   "execution_count": null,
   "metadata": {},
   "outputs": [],
   "source": []
  },
  {
   "cell_type": "code",
   "execution_count": null,
   "metadata": {},
   "outputs": [],
   "source": [
    "lidar_poses = [None] * N_POSES\n",
    "R_abs = gt_Rs[0].copy()\n",
    "t_abs = gt_enu[0].copy()\n",
    "lidar_poses[0] = (R_abs.copy(), t_abs.copy())\n",
    "for i in range(1, N_POSES):\n",
    "    R_abs = lidar_Rs[i-1] @ R_abs\n",
    "    t_abs += R_abs @ lidar_ts[i-1]\n",
    "    lidar_poses[i] = (R_abs.copy(), t_abs.copy())"
   ]
  },
  {
   "cell_type": "code",
   "execution_count": null,
   "metadata": {},
   "outputs": [],
   "source": [
    "# Check ground truth odometry\n",
    "gt_R_abs = gt_Rs[0].copy()\n",
    "gt_t_abs = gt_enu[0].copy()\n",
    "gt_poses_check = [None] * N_POSES\n",
    "gt_poses_check[0] = (gt_R_abs.copy(), gt_t_abs.copy())\n",
    "for i in range(1, N_POSES):\n",
    "    gt_R_abs = gt_odom[i-1][0] @ gt_R_abs\n",
    "    gt_t_abs += gt_R_abs @ gt_odom[i-1][1]\n",
    "    gt_poses_check[i] = (gt_R_abs.copy(), gt_t_abs.copy())"
   ]
  },
  {
   "cell_type": "code",
   "execution_count": null,
   "metadata": {},
   "outputs": [],
   "source": [
    "gt_positions = np.array([gt_poses_check[i][1] for i in range(N_POSES)])"
   ]
  },
  {
   "cell_type": "code",
   "execution_count": null,
   "metadata": {},
   "outputs": [],
   "source": [
    "gt_positions - gt_enu"
   ]
  },
  {
   "cell_type": "code",
   "execution_count": null,
   "metadata": {},
   "outputs": [],
   "source": [
    "for i in range(N_POSES - 1):\n",
    "    R_l2g = gt_Rs[i+1] @ lidar_poses[i+1][0].T\n",
    "    print(gt_odom[i][1] - R_l2g @ lidar_ts[i])"
   ]
  },
  {
   "cell_type": "code",
   "execution_count": null,
   "metadata": {},
   "outputs": [],
   "source": [
    "errors = np.zeros((N_POSES - 1, 6))\n",
    "\n",
    "for i in range(N_POSES - 1):\n",
    "    err = transform_error(gt_odom[i][0], gt_odom[i][1], lidar_Rs[i], lidar_ts[i])\n",
    "    errors[i] = np.array(err)"
   ]
  },
  {
   "cell_type": "code",
   "execution_count": null,
   "metadata": {},
   "outputs": [],
   "source": [
    "errors"
   ]
  },
  {
   "cell_type": "code",
   "execution_count": null,
   "metadata": {},
   "outputs": [],
   "source": [
    "np.std(errors, axis=0)"
   ]
  },
  {
   "cell_type": "code",
   "execution_count": null,
   "metadata": {},
   "outputs": [],
   "source": [
    "np.std(np.eye(3), axis=1)"
   ]
  },
  {
   "attachments": {},
   "cell_type": "markdown",
   "metadata": {},
   "source": [
    "Compare attitudes to velocities"
   ]
  },
  {
   "cell_type": "code",
   "execution_count": null,
   "metadata": {},
   "outputs": [],
   "source": [
    "thetas = gt_attitudes[:,2]\n",
    "thetas"
   ]
  },
  {
   "cell_type": "code",
   "execution_count": null,
   "metadata": {},
   "outputs": [],
   "source": [
    "import plotly.figure_factory as ff\n",
    "\n",
    "N = 100\n",
    "d = 2\n",
    "\n",
    "fig = ff.create_quiver(x=gt_enu[0:N:d,0], y=gt_enu[0:N:d,1], u=np.cos(thetas[0:N:d]), v=np.sin(thetas[0:N:d]), scale=5.0)\n",
    "gt_traj = go.Scatter(x=gt_enu[0:N:d,0], y=gt_enu[0:N:d,1], hovertext=np.arange(N), name='Ground-truth')\n",
    "fig.add_trace(gt_traj)\n",
    "fig.update_layout(width=900, height=700, scene=dict(aspectmode='data'))\n",
    "fig.show()"
   ]
  },
  {
   "cell_type": "code",
   "execution_count": null,
   "metadata": {},
   "outputs": [],
   "source": [
    "def trajectory_plot_trace(Rs, ts, color=\"red\", scale=1.0):\n",
    "    \"\"\"Generate plotly plot trace for a 3D trajectory of poses\n",
    "\n",
    "    Parameters\n",
    "    ----------\n",
    "    Rs : np.array (3 x 3 x N)\n",
    "        Sequence of orientations\n",
    "    ts : np.array (N x 3)\n",
    "        Sequence of positions\n",
    "    \n",
    "    Returns\n",
    "    -------\n",
    "    list\n",
    "        List containing traces for plotting 3D trajectory\n",
    "    \n",
    "    \"\"\"\n",
    "    points = go.Scatter3d(x=[ts[:,0]], y=[ts[:,1]], z=[ts[:,2]], showlegend=False)#, mode='markers', marker=dict(size=5))\n",
    "    xs = []; ys = []; zs = []\n",
    "    for i in range(len(ts)):\n",
    "        for j in range(3):\n",
    "            xs += [ts[i,0], ts[i,0] + scale * Rs[0,j,i], None]\n",
    "            ys += [ts[i,1], ts[i,1] + scale * Rs[1,j,i], None]\n",
    "            zs += [ts[i,2], ts[i,2] + scale * Rs[2,j,i], None]\n",
    "    lines = go.Scatter3d(x=xs, y=ys, z=zs, mode=\"lines\", line=dict(color=color), showlegend=False)\n",
    "    return [points, lines]"
   ]
  },
  {
   "cell_type": "code",
   "execution_count": null,
   "metadata": {},
   "outputs": [],
   "source": [
    "gt_trace = trajectory_plot_trace(np.array(gt_Rs).reshape(3,3,-1), gt_enu, color=\"blue\", scale=10.0)\n",
    "fig = go.Figure(data=gt_trace)\n",
    "fig.update_layout(width=1000, height=600, scene=dict(aspectmode='data'))\n",
    "fig.show()"
   ]
  },
  {
   "cell_type": "markdown",
   "metadata": {},
   "source": [
    "Read lidar points"
   ]
  },
  {
   "cell_type": "code",
   "execution_count": null,
   "metadata": {},
   "outputs": [],
   "source": [
    "binpath = os.path.join(os.getcwd(), '..', 'data', 'kitti', kitti_seq, 'velodyne_points', 'data')\n",
    "PC_data_all = read_lidar_bin(binpath)\n",
    "PC_data = PC_data_all[start_idx:]"
   ]
  },
  {
   "cell_type": "markdown",
   "metadata": {},
   "source": [
    "Ground truth trajectory"
   ]
  },
  {
   "cell_type": "code",
   "execution_count": null,
   "metadata": {},
   "outputs": [],
   "source": [
    "gtpath = os.path.join(os.getcwd(), '..', 'data', 'kitti', kitti_seq, 'oxts', 'data')\n",
    "gt_data = read_gt(gtpath)\n",
    "gt_data = gt_data[start_idx:]\n",
    "lla = gt_data[:,:3]"
   ]
  },
  {
   "cell_type": "code",
   "execution_count": null,
   "metadata": {},
   "outputs": [],
   "source": [
    "init_heading = gt_data[0][5]\n",
    "r = R.from_euler('XYZ', [0, 0, init_heading])\n",
    "R_heading = r.as_matrix()"
   ]
  },
  {
   "cell_type": "code",
   "execution_count": null,
   "metadata": {},
   "outputs": [],
   "source": [
    "accels_local = gt_data[:,11:14]\n",
    "accels_local"
   ]
  },
  {
   "cell_type": "code",
   "execution_count": null,
   "metadata": {},
   "outputs": [],
   "source": [
    "accels_local = gt_data[:,11:14]\n",
    "accels_global = np.zeros_like(accels_local)\n",
    "for i in range(len(accels_global)):\n",
    "    heading = gt_data[i][5]\n",
    "    r = R.from_euler('XYZ', [0, 0, init_heading])\n",
    "    R_heading = r.as_matrix()\n",
    "    accels_global[i] = R_heading @ accels_local[i]\n",
    "accels_local"
   ]
  },
  {
   "cell_type": "code",
   "execution_count": null,
   "metadata": {},
   "outputs": [],
   "source": [
    "accels_global"
   ]
  },
  {
   "cell_type": "code",
   "execution_count": null,
   "metadata": {},
   "outputs": [],
   "source": [
    "accels_global = gt_data[:,14:17]"
   ]
  },
  {
   "cell_type": "code",
   "execution_count": null,
   "metadata": {},
   "outputs": [],
   "source": [
    "from lgchimera.general import lla_to_ecef, ecef2enu\n",
    "\n",
    "ref_lla = lla[0]\n",
    "ecef = lla_to_ecef(*lla[0])\n",
    "gt_enu = np.zeros((len(lla),3))\n",
    "\n",
    "\n",
    "for i in range(len(lla)):\n",
    "    ecef = lla_to_ecef(*lla[i])\n",
    "    gt_enu[i] = ecef2enu(ecef[0], ecef[1], ecef[2], ref_lla[0], ref_lla[1], ref_lla[2])\n",
    "\n",
    "gt_enu = gt_enu[:,[1,0,2]]"
   ]
  },
  {
   "cell_type": "code",
   "execution_count": null,
   "metadata": {},
   "outputs": [],
   "source": [
    "import plotly.figure_factory as ff\n",
    "\n",
    "v_en = gt_data[:,6:8]\n",
    "N = 200\n",
    "d = 2\n",
    "\n",
    "fig = ff.create_quiver(x=gt_enu[0:N:d,0], y=gt_enu[0:N:d,1], u=v_en[0:N:d,1], v=v_en[0:N:d,0], scale=1.0, )\n",
    "gt_traj = go.Scatter(x=gt_enu[0:N:d,0], y=gt_enu[0:N:d,1], hovertext=np.arange(N), name='Ground-truth')\n",
    "fig.add_trace(gt_traj)\n",
    "fig.update_layout(width=900, height=700, scene=dict(aspectmode='data'))\n",
    "fig.show()"
   ]
  },
  {
   "cell_type": "code",
   "execution_count": null,
   "metadata": {},
   "outputs": [],
   "source": [
    "import plotly.figure_factory as ff\n",
    "\n",
    "N = 100\n",
    "d = 1\n",
    "\n",
    "fig = ff.create_quiver(x=gt_enu[0:N:d,0], y=gt_enu[0:N:d,1], u=accels_global[0:N:d,1], v=accels_global[0:N:d,0], scale=1.0, )\n",
    "gt_traj = go.Scatter(x=gt_enu[0:N:d,0], y=gt_enu[0:N:d,1], hovertext=np.arange(N), name='Ground-truth')\n",
    "fig.add_trace(gt_traj)\n",
    "fig.update_layout(width=900, height=700, scene=dict(aspectmode='data'))\n",
    "fig.show()"
   ]
  },
  {
   "cell_type": "code",
   "execution_count": null,
   "metadata": {},
   "outputs": [],
   "source": [
    "fig = ff.create_quiver(x=gt_enu[0:100:1,0], y=gt_enu[0:100:1,1], u=accels_local[0:100:1,0], v=accels_local[0:100:1,1], scale=1.0, )\n",
    "gt_traj = go.Scatter(x=gt_enu[0:100:1,0], y=gt_enu[0:100:1,1], hovertext=np.arange(N), name='Ground-truth')\n",
    "fig.add_trace(gt_traj)\n",
    "fig.update_layout(width=900, height=700, scene=dict(aspectmode='data'))\n",
    "fig.show()"
   ]
  },
  {
   "cell_type": "code",
   "execution_count": null,
   "metadata": {},
   "outputs": [],
   "source": [
    "N = len(gt_enu)\n",
    "gt_traj = go.Scatter(x=gt_enu[:,0], y=gt_enu[:,1], hovertext=np.arange(N), name='Ground-truth')\n",
    "fig = go.Figure(data=[gt_traj])\n",
    "fig.update_layout(width=900, height=700, scene=dict(aspectmode='data'))\n",
    "fig.show()"
   ]
  },
  {
   "cell_type": "markdown",
   "metadata": {},
   "source": [
    "LiDAR odometry with ICP"
   ]
  },
  {
   "cell_type": "code",
   "execution_count": null,
   "metadata": {},
   "outputs": [],
   "source": [
    "import open3d as o3d\n",
    "from lgchimera.registration import initialize_source_and_target, p2p_ICP, p2pl_ICP, p2pl_ICP_with_covariance"
   ]
  },
  {
   "cell_type": "code",
   "execution_count": null,
   "metadata": {},
   "outputs": [],
   "source": [
    "from scipy.spatial.transform import Rotation as R\n",
    "\n",
    "heading = gt_data[0][5] # heading angle\n",
    "r = R.from_euler('XYZ', [0, 0, heading])\n",
    "R_heading = r.as_matrix()"
   ]
  },
  {
   "cell_type": "code",
   "execution_count": null,
   "metadata": {},
   "outputs": [],
   "source": [
    "# Load registration results from file\n",
    "data_path = os.path.join(os.getcwd(), '..', 'data', 'kitti', '2011_09_30_drive_0028_sync', 'results', 'p2pl_icp')\n",
    "lidar_Rs = np.load(os.path.join(data_path, 'lidar_Rs_start_1550.npy'))\n",
    "lidar_ts = np.load(os.path.join(data_path, 'lidar_ts_start_1550.npy'))\n",
    "positions = np.load(os.path.join(data_path, 'positions_start_1550.npy'))\n",
    "N = len(lidar_Rs)"
   ]
  },
  {
   "cell_type": "code",
   "execution_count": null,
   "metadata": {},
   "outputs": [],
   "source": [
    "N = len(PC_data)\n",
    "#N = 1000\n",
    "R_abs = R_heading\n",
    "t_abs = gt_ecef[0].copy()\n",
    "poses = N * [None]\n",
    "poses[0] = (R_abs.copy(), t_abs.copy())\n",
    "\n",
    "lidar_Rs = []\n",
    "lidar_ts = []\n",
    "lidar_covariances = []\n",
    "\n",
    "for i in range(1,N):\n",
    "    print(i, \"/\", N)\n",
    "    trans_init = np.eye(4)\n",
    "    threshold = 1\n",
    "    source, target = initialize_source_and_target(PC_data[i], PC_data[i-1])\n",
    "    #reg_p2p, eval_time = p2pl_ICP(source, target, threshold, trans_init)\n",
    "    reg_p2p, covariance = p2pl_ICP_with_covariance(source, target, threshold, trans_init)\n",
    "    R_hat = reg_p2p.transformation[:3,:3]\n",
    "    t_hat = reg_p2p.transformation[:3,3]\n",
    "    # R_hat = lidar_Rs[i-1]\n",
    "    # t_hat = lidar_ts[i-1]\n",
    "\n",
    "    lidar_Rs.append(R_hat)\n",
    "    lidar_ts.append(t_hat)\n",
    "    lidar_covariances.append(covariance)\n",
    "\n",
    "    t_abs += (R_abs @ t_hat).flatten()\n",
    "    R_abs = R_hat @ R_abs\n",
    "    poses[i] = (R_abs.copy(), t_abs.copy())"
   ]
  },
  {
   "cell_type": "code",
   "execution_count": null,
   "metadata": {},
   "outputs": [],
   "source": [
    "positions = np.zeros((N,3))\n",
    "for i in range(N):\n",
    "    positions[i] = poses[i][1]"
   ]
  },
  {
   "cell_type": "code",
   "execution_count": null,
   "metadata": {},
   "outputs": [],
   "source": [
    "# TODO: Save registration results to file\n",
    "data_path = os.path.join(os.getcwd(), '..', 'data', 'kitti', '2011_09_30_drive_0028_sync', 'results', 'p2pl_icp')\n",
    "np.save(os.path.join(data_path, 'lidar_Rs_start_1550.npy'), np.array(lidar_Rs))\n",
    "np.save(os.path.join(data_path, 'lidar_ts_start_1550.npy'), np.array(lidar_ts))\n",
    "np.save(os.path.join(data_path, 'positions_start_1550.npy'), positions)"
   ]
  },
  {
   "cell_type": "code",
   "execution_count": null,
   "metadata": {},
   "outputs": [],
   "source": [
    "lidar_traj = go.Scatter(x=positions[:,0], y=positions[:,1], hovertext=np.arange(N), name='Lidar odometry')\n",
    "gt_traj = go.Scatter(x=gt_ecef[:N,0], y=gt_ecef[:N,1], hovertext=np.arange(N), name='Ground-truth')\n",
    "fig = go.Figure(data=[gt_traj, lidar_traj])\n",
    "fig.update_layout(width=900, height=700, scene=dict(aspectmode='data'))\n",
    "fig.show()"
   ]
  },
  {
   "cell_type": "code",
   "execution_count": null,
   "metadata": {},
   "outputs": [],
   "source": [
    "gt_traj3d = go.Scatter3d(x=gt_ecef[:,0], y=gt_ecef[:,1], z=gt_ecef[:,2], marker=dict(size=2), hovertext=np.arange(N), name='Ground-truth')\n",
    "lidar_traj3d = go.Scatter3d(x=positions[:,0], y=positions[:,1], z=positions[:,2], marker=dict(size=2), hovertext=np.arange(N), name='Lidar odometry')\n",
    "fig = go.Figure(data=[gt_traj3d, lidar_traj3d])\n",
    "fig.update_layout(width=900, height=700, scene=dict(aspectmode='data'))\n",
    "fig.show()"
   ]
  },
  {
   "cell_type": "markdown",
   "metadata": {},
   "source": [
    "## Factor Graph test\n",
    "\n",
    "Lidar odometry and simulated GPS with noisy ground-truth"
   ]
  },
  {
   "cell_type": "code",
   "execution_count": null,
   "metadata": {},
   "outputs": [],
   "source": [
    "from lgchimera.pose_graph import PoseGraph\n",
    "\n",
    "g = PoseGraph()\n",
    "N_nodes = 1000\n",
    "\n",
    "# Add initial node\n",
    "R_abs = R_heading.copy()\n",
    "t_abs = gt_ecef[0].copy()\n",
    "g.add_node(1, (R_abs, t_abs))\n",
    "\n",
    "# GPS noise parameters\n",
    "gps_sigma = 0.2  # [m]\n",
    "\n",
    "# ICP parameters\n",
    "trans_init = np.eye(4)\n",
    "threshold = 1\n",
    "\n",
    "# For each new frame\n",
    "for i in range(1,N_nodes):\n",
    "    #print(i)\n",
    "\n",
    "    # Perform LiDAR odometry\n",
    "    # source, target = initialize_source_and_target(PC_data[i], PC_data[i-1])\n",
    "    # reg_p2p, eval_time = p2pl_ICP(source, target, threshold, trans_init)\n",
    "    # R_hat = np.array(reg_p2p.transformation[:3,:3])\n",
    "    # t_hat = np.array(reg_p2p.transformation[:3,3])\n",
    "    R_hat = np.array(lidar_Rs[i-1])\n",
    "    t_hat = np.array(lidar_ts[i-1])\n",
    "\n",
    "    # Initialize new node with LiDAR odometry estimate\n",
    "    R_abs = R_hat @ R_abs\n",
    "    t_abs += R_abs @ t_hat\n",
    "    g.add_node(i+1, (R_abs, t_abs))\n",
    "\n",
    "    # Add LiDAR odometry edge\n",
    "    g.add_edge([i, i+1], (R_hat, t_hat), information=np.eye(6))\n",
    "\n",
    "    # Simulate GPS measurement\n",
    "    gps_pos = gt_ecef[i] + np.random.normal(0, gps_sigma, 3)\n",
    "\n",
    "    # Add GPS factor and edge\n",
    "    g.add_factor(i+1, (np.eye(3), gps_pos))"
   ]
  },
  {
   "cell_type": "code",
   "execution_count": null,
   "metadata": {},
   "outputs": [],
   "source": [
    "gt_traj3d = go.Scatter3d(x=gt_ecef[:N_nodes,0], y=gt_ecef[:N_nodes,1], z=gt_ecef[:N_nodes,2], marker=dict(size=2), hovertext=np.arange(N), name='Ground-truth')\n",
    "fig = go.Figure(data=g.plot_trace()+[gt_traj3d])\n",
    "fig.update_layout(width=1600, height=900, scene=dict(aspectmode='data'))\n",
    "fig.show()"
   ]
  },
  {
   "cell_type": "code",
   "execution_count": null,
   "metadata": {},
   "outputs": [],
   "source": [
    "g.optimize()"
   ]
  },
  {
   "cell_type": "code",
   "execution_count": null,
   "metadata": {},
   "outputs": [],
   "source": [
    "fig = go.Figure(data=g.plot_trace()+[gt_traj3d])\n",
    "fig.update_layout(width=1600, height=900, scene=dict(aspectmode='data'))\n",
    "fig.show()"
   ]
  },
  {
   "attachments": {},
   "cell_type": "markdown",
   "metadata": {},
   "source": [
    "## Window-based optimization"
   ]
  },
  {
   "cell_type": "code",
   "execution_count": null,
   "metadata": {},
   "outputs": [],
   "source": [
    "from scipy.stats import chi2\n",
    "import matplotlib.pyplot as plt"
   ]
  },
  {
   "cell_type": "code",
   "execution_count": null,
   "metadata": {},
   "outputs": [],
   "source": [
    "alpha = 0.001\n",
    "dfs = np.arange(1, 300)\n",
    "Ts = chi2.ppf(1-alpha, df=dfs)\n",
    "#plt.plot(dfs, Ts)\n",
    "fig = go.Figure(data=go.Scatter(x=dfs, y=Ts))\n",
    "fig.update_layout(width=900, height=700, scene=dict(aspectmode='data'))\n",
    "fig.show()"
   ]
  },
  {
   "cell_type": "code",
   "execution_count": null,
   "metadata": {},
   "outputs": [],
   "source": [
    "# Chimera epoch - every 3 minutes = 180 seconds = 1800 frames\n",
    "# Window size: 10 seconds = 100 frames\n",
    "from lgchimera.pose_graph import PoseGraph\n",
    "\n",
    "g = PoseGraph()\n",
    "N_nodes = 100\n",
    "window_size = 10\n",
    "\n",
    "# Compute threshold\n",
    "alpha = 0.001\n",
    "T = chi2.ppf(1-alpha, df=3*window_size)\n",
    "print(\"Threshold = \", T)\n",
    "\n",
    "# Add initial node\n",
    "R_abs = R_heading.copy()\n",
    "t_abs = gt_ecef[0].copy()\n",
    "g.add_node(1, (R_abs, t_abs))\n",
    "\n",
    "# GPS noise parameters\n",
    "gps_sigma = 0.2  # [m]\n",
    "\n",
    "gps_spoofing_biases = np.arange(0, 10, 0.1)\n",
    "\n",
    "# ICP parameters\n",
    "trans_init = np.eye(4)\n",
    "threshold = 1\n",
    "\n",
    "# For each new frame\n",
    "for i in range(1,N_nodes):\n",
    "    start_time = time.time()\n",
    "\n",
    "    # Get LiDAR odometry\n",
    "    R_hat = np.array(lidar_Rs[i-1])\n",
    "    t_hat = np.array(lidar_ts[i-1])\n",
    "\n",
    "    # Initialize new node with LiDAR odometry estimate\n",
    "    R_abs = R_hat @ R_abs\n",
    "    t_abs += R_abs @ t_hat\n",
    "    g.add_node(i+1, (R_abs, t_abs))\n",
    "\n",
    "    # Add LiDAR odometry edge\n",
    "    lidar_information = np.eye(6)  # TODO: compute information matrix\n",
    "    g.add_edge([i, i+1], (R_hat, t_hat), information=lidar_information)\n",
    "\n",
    "    # Simulate GPS measurement\n",
    "    gps_pos = gt_ecef[i] + np.random.normal(0, gps_sigma, 3) \n",
    "    gps_pos[0] += gps_spoofing_biases[i]\n",
    "\n",
    "    # Add GPS factor and edge\n",
    "    gps_information = np.eye(6)\n",
    "    gps_information[:3,:3] *= 1/gps_sigma**2\n",
    "    gps_information[3:,3:] *= 1e-5  # Scale down information matrix for orientation \n",
    "    g.add_factor(i+1, (np.eye(3), gps_pos), information=gps_information)\n",
    "\n",
    "    # Optimize\n",
    "    g.optimize(window=(i+1-window_size, i+1))\n",
    "\n",
    "    # Compute test statistic\n",
    "    q = g.test_statistic()\n",
    "\n",
    "    # Time each iteration\n",
    "    print(i, \"/\", N_nodes, \": t=\", time.time() - start_time, \"s, q=\", q)\n",
    "    "
   ]
  },
  {
   "cell_type": "code",
   "execution_count": null,
   "metadata": {},
   "outputs": [],
   "source": [
    "alpha = 0.1\n",
    "T = chi2.ppf(1-alpha, df=3*window_size)\n",
    "T"
   ]
  },
  {
   "cell_type": "code",
   "execution_count": null,
   "metadata": {},
   "outputs": [],
   "source": [
    "positions = g.get_positions()"
   ]
  },
  {
   "cell_type": "code",
   "execution_count": null,
   "metadata": {},
   "outputs": [],
   "source": [
    "\n",
    "lidar_traj = go.Scatter(x=positions[:,0], y=positions[:,1], hovertext=np.arange(N), name='Factor graph')\n",
    "gt_traj = go.Scatter(x=gt_ecef[:N_nodes,0], y=gt_ecef[:N_nodes,1], hovertext=np.arange(N), name='Ground-truth')\n",
    "fig = go.Figure(data=[gt_traj, lidar_traj])\n",
    "fig.update_layout(width=900, height=700, scene=dict(aspectmode='data'))\n",
    "fig.show()"
   ]
  },
  {
   "cell_type": "code",
   "execution_count": null,
   "metadata": {},
   "outputs": [],
   "source": []
  }
 ],
 "metadata": {
  "kernelspec": {
   "display_name": "chimera",
   "language": "python",
   "name": "python3"
  },
  "language_info": {
   "codemirror_mode": {
    "name": "ipython",
    "version": 3
   },
   "file_extension": ".py",
   "mimetype": "text/x-python",
   "name": "python",
   "nbconvert_exporter": "python",
   "pygments_lexer": "ipython3",
   "version": "3.9.16 (main, Jan 11 2023, 16:05:54) \n[GCC 11.2.0]"
  },
  "orig_nbformat": 4,
  "vscode": {
   "interpreter": {
    "hash": "a5edd088d6b144d42777d3bfeb942dbfa3bc6a1fda937eadc36b79f380c5a6b9"
   }
  }
 },
 "nbformat": 4,
 "nbformat_minor": 2
}
